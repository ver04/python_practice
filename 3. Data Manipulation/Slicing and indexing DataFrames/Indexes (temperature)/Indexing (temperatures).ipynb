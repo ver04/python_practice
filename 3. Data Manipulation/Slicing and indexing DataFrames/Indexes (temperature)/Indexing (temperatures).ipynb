{
 "cells": [
  {
   "cell_type": "code",
   "execution_count": 2,
   "id": "de1493a9",
   "metadata": {},
   "outputs": [
    {
     "name": "stdout",
     "output_type": "stream",
     "text": [
      "       Unnamed: 0        date     city        country  avg_temp_c\n",
      "0               0  2000-01-01  Abidjan  Côte D'Ivoire      27.293\n",
      "1               1  2000-02-01  Abidjan  Côte D'Ivoire      27.685\n",
      "2               2  2000-03-01  Abidjan  Côte D'Ivoire      29.061\n",
      "3               3  2000-04-01  Abidjan  Côte D'Ivoire      28.162\n",
      "4               4  2000-05-01  Abidjan  Côte D'Ivoire      27.547\n",
      "...           ...         ...      ...            ...         ...\n",
      "16495       16495  2013-05-01     Xian          China      18.979\n",
      "16496       16496  2013-06-01     Xian          China      23.522\n",
      "16497       16497  2013-07-01     Xian          China      25.251\n",
      "16498       16498  2013-08-01     Xian          China      24.528\n",
      "16499       16499  2013-09-01     Xian          China         NaN\n",
      "\n",
      "[16500 rows x 5 columns]\n"
     ]
    }
   ],
   "source": [
    "import pandas as pd\n",
    "import numpy as np\n",
    "\n",
    "temperatures = pd.read_csv(\"temperatures.csv\")\n",
    "print(temperatures)"
   ]
  },
  {
   "cell_type": "markdown",
   "id": "85672d41",
   "metadata": {},
   "source": [
    "### Setting, reseting index"
   ]
  },
  {
   "cell_type": "code",
   "execution_count": 3,
   "id": "e02dbe43",
   "metadata": {},
   "outputs": [
    {
     "name": "stdout",
     "output_type": "stream",
     "text": [
      "         Unnamed: 0        date        country  avg_temp_c\n",
      "city                                                      \n",
      "Abidjan           0  2000-01-01  Côte D'Ivoire      27.293\n",
      "Abidjan           1  2000-02-01  Côte D'Ivoire      27.685\n",
      "Abidjan           2  2000-03-01  Côte D'Ivoire      29.061\n",
      "Abidjan           3  2000-04-01  Côte D'Ivoire      28.162\n",
      "Abidjan           4  2000-05-01  Côte D'Ivoire      27.547\n",
      "...             ...         ...            ...         ...\n",
      "Xian          16495  2013-05-01          China      18.979\n",
      "Xian          16496  2013-06-01          China      23.522\n",
      "Xian          16497  2013-07-01          China      25.251\n",
      "Xian          16498  2013-08-01          China      24.528\n",
      "Xian          16499  2013-09-01          China         NaN\n",
      "\n",
      "[16500 rows x 4 columns]\n"
     ]
    }
   ],
   "source": [
    "# Set the index of temperatures to city\n",
    "temperatures_ind = temperatures.set_index(\"city\")\n",
    "print(temperatures_ind)"
   ]
  },
  {
   "cell_type": "code",
   "execution_count": 4,
   "id": "fb2f1e73",
   "metadata": {},
   "outputs": [
    {
     "name": "stdout",
     "output_type": "stream",
     "text": [
      "          city  Unnamed: 0        date        country  avg_temp_c\n",
      "0      Abidjan           0  2000-01-01  Côte D'Ivoire      27.293\n",
      "1      Abidjan           1  2000-02-01  Côte D'Ivoire      27.685\n",
      "2      Abidjan           2  2000-03-01  Côte D'Ivoire      29.061\n",
      "3      Abidjan           3  2000-04-01  Côte D'Ivoire      28.162\n",
      "4      Abidjan           4  2000-05-01  Côte D'Ivoire      27.547\n",
      "...        ...         ...         ...            ...         ...\n",
      "16495     Xian       16495  2013-05-01          China      18.979\n",
      "16496     Xian       16496  2013-06-01          China      23.522\n",
      "16497     Xian       16497  2013-07-01          China      25.251\n",
      "16498     Xian       16498  2013-08-01          China      24.528\n",
      "16499     Xian       16499  2013-09-01          China         NaN\n",
      "\n",
      "[16500 rows x 5 columns]\n"
     ]
    }
   ],
   "source": [
    "# Reset the temperatures_ind index, keeping its contents\n",
    "print(temperatures_ind.reset_index())"
   ]
  },
  {
   "cell_type": "code",
   "execution_count": 5,
   "id": "1f25e9b2",
   "metadata": {},
   "outputs": [
    {
     "name": "stdout",
     "output_type": "stream",
     "text": [
      "       Unnamed: 0        date        country  avg_temp_c\n",
      "0               0  2000-01-01  Côte D'Ivoire      27.293\n",
      "1               1  2000-02-01  Côte D'Ivoire      27.685\n",
      "2               2  2000-03-01  Côte D'Ivoire      29.061\n",
      "3               3  2000-04-01  Côte D'Ivoire      28.162\n",
      "4               4  2000-05-01  Côte D'Ivoire      27.547\n",
      "...           ...         ...            ...         ...\n",
      "16495       16495  2013-05-01          China      18.979\n",
      "16496       16496  2013-06-01          China      23.522\n",
      "16497       16497  2013-07-01          China      25.251\n",
      "16498       16498  2013-08-01          China      24.528\n",
      "16499       16499  2013-09-01          China         NaN\n",
      "\n",
      "[16500 rows x 4 columns]\n"
     ]
    }
   ],
   "source": [
    "# Reset the temperatures_ind index, dropping its contents\n",
    "print(temperatures_ind.reset_index(drop=True))"
   ]
  },
  {
   "cell_type": "markdown",
   "id": "c78ba5fe",
   "metadata": {},
   "source": [
    "### Subseting with .loc()"
   ]
  },
  {
   "cell_type": "code",
   "execution_count": 6,
   "id": "8f0ea20d",
   "metadata": {},
   "outputs": [
    {
     "name": "stdout",
     "output_type": "stream",
     "text": [
      "       Unnamed: 0        date              city country  avg_temp_c\n",
      "10725       10725  2000-01-01            Moscow  Russia      -7.313\n",
      "10726       10726  2000-02-01            Moscow  Russia      -3.551\n",
      "10727       10727  2000-03-01            Moscow  Russia      -1.661\n",
      "10728       10728  2000-04-01            Moscow  Russia      10.096\n",
      "10729       10729  2000-05-01            Moscow  Russia      10.357\n",
      "...           ...         ...               ...     ...         ...\n",
      "13360       13360  2013-05-01  Saint Petersburg  Russia      12.355\n",
      "13361       13361  2013-06-01  Saint Petersburg  Russia      17.185\n",
      "13362       13362  2013-07-01  Saint Petersburg  Russia      17.234\n",
      "13363       13363  2013-08-01  Saint Petersburg  Russia      17.153\n",
      "13364       13364  2013-09-01  Saint Petersburg  Russia         NaN\n",
      "\n",
      "[330 rows x 5 columns]\n"
     ]
    }
   ],
   "source": [
    "# Make a list of cities to subset on\n",
    "cities = [\"Moscow\", \"Saint Petersburg\"]\n",
    "\n",
    "# Subset temperatures using square brackets\n",
    "print(temperatures[temperatures[\"city\"].isin(cities)])"
   ]
  },
  {
   "cell_type": "code",
   "execution_count": 23,
   "id": "b0ce97d8",
   "metadata": {},
   "outputs": [
    {
     "name": "stdout",
     "output_type": "stream",
     "text": [
      "                  Unnamed: 0        date country  avg_temp_c\n",
      "city                                                        \n",
      "Moscow                 10725  2000-01-01  Russia      -7.313\n",
      "Moscow                 10726  2000-02-01  Russia      -3.551\n",
      "Moscow                 10727  2000-03-01  Russia      -1.661\n",
      "Moscow                 10728  2000-04-01  Russia      10.096\n",
      "Moscow                 10729  2000-05-01  Russia      10.357\n",
      "...                      ...         ...     ...         ...\n",
      "Saint Petersburg       13360  2013-05-01  Russia      12.355\n",
      "Saint Petersburg       13361  2013-06-01  Russia      17.185\n",
      "Saint Petersburg       13362  2013-07-01  Russia      17.234\n",
      "Saint Petersburg       13363  2013-08-01  Russia      17.153\n",
      "Saint Petersburg       13364  2013-09-01  Russia         NaN\n",
      "\n",
      "[330 rows x 4 columns]\n"
     ]
    }
   ],
   "source": [
    "# Subset temperatures_ind using .loc[]\n",
    "print(temperatures_ind.loc[cities])"
   ]
  },
  {
   "cell_type": "code",
   "execution_count": 25,
   "id": "042ed486",
   "metadata": {},
   "outputs": [],
   "source": [
    "# print(sum(temperatures[\"city\"].isin(cities)))\n",
    "# temperatures[\"city\"].isin(cities)"
   ]
  },
  {
   "cell_type": "code",
   "execution_count": null,
   "id": "9d1f4822",
   "metadata": {},
   "outputs": [],
   "source": []
  },
  {
   "cell_type": "code",
   "execution_count": null,
   "id": "85e3030e",
   "metadata": {},
   "outputs": [],
   "source": []
  }
 ],
 "metadata": {
  "kernelspec": {
   "display_name": "Python 3 (ipykernel)",
   "language": "python",
   "name": "python3"
  },
  "language_info": {
   "codemirror_mode": {
    "name": "ipython",
    "version": 3
   },
   "file_extension": ".py",
   "mimetype": "text/x-python",
   "name": "python",
   "nbconvert_exporter": "python",
   "pygments_lexer": "ipython3",
   "version": "3.9.12"
  }
 },
 "nbformat": 4,
 "nbformat_minor": 5
}
