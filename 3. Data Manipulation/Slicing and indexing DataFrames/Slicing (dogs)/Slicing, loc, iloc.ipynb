{
 "cells": [
  {
   "cell_type": "markdown",
   "id": "86c5aaca",
   "metadata": {},
   "source": [
    "# Slicing lists"
   ]
  },
  {
   "cell_type": "code",
   "execution_count": 6,
   "id": "73f579dc",
   "metadata": {},
   "outputs": [
    {
     "data": {
      "text/plain": [
       "['Labrador', 'Poodle', 'Chow Chow', 'Labrador', 'Chihuahua', 'St. Bernard']"
      ]
     },
     "execution_count": 6,
     "metadata": {},
     "output_type": "execute_result"
    }
   ],
   "source": [
    "breeds = [\"Labrador\", \"Poodle\", \"Chow Chow\", \"Labrador\", \"Chihuahua\", \"St. Bernard\"]\n",
    "breeds"
   ]
  },
  {
   "cell_type": "code",
   "execution_count": 7,
   "id": "3b71fbc8",
   "metadata": {},
   "outputs": [
    {
     "data": {
      "text/plain": [
       "['Chow Chow', 'Labrador', 'Chihuahua']"
      ]
     },
     "execution_count": 7,
     "metadata": {},
     "output_type": "execute_result"
    }
   ],
   "source": [
    "# return elements 3 to 5\n",
    "breeds[2:5]"
   ]
  },
  {
   "cell_type": "code",
   "execution_count": 8,
   "id": "67ca5cf9",
   "metadata": {},
   "outputs": [
    {
     "data": {
      "text/plain": [
       "['Labrador', 'Poodle', 'Chow Chow']"
      ]
     },
     "execution_count": 8,
     "metadata": {},
     "output_type": "execute_result"
    }
   ],
   "source": [
    "# return first 3 elements\n",
    "breeds[:3]"
   ]
  },
  {
   "cell_type": "code",
   "execution_count": 9,
   "id": "8b1d53ab",
   "metadata": {},
   "outputs": [
    {
     "data": {
      "text/plain": [
       "['Labrador', 'Poodle', 'Chow Chow', 'Labrador', 'Chihuahua', 'St. Bernard']"
      ]
     },
     "execution_count": 9,
     "metadata": {},
     "output_type": "execute_result"
    }
   ],
   "source": [
    "# return whole list\n",
    "breeds[:]"
   ]
  },
  {
   "cell_type": "markdown",
   "id": "e09d4eb0",
   "metadata": {},
   "source": [
    "# Slicing dataframes"
   ]
  },
  {
   "cell_type": "code",
   "execution_count": 10,
   "id": "eff27d33",
   "metadata": {},
   "outputs": [
    {
     "name": "stdout",
     "output_type": "stream",
     "text": [
      "     name             breed  color  height_cm  weight_kg date_of_birth\n",
      "0   Bella         Chihuahua  Brown         18          2    2018-02-05\n",
      "1   Amigo          Labrador  Black         59         35    2016-08-12\n",
      "2  Trevis       St. Bernard  Brown         77         73    2019-07-24\n",
      "3   Golin             Husky  White         55         30    2015-06-18\n",
      "4    Lucy          Labrador  White         51         26    2020-04-29\n",
      "5     Max  Golden Retriever  Brown         49         21    2014-01-20\n",
      "6    Otto            Poodle  Brown         42         20    2013-06-27\n",
      "7    Rexo   German Shepherd  Brown         54         24    2018-05-21\n"
     ]
    }
   ],
   "source": [
    "import pandas as pd\n",
    "\n",
    "dogs = pd.read_csv(\"dogs_formatted.csv\")\n",
    "print(dogs)"
   ]
  },
  {
   "cell_type": "markdown",
   "id": "c1978e54",
   "metadata": {},
   "source": [
    "## Slicing index"
   ]
  },
  {
   "cell_type": "markdown",
   "id": "0f8a7cca",
   "metadata": {},
   "source": [
    "### Before slicing we need to sort the index"
   ]
  },
  {
   "cell_type": "code",
   "execution_count": 12,
   "id": "447e5107",
   "metadata": {},
   "outputs": [
    {
     "data": {
      "text/html": [
       "<div>\n",
       "<style scoped>\n",
       "    .dataframe tbody tr th:only-of-type {\n",
       "        vertical-align: middle;\n",
       "    }\n",
       "\n",
       "    .dataframe tbody tr th {\n",
       "        vertical-align: top;\n",
       "    }\n",
       "\n",
       "    .dataframe thead th {\n",
       "        text-align: right;\n",
       "    }\n",
       "</style>\n",
       "<table border=\"1\" class=\"dataframe\">\n",
       "  <thead>\n",
       "    <tr style=\"text-align: right;\">\n",
       "      <th></th>\n",
       "      <th></th>\n",
       "      <th>name</th>\n",
       "      <th>height_cm</th>\n",
       "      <th>weight_kg</th>\n",
       "      <th>date_of_birth</th>\n",
       "    </tr>\n",
       "    <tr>\n",
       "      <th>breed</th>\n",
       "      <th>color</th>\n",
       "      <th></th>\n",
       "      <th></th>\n",
       "      <th></th>\n",
       "      <th></th>\n",
       "    </tr>\n",
       "  </thead>\n",
       "  <tbody>\n",
       "    <tr>\n",
       "      <th>Chihuahua</th>\n",
       "      <th>Brown</th>\n",
       "      <td>Bella</td>\n",
       "      <td>18</td>\n",
       "      <td>2</td>\n",
       "      <td>2018-02-05</td>\n",
       "    </tr>\n",
       "    <tr>\n",
       "      <th>German Shepherd</th>\n",
       "      <th>Brown</th>\n",
       "      <td>Rexo</td>\n",
       "      <td>54</td>\n",
       "      <td>24</td>\n",
       "      <td>2018-05-21</td>\n",
       "    </tr>\n",
       "    <tr>\n",
       "      <th>Golden Retriever</th>\n",
       "      <th>Brown</th>\n",
       "      <td>Max</td>\n",
       "      <td>49</td>\n",
       "      <td>21</td>\n",
       "      <td>2014-01-20</td>\n",
       "    </tr>\n",
       "    <tr>\n",
       "      <th>Husky</th>\n",
       "      <th>White</th>\n",
       "      <td>Golin</td>\n",
       "      <td>55</td>\n",
       "      <td>30</td>\n",
       "      <td>2015-06-18</td>\n",
       "    </tr>\n",
       "    <tr>\n",
       "      <th rowspan=\"2\" valign=\"top\">Labrador</th>\n",
       "      <th>Black</th>\n",
       "      <td>Amigo</td>\n",
       "      <td>59</td>\n",
       "      <td>35</td>\n",
       "      <td>2016-08-12</td>\n",
       "    </tr>\n",
       "    <tr>\n",
       "      <th>White</th>\n",
       "      <td>Lucy</td>\n",
       "      <td>51</td>\n",
       "      <td>26</td>\n",
       "      <td>2020-04-29</td>\n",
       "    </tr>\n",
       "    <tr>\n",
       "      <th>Poodle</th>\n",
       "      <th>Brown</th>\n",
       "      <td>Otto</td>\n",
       "      <td>42</td>\n",
       "      <td>20</td>\n",
       "      <td>2013-06-27</td>\n",
       "    </tr>\n",
       "    <tr>\n",
       "      <th>St. Bernard</th>\n",
       "      <th>Brown</th>\n",
       "      <td>Trevis</td>\n",
       "      <td>77</td>\n",
       "      <td>73</td>\n",
       "      <td>2019-07-24</td>\n",
       "    </tr>\n",
       "  </tbody>\n",
       "</table>\n",
       "</div>"
      ],
      "text/plain": [
       "                          name  height_cm  weight_kg date_of_birth\n",
       "breed            color                                            \n",
       "Chihuahua        Brown   Bella         18          2    2018-02-05\n",
       "German Shepherd  Brown    Rexo         54         24    2018-05-21\n",
       "Golden Retriever Brown     Max         49         21    2014-01-20\n",
       "Husky            White   Golin         55         30    2015-06-18\n",
       "Labrador         Black   Amigo         59         35    2016-08-12\n",
       "                 White    Lucy         51         26    2020-04-29\n",
       "Poodle           Brown    Otto         42         20    2013-06-27\n",
       "St. Bernard      Brown  Trevis         77         73    2019-07-24"
      ]
     },
     "execution_count": 12,
     "metadata": {},
     "output_type": "execute_result"
    }
   ],
   "source": [
    "# set index, sort index for breed and color\n",
    "dogs_sort = dogs.set_index([\"breed\", \"color\"]).sort_index()\n",
    "dogs_sort"
   ]
  },
  {
   "cell_type": "markdown",
   "id": "0003322a",
   "metadata": {},
   "source": [
    "### Slicing the outer index"
   ]
  },
  {
   "cell_type": "code",
   "execution_count": 13,
   "id": "de7f39d9",
   "metadata": {},
   "outputs": [
    {
     "data": {
      "text/html": [
       "<div>\n",
       "<style scoped>\n",
       "    .dataframe tbody tr th:only-of-type {\n",
       "        vertical-align: middle;\n",
       "    }\n",
       "\n",
       "    .dataframe tbody tr th {\n",
       "        vertical-align: top;\n",
       "    }\n",
       "\n",
       "    .dataframe thead th {\n",
       "        text-align: right;\n",
       "    }\n",
       "</style>\n",
       "<table border=\"1\" class=\"dataframe\">\n",
       "  <thead>\n",
       "    <tr style=\"text-align: right;\">\n",
       "      <th></th>\n",
       "      <th></th>\n",
       "      <th>name</th>\n",
       "      <th>height_cm</th>\n",
       "      <th>weight_kg</th>\n",
       "      <th>date_of_birth</th>\n",
       "    </tr>\n",
       "    <tr>\n",
       "      <th>breed</th>\n",
       "      <th>color</th>\n",
       "      <th></th>\n",
       "      <th></th>\n",
       "      <th></th>\n",
       "      <th></th>\n",
       "    </tr>\n",
       "  </thead>\n",
       "  <tbody>\n",
       "    <tr>\n",
       "      <th>Husky</th>\n",
       "      <th>White</th>\n",
       "      <td>Golin</td>\n",
       "      <td>55</td>\n",
       "      <td>30</td>\n",
       "      <td>2015-06-18</td>\n",
       "    </tr>\n",
       "    <tr>\n",
       "      <th rowspan=\"2\" valign=\"top\">Labrador</th>\n",
       "      <th>Black</th>\n",
       "      <td>Amigo</td>\n",
       "      <td>59</td>\n",
       "      <td>35</td>\n",
       "      <td>2016-08-12</td>\n",
       "    </tr>\n",
       "    <tr>\n",
       "      <th>White</th>\n",
       "      <td>Lucy</td>\n",
       "      <td>51</td>\n",
       "      <td>26</td>\n",
       "      <td>2020-04-29</td>\n",
       "    </tr>\n",
       "    <tr>\n",
       "      <th>Poodle</th>\n",
       "      <th>Brown</th>\n",
       "      <td>Otto</td>\n",
       "      <td>42</td>\n",
       "      <td>20</td>\n",
       "      <td>2013-06-27</td>\n",
       "    </tr>\n",
       "    <tr>\n",
       "      <th>St. Bernard</th>\n",
       "      <th>Brown</th>\n",
       "      <td>Trevis</td>\n",
       "      <td>77</td>\n",
       "      <td>73</td>\n",
       "      <td>2019-07-24</td>\n",
       "    </tr>\n",
       "  </tbody>\n",
       "</table>\n",
       "</div>"
      ],
      "text/plain": [
       "                     name  height_cm  weight_kg date_of_birth\n",
       "breed       color                                            \n",
       "Husky       White   Golin         55         30    2015-06-18\n",
       "Labrador    Black   Amigo         59         35    2016-08-12\n",
       "            White    Lucy         51         26    2020-04-29\n",
       "Poodle      Brown    Otto         42         20    2013-06-27\n",
       "St. Bernard Brown  Trevis         77         73    2019-07-24"
      ]
     },
     "execution_count": 13,
     "metadata": {},
     "output_type": "execute_result"
    }
   ],
   "source": [
    "# be aware - last value is included!\n",
    "dogs_sort.loc[\"Husky\":\"St. Bernard\"]"
   ]
  },
  {
   "cell_type": "markdown",
   "id": "f3c109a1",
   "metadata": {},
   "source": [
    "### Slicing the inner index"
   ]
  },
  {
   "cell_type": "code",
   "execution_count": 14,
   "id": "1ba27fc8",
   "metadata": {},
   "outputs": [
    {
     "data": {
      "text/html": [
       "<div>\n",
       "<style scoped>\n",
       "    .dataframe tbody tr th:only-of-type {\n",
       "        vertical-align: middle;\n",
       "    }\n",
       "\n",
       "    .dataframe tbody tr th {\n",
       "        vertical-align: top;\n",
       "    }\n",
       "\n",
       "    .dataframe thead th {\n",
       "        text-align: right;\n",
       "    }\n",
       "</style>\n",
       "<table border=\"1\" class=\"dataframe\">\n",
       "  <thead>\n",
       "    <tr style=\"text-align: right;\">\n",
       "      <th></th>\n",
       "      <th></th>\n",
       "      <th>name</th>\n",
       "      <th>height_cm</th>\n",
       "      <th>weight_kg</th>\n",
       "      <th>date_of_birth</th>\n",
       "    </tr>\n",
       "    <tr>\n",
       "      <th>breed</th>\n",
       "      <th>color</th>\n",
       "      <th></th>\n",
       "      <th></th>\n",
       "      <th></th>\n",
       "      <th></th>\n",
       "    </tr>\n",
       "  </thead>\n",
       "  <tbody>\n",
       "    <tr>\n",
       "      <th>Chihuahua</th>\n",
       "      <th>Brown</th>\n",
       "      <td>Bella</td>\n",
       "      <td>18</td>\n",
       "      <td>2</td>\n",
       "      <td>2018-02-05</td>\n",
       "    </tr>\n",
       "    <tr>\n",
       "      <th>German Shepherd</th>\n",
       "      <th>Brown</th>\n",
       "      <td>Rexo</td>\n",
       "      <td>54</td>\n",
       "      <td>24</td>\n",
       "      <td>2018-05-21</td>\n",
       "    </tr>\n",
       "    <tr>\n",
       "      <th>Golden Retriever</th>\n",
       "      <th>Brown</th>\n",
       "      <td>Max</td>\n",
       "      <td>49</td>\n",
       "      <td>21</td>\n",
       "      <td>2014-01-20</td>\n",
       "    </tr>\n",
       "    <tr>\n",
       "      <th>Husky</th>\n",
       "      <th>White</th>\n",
       "      <td>Golin</td>\n",
       "      <td>55</td>\n",
       "      <td>30</td>\n",
       "      <td>2015-06-18</td>\n",
       "    </tr>\n",
       "    <tr>\n",
       "      <th>Labrador</th>\n",
       "      <th>Black</th>\n",
       "      <td>Amigo</td>\n",
       "      <td>59</td>\n",
       "      <td>35</td>\n",
       "      <td>2016-08-12</td>\n",
       "    </tr>\n",
       "  </tbody>\n",
       "</table>\n",
       "</div>"
      ],
      "text/plain": [
       "                         name  height_cm  weight_kg date_of_birth\n",
       "breed            color                                           \n",
       "Chihuahua        Brown  Bella         18          2    2018-02-05\n",
       "German Shepherd  Brown   Rexo         54         24    2018-05-21\n",
       "Golden Retriever Brown    Max         49         21    2014-01-20\n",
       "Husky            White  Golin         55         30    2015-06-18\n",
       "Labrador         Black  Amigo         59         35    2016-08-12"
      ]
     },
     "execution_count": 14,
     "metadata": {},
     "output_type": "execute_result"
    }
   ],
   "source": [
    "# correct way = include first and last position as tuples\n",
    "dogs_sort.loc[(\"Chihuahua\", \"Brown\"):(\"Labrador\", \"Black\")]"
   ]
  },
  {
   "cell_type": "markdown",
   "id": "75aeb8e4",
   "metadata": {},
   "source": [
    "### Slicing columns"
   ]
  },
  {
   "cell_type": "code",
   "execution_count": 16,
   "id": "d8db9701",
   "metadata": {},
   "outputs": [
    {
     "data": {
      "text/html": [
       "<div>\n",
       "<style scoped>\n",
       "    .dataframe tbody tr th:only-of-type {\n",
       "        vertical-align: middle;\n",
       "    }\n",
       "\n",
       "    .dataframe tbody tr th {\n",
       "        vertical-align: top;\n",
       "    }\n",
       "\n",
       "    .dataframe thead th {\n",
       "        text-align: right;\n",
       "    }\n",
       "</style>\n",
       "<table border=\"1\" class=\"dataframe\">\n",
       "  <thead>\n",
       "    <tr style=\"text-align: right;\">\n",
       "      <th></th>\n",
       "      <th></th>\n",
       "      <th>name</th>\n",
       "      <th>height_cm</th>\n",
       "      <th>weight_kg</th>\n",
       "    </tr>\n",
       "    <tr>\n",
       "      <th>breed</th>\n",
       "      <th>color</th>\n",
       "      <th></th>\n",
       "      <th></th>\n",
       "      <th></th>\n",
       "    </tr>\n",
       "  </thead>\n",
       "  <tbody>\n",
       "    <tr>\n",
       "      <th>Chihuahua</th>\n",
       "      <th>Brown</th>\n",
       "      <td>Bella</td>\n",
       "      <td>18</td>\n",
       "      <td>2</td>\n",
       "    </tr>\n",
       "    <tr>\n",
       "      <th>German Shepherd</th>\n",
       "      <th>Brown</th>\n",
       "      <td>Rexo</td>\n",
       "      <td>54</td>\n",
       "      <td>24</td>\n",
       "    </tr>\n",
       "    <tr>\n",
       "      <th>Golden Retriever</th>\n",
       "      <th>Brown</th>\n",
       "      <td>Max</td>\n",
       "      <td>49</td>\n",
       "      <td>21</td>\n",
       "    </tr>\n",
       "    <tr>\n",
       "      <th>Husky</th>\n",
       "      <th>White</th>\n",
       "      <td>Golin</td>\n",
       "      <td>55</td>\n",
       "      <td>30</td>\n",
       "    </tr>\n",
       "    <tr>\n",
       "      <th rowspan=\"2\" valign=\"top\">Labrador</th>\n",
       "      <th>Black</th>\n",
       "      <td>Amigo</td>\n",
       "      <td>59</td>\n",
       "      <td>35</td>\n",
       "    </tr>\n",
       "    <tr>\n",
       "      <th>White</th>\n",
       "      <td>Lucy</td>\n",
       "      <td>51</td>\n",
       "      <td>26</td>\n",
       "    </tr>\n",
       "    <tr>\n",
       "      <th>Poodle</th>\n",
       "      <th>Brown</th>\n",
       "      <td>Otto</td>\n",
       "      <td>42</td>\n",
       "      <td>20</td>\n",
       "    </tr>\n",
       "    <tr>\n",
       "      <th>St. Bernard</th>\n",
       "      <th>Brown</th>\n",
       "      <td>Trevis</td>\n",
       "      <td>77</td>\n",
       "      <td>73</td>\n",
       "    </tr>\n",
       "  </tbody>\n",
       "</table>\n",
       "</div>"
      ],
      "text/plain": [
       "                          name  height_cm  weight_kg\n",
       "breed            color                              \n",
       "Chihuahua        Brown   Bella         18          2\n",
       "German Shepherd  Brown    Rexo         54         24\n",
       "Golden Retriever Brown     Max         49         21\n",
       "Husky            White   Golin         55         30\n",
       "Labrador         Black   Amigo         59         35\n",
       "                 White    Lucy         51         26\n",
       "Poodle           Brown    Otto         42         20\n",
       "St. Bernard      Brown  Trevis         77         73"
      ]
     },
     "execution_count": 16,
     "metadata": {},
     "output_type": "execute_result"
    }
   ],
   "source": [
    "# return all rows, but slice columns\n",
    "dogs_sort.loc[:, \"name\": \"weight_kg\"]"
   ]
  },
  {
   "cell_type": "markdown",
   "id": "86a676ee",
   "metadata": {},
   "source": [
    "#### Slicing twice"
   ]
  },
  {
   "cell_type": "code",
   "execution_count": 20,
   "id": "e7702664",
   "metadata": {},
   "outputs": [
    {
     "data": {
      "text/html": [
       "<div>\n",
       "<style scoped>\n",
       "    .dataframe tbody tr th:only-of-type {\n",
       "        vertical-align: middle;\n",
       "    }\n",
       "\n",
       "    .dataframe tbody tr th {\n",
       "        vertical-align: top;\n",
       "    }\n",
       "\n",
       "    .dataframe thead th {\n",
       "        text-align: right;\n",
       "    }\n",
       "</style>\n",
       "<table border=\"1\" class=\"dataframe\">\n",
       "  <thead>\n",
       "    <tr style=\"text-align: right;\">\n",
       "      <th></th>\n",
       "      <th></th>\n",
       "      <th>name</th>\n",
       "      <th>height_cm</th>\n",
       "    </tr>\n",
       "    <tr>\n",
       "      <th>breed</th>\n",
       "      <th>color</th>\n",
       "      <th></th>\n",
       "      <th></th>\n",
       "    </tr>\n",
       "  </thead>\n",
       "  <tbody>\n",
       "    <tr>\n",
       "      <th>Husky</th>\n",
       "      <th>White</th>\n",
       "      <td>Golin</td>\n",
       "      <td>55</td>\n",
       "    </tr>\n",
       "    <tr>\n",
       "      <th rowspan=\"2\" valign=\"top\">Labrador</th>\n",
       "      <th>Black</th>\n",
       "      <td>Amigo</td>\n",
       "      <td>59</td>\n",
       "    </tr>\n",
       "    <tr>\n",
       "      <th>White</th>\n",
       "      <td>Lucy</td>\n",
       "      <td>51</td>\n",
       "    </tr>\n",
       "  </tbody>\n",
       "</table>\n",
       "</div>"
      ],
      "text/plain": [
       "                 name  height_cm\n",
       "breed    color                  \n",
       "Husky    White  Golin         55\n",
       "Labrador Black  Amigo         59\n",
       "         White   Lucy         51"
      ]
     },
     "execution_count": 20,
     "metadata": {},
     "output_type": "execute_result"
    }
   ],
   "source": [
    "dogs_sort.loc[(\"Husky\", \"White\"):(\"Labrador\", \"Black\"), \n",
    "              \"name\": \"height_kg\"]"
   ]
  },
  {
   "cell_type": "markdown",
   "id": "11af5428",
   "metadata": {},
   "source": [
    "### Date slicing"
   ]
  },
  {
   "cell_type": "code",
   "execution_count": 24,
   "id": "a84666dd",
   "metadata": {},
   "outputs": [
    {
     "data": {
      "text/html": [
       "<div>\n",
       "<style scoped>\n",
       "    .dataframe tbody tr th:only-of-type {\n",
       "        vertical-align: middle;\n",
       "    }\n",
       "\n",
       "    .dataframe tbody tr th {\n",
       "        vertical-align: top;\n",
       "    }\n",
       "\n",
       "    .dataframe thead th {\n",
       "        text-align: right;\n",
       "    }\n",
       "</style>\n",
       "<table border=\"1\" class=\"dataframe\">\n",
       "  <thead>\n",
       "    <tr style=\"text-align: right;\">\n",
       "      <th></th>\n",
       "      <th>name</th>\n",
       "      <th>breed</th>\n",
       "      <th>color</th>\n",
       "      <th>height_cm</th>\n",
       "      <th>weight_kg</th>\n",
       "    </tr>\n",
       "    <tr>\n",
       "      <th>date_of_birth</th>\n",
       "      <th></th>\n",
       "      <th></th>\n",
       "      <th></th>\n",
       "      <th></th>\n",
       "      <th></th>\n",
       "    </tr>\n",
       "  </thead>\n",
       "  <tbody>\n",
       "    <tr>\n",
       "      <th>2013-06-27</th>\n",
       "      <td>Otto</td>\n",
       "      <td>Poodle</td>\n",
       "      <td>Brown</td>\n",
       "      <td>42</td>\n",
       "      <td>20</td>\n",
       "    </tr>\n",
       "    <tr>\n",
       "      <th>2014-01-20</th>\n",
       "      <td>Max</td>\n",
       "      <td>Golden Retriever</td>\n",
       "      <td>Brown</td>\n",
       "      <td>49</td>\n",
       "      <td>21</td>\n",
       "    </tr>\n",
       "    <tr>\n",
       "      <th>2015-06-18</th>\n",
       "      <td>Golin</td>\n",
       "      <td>Husky</td>\n",
       "      <td>White</td>\n",
       "      <td>55</td>\n",
       "      <td>30</td>\n",
       "    </tr>\n",
       "    <tr>\n",
       "      <th>2016-08-12</th>\n",
       "      <td>Amigo</td>\n",
       "      <td>Labrador</td>\n",
       "      <td>Black</td>\n",
       "      <td>59</td>\n",
       "      <td>35</td>\n",
       "    </tr>\n",
       "    <tr>\n",
       "      <th>2018-02-05</th>\n",
       "      <td>Bella</td>\n",
       "      <td>Chihuahua</td>\n",
       "      <td>Brown</td>\n",
       "      <td>18</td>\n",
       "      <td>2</td>\n",
       "    </tr>\n",
       "    <tr>\n",
       "      <th>2018-05-21</th>\n",
       "      <td>Rexo</td>\n",
       "      <td>German Shepherd</td>\n",
       "      <td>Brown</td>\n",
       "      <td>54</td>\n",
       "      <td>24</td>\n",
       "    </tr>\n",
       "    <tr>\n",
       "      <th>2019-07-24</th>\n",
       "      <td>Trevis</td>\n",
       "      <td>St. Bernard</td>\n",
       "      <td>Brown</td>\n",
       "      <td>77</td>\n",
       "      <td>73</td>\n",
       "    </tr>\n",
       "    <tr>\n",
       "      <th>2020-04-29</th>\n",
       "      <td>Lucy</td>\n",
       "      <td>Labrador</td>\n",
       "      <td>White</td>\n",
       "      <td>51</td>\n",
       "      <td>26</td>\n",
       "    </tr>\n",
       "  </tbody>\n",
       "</table>\n",
       "</div>"
      ],
      "text/plain": [
       "                 name             breed  color  height_cm  weight_kg\n",
       "date_of_birth                                                       \n",
       "2013-06-27       Otto            Poodle  Brown         42         20\n",
       "2014-01-20        Max  Golden Retriever  Brown         49         21\n",
       "2015-06-18      Golin             Husky  White         55         30\n",
       "2016-08-12      Amigo          Labrador  Black         59         35\n",
       "2018-02-05      Bella         Chihuahua  Brown         18          2\n",
       "2018-05-21       Rexo   German Shepherd  Brown         54         24\n",
       "2019-07-24     Trevis       St. Bernard  Brown         77         73\n",
       "2020-04-29       Lucy          Labrador  White         51         26"
      ]
     },
     "execution_count": 24,
     "metadata": {},
     "output_type": "execute_result"
    }
   ],
   "source": [
    "dogs = pd.read_csv(\"dogs_formatted.csv\")\n",
    "\n",
    "dogs_dt = dogs.set_index(\"date_of_birth\").sort_index()\n",
    "dogs_dt"
   ]
  },
  {
   "cell_type": "code",
   "execution_count": 28,
   "id": "3ae983e6",
   "metadata": {},
   "outputs": [
    {
     "data": {
      "text/html": [
       "<div>\n",
       "<style scoped>\n",
       "    .dataframe tbody tr th:only-of-type {\n",
       "        vertical-align: middle;\n",
       "    }\n",
       "\n",
       "    .dataframe tbody tr th {\n",
       "        vertical-align: top;\n",
       "    }\n",
       "\n",
       "    .dataframe thead th {\n",
       "        text-align: right;\n",
       "    }\n",
       "</style>\n",
       "<table border=\"1\" class=\"dataframe\">\n",
       "  <thead>\n",
       "    <tr style=\"text-align: right;\">\n",
       "      <th></th>\n",
       "      <th>name</th>\n",
       "      <th>breed</th>\n",
       "      <th>color</th>\n",
       "      <th>height_cm</th>\n",
       "      <th>weight_kg</th>\n",
       "    </tr>\n",
       "    <tr>\n",
       "      <th>date_of_birth</th>\n",
       "      <th></th>\n",
       "      <th></th>\n",
       "      <th></th>\n",
       "      <th></th>\n",
       "      <th></th>\n",
       "    </tr>\n",
       "  </thead>\n",
       "  <tbody>\n",
       "    <tr>\n",
       "      <th>2018-02-05</th>\n",
       "      <td>Bella</td>\n",
       "      <td>Chihuahua</td>\n",
       "      <td>Brown</td>\n",
       "      <td>18</td>\n",
       "      <td>2</td>\n",
       "    </tr>\n",
       "    <tr>\n",
       "      <th>2018-05-21</th>\n",
       "      <td>Rexo</td>\n",
       "      <td>German Shepherd</td>\n",
       "      <td>Brown</td>\n",
       "      <td>54</td>\n",
       "      <td>24</td>\n",
       "    </tr>\n",
       "    <tr>\n",
       "      <th>2019-07-24</th>\n",
       "      <td>Trevis</td>\n",
       "      <td>St. Bernard</td>\n",
       "      <td>Brown</td>\n",
       "      <td>77</td>\n",
       "      <td>73</td>\n",
       "    </tr>\n",
       "    <tr>\n",
       "      <th>2020-04-29</th>\n",
       "      <td>Lucy</td>\n",
       "      <td>Labrador</td>\n",
       "      <td>White</td>\n",
       "      <td>51</td>\n",
       "      <td>26</td>\n",
       "    </tr>\n",
       "  </tbody>\n",
       "</table>\n",
       "</div>"
      ],
      "text/plain": [
       "                 name            breed  color  height_cm  weight_kg\n",
       "date_of_birth                                                      \n",
       "2018-02-05      Bella        Chihuahua  Brown         18          2\n",
       "2018-05-21       Rexo  German Shepherd  Brown         54         24\n",
       "2019-07-24     Trevis      St. Bernard  Brown         77         73\n",
       "2020-04-29       Lucy         Labrador  White         51         26"
      ]
     },
     "execution_count": 28,
     "metadata": {},
     "output_type": "execute_result"
    }
   ],
   "source": [
    "# return dogs born between \n",
    "dogs_dt.loc[\"2018-01-01\":\"2020-04-29\"]"
   ]
  },
  {
   "cell_type": "code",
   "execution_count": 29,
   "id": "705d4170",
   "metadata": {},
   "outputs": [
    {
     "data": {
      "text/html": [
       "<div>\n",
       "<style scoped>\n",
       "    .dataframe tbody tr th:only-of-type {\n",
       "        vertical-align: middle;\n",
       "    }\n",
       "\n",
       "    .dataframe tbody tr th {\n",
       "        vertical-align: top;\n",
       "    }\n",
       "\n",
       "    .dataframe thead th {\n",
       "        text-align: right;\n",
       "    }\n",
       "</style>\n",
       "<table border=\"1\" class=\"dataframe\">\n",
       "  <thead>\n",
       "    <tr style=\"text-align: right;\">\n",
       "      <th></th>\n",
       "      <th>name</th>\n",
       "      <th>breed</th>\n",
       "      <th>color</th>\n",
       "      <th>height_cm</th>\n",
       "      <th>weight_kg</th>\n",
       "    </tr>\n",
       "    <tr>\n",
       "      <th>date_of_birth</th>\n",
       "      <th></th>\n",
       "      <th></th>\n",
       "      <th></th>\n",
       "      <th></th>\n",
       "      <th></th>\n",
       "    </tr>\n",
       "  </thead>\n",
       "  <tbody>\n",
       "    <tr>\n",
       "      <th>2015-06-18</th>\n",
       "      <td>Golin</td>\n",
       "      <td>Husky</td>\n",
       "      <td>White</td>\n",
       "      <td>55</td>\n",
       "      <td>30</td>\n",
       "    </tr>\n",
       "    <tr>\n",
       "      <th>2016-08-12</th>\n",
       "      <td>Amigo</td>\n",
       "      <td>Labrador</td>\n",
       "      <td>Black</td>\n",
       "      <td>59</td>\n",
       "      <td>35</td>\n",
       "    </tr>\n",
       "    <tr>\n",
       "      <th>2018-02-05</th>\n",
       "      <td>Bella</td>\n",
       "      <td>Chihuahua</td>\n",
       "      <td>Brown</td>\n",
       "      <td>18</td>\n",
       "      <td>2</td>\n",
       "    </tr>\n",
       "    <tr>\n",
       "      <th>2018-05-21</th>\n",
       "      <td>Rexo</td>\n",
       "      <td>German Shepherd</td>\n",
       "      <td>Brown</td>\n",
       "      <td>54</td>\n",
       "      <td>24</td>\n",
       "    </tr>\n",
       "    <tr>\n",
       "      <th>2019-07-24</th>\n",
       "      <td>Trevis</td>\n",
       "      <td>St. Bernard</td>\n",
       "      <td>Brown</td>\n",
       "      <td>77</td>\n",
       "      <td>73</td>\n",
       "    </tr>\n",
       "  </tbody>\n",
       "</table>\n",
       "</div>"
      ],
      "text/plain": [
       "                 name            breed  color  height_cm  weight_kg\n",
       "date_of_birth                                                      \n",
       "2015-06-18      Golin            Husky  White         55         30\n",
       "2016-08-12      Amigo         Labrador  Black         59         35\n",
       "2018-02-05      Bella        Chihuahua  Brown         18          2\n",
       "2018-05-21       Rexo  German Shepherd  Brown         54         24\n",
       "2019-07-24     Trevis      St. Bernard  Brown         77         73"
      ]
     },
     "execution_count": 29,
     "metadata": {},
     "output_type": "execute_result"
    }
   ],
   "source": [
    "dogs_dt.loc[\"2015\":\"2020\"]"
   ]
  },
  {
   "cell_type": "markdown",
   "id": "61106eb4",
   "metadata": {},
   "source": [
    "### Subsetting by row/column number"
   ]
  },
  {
   "cell_type": "code",
   "execution_count": 33,
   "id": "0b5c377e",
   "metadata": {},
   "outputs": [
    {
     "name": "stdout",
     "output_type": "stream",
     "text": [
      "         breed  color  height_cm\n",
      "2  St. Bernard  Brown         77\n",
      "3        Husky  White         55\n",
      "4     Labrador  White         51\n"
     ]
    }
   ],
   "source": [
    "# be aware - the final values are not included \n",
    "print(dogs.iloc[2:5, 1:4])"
   ]
  }
 ],
 "metadata": {
  "kernelspec": {
   "display_name": "Python 3 (ipykernel)",
   "language": "python",
   "name": "python3"
  },
  "language_info": {
   "codemirror_mode": {
    "name": "ipython",
    "version": 3
   },
   "file_extension": ".py",
   "mimetype": "text/x-python",
   "name": "python",
   "nbconvert_exporter": "python",
   "pygments_lexer": "ipython3",
   "version": "3.9.12"
  }
 },
 "nbformat": 4,
 "nbformat_minor": 5
}
