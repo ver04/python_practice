{
 "cells": [
  {
   "cell_type": "markdown",
   "id": "41f5c4f8",
   "metadata": {},
   "source": [
    "### Imports "
   ]
  },
  {
   "cell_type": "code",
   "execution_count": 1,
   "id": "cda29695",
   "metadata": {},
   "outputs": [
    {
     "name": "stdout",
     "output_type": "stream",
     "text": [
      "       Unnamed: 0        date     city        country  avg_temp_c\n",
      "0               0  2000-01-01  Abidjan  Côte D'Ivoire      27.293\n",
      "1               1  2000-02-01  Abidjan  Côte D'Ivoire      27.685\n",
      "2               2  2000-03-01  Abidjan  Côte D'Ivoire      29.061\n",
      "3               3  2000-04-01  Abidjan  Côte D'Ivoire      28.162\n",
      "4               4  2000-05-01  Abidjan  Côte D'Ivoire      27.547\n",
      "...           ...         ...      ...            ...         ...\n",
      "16495       16495  2013-05-01     Xian          China      18.979\n",
      "16496       16496  2013-06-01     Xian          China      23.522\n",
      "16497       16497  2013-07-01     Xian          China      25.251\n",
      "16498       16498  2013-08-01     Xian          China      24.528\n",
      "16499       16499  2013-09-01     Xian          China         NaN\n",
      "\n",
      "[16500 rows x 5 columns]\n"
     ]
    }
   ],
   "source": [
    "import pandas as pd\n",
    "import numpy as np\n",
    "\n",
    "temperatures = pd.read_csv(\"temperatures.csv\")\n",
    "print(temperatures)"
   ]
  },
  {
   "cell_type": "markdown",
   "id": "ff404f39",
   "metadata": {},
   "source": [
    "## Subset by single level index"
   ]
  },
  {
   "cell_type": "code",
   "execution_count": 3,
   "id": "c8206038",
   "metadata": {},
   "outputs": [
    {
     "name": "stdout",
     "output_type": "stream",
     "text": [
      "         Unnamed: 0        date        country  avg_temp_c\n",
      "city                                                      \n",
      "Abidjan           0  2000-01-01  Côte D'Ivoire      27.293\n",
      "Abidjan           1  2000-02-01  Côte D'Ivoire      27.685\n",
      "Abidjan           2  2000-03-01  Côte D'Ivoire      29.061\n",
      "Abidjan           3  2000-04-01  Côte D'Ivoire      28.162\n",
      "Abidjan           4  2000-05-01  Côte D'Ivoire      27.547\n",
      "...             ...         ...            ...         ...\n",
      "Xian          16495  2013-05-01          China      18.979\n",
      "Xian          16496  2013-06-01          China      23.522\n",
      "Xian          16497  2013-07-01          China      25.251\n",
      "Xian          16498  2013-08-01          China      24.528\n",
      "Xian          16499  2013-09-01          China         NaN\n",
      "\n",
      "[16500 rows x 4 columns]\n"
     ]
    }
   ],
   "source": [
    "# Set the index of temperatures to city\n",
    "temperatures_ind = temperatures.set_index(\"city\")\n",
    "print(temperatures_ind)"
   ]
  },
  {
   "cell_type": "code",
   "execution_count": 5,
   "id": "0c6e794b",
   "metadata": {},
   "outputs": [
    {
     "name": "stdout",
     "output_type": "stream",
     "text": [
      "         Unnamed: 0        date        country  avg_temp_c\n",
      "city                                                      \n",
      "Abidjan           0  2000-01-01  Côte D'Ivoire      27.293\n",
      "Abidjan         106  2008-11-01  Côte D'Ivoire      27.302\n",
      "Abidjan         107  2008-12-01  Côte D'Ivoire      27.472\n",
      "Abidjan         108  2009-01-01  Côte D'Ivoire      26.912\n",
      "Abidjan         109  2009-02-01  Côte D'Ivoire      28.224\n"
     ]
    }
   ],
   "source": [
    "# Sort the index of temperatures_ind\n",
    "temperatures_srt = temperatures_ind.sort_index()\n",
    "print(temperatures_srt.head())"
   ]
  },
  {
   "cell_type": "code",
   "execution_count": 22,
   "id": "1cb4d6e0",
   "metadata": {},
   "outputs": [
    {
     "name": "stdout",
     "output_type": "stream",
     "text": [
      "       Unnamed: 0        date country  avg_temp_c\n",
      "city                                             \n",
      "Paris       11991  2009-04-01  France      12.098\n",
      "Paris       11990  2009-03-01  France       7.197\n",
      "Paris       11986  2008-11-01  France       7.512\n",
      "Paris       11988  2009-01-01  France       0.981\n",
      "Paris       11987  2008-12-01  France       2.891\n",
      "...           ...         ...     ...         ...\n",
      "Rome        12925  2004-08-01   Italy      22.825\n",
      "Rome        12926  2004-09-01   Italy      18.680\n",
      "Rome        12927  2004-10-01   Italy      15.510\n",
      "Rome        12928  2004-11-01   Italy       8.556\n",
      "Rome        12921  2004-04-01   Italy      10.407\n",
      "\n",
      "[1155 rows x 4 columns]\n"
     ]
    }
   ],
   "source": [
    "# Subset rows from Pakistan to Russia\n",
    "print(temperatures_srt.loc[\"Pakistan\" : \"Russia\"])"
   ]
  },
  {
   "cell_type": "code",
   "execution_count": 14,
   "id": "6cac5d49",
   "metadata": {},
   "outputs": [
    {
     "data": {
      "text/html": [
       "<div>\n",
       "<style scoped>\n",
       "    .dataframe tbody tr th:only-of-type {\n",
       "        vertical-align: middle;\n",
       "    }\n",
       "\n",
       "    .dataframe tbody tr th {\n",
       "        vertical-align: top;\n",
       "    }\n",
       "\n",
       "    .dataframe thead th {\n",
       "        text-align: right;\n",
       "    }\n",
       "</style>\n",
       "<table border=\"1\" class=\"dataframe\">\n",
       "  <thead>\n",
       "    <tr style=\"text-align: right;\">\n",
       "      <th></th>\n",
       "      <th>Unnamed: 0</th>\n",
       "      <th>date</th>\n",
       "      <th>country</th>\n",
       "      <th>avg_temp_c</th>\n",
       "    </tr>\n",
       "    <tr>\n",
       "      <th>city</th>\n",
       "      <th></th>\n",
       "      <th></th>\n",
       "      <th></th>\n",
       "      <th></th>\n",
       "    </tr>\n",
       "  </thead>\n",
       "  <tbody>\n",
       "    <tr>\n",
       "      <th>Lahore</th>\n",
       "      <td>8526</td>\n",
       "      <td>2009-04-01</td>\n",
       "      <td>Pakistan</td>\n",
       "      <td>27.062</td>\n",
       "    </tr>\n",
       "    <tr>\n",
       "      <th>Lahore</th>\n",
       "      <td>8520</td>\n",
       "      <td>2008-10-01</td>\n",
       "      <td>Pakistan</td>\n",
       "      <td>27.257</td>\n",
       "    </tr>\n",
       "    <tr>\n",
       "      <th>Lahore</th>\n",
       "      <td>8521</td>\n",
       "      <td>2008-11-01</td>\n",
       "      <td>Pakistan</td>\n",
       "      <td>20.205</td>\n",
       "    </tr>\n",
       "    <tr>\n",
       "      <th>Lahore</th>\n",
       "      <td>8522</td>\n",
       "      <td>2008-12-01</td>\n",
       "      <td>Pakistan</td>\n",
       "      <td>15.522</td>\n",
       "    </tr>\n",
       "    <tr>\n",
       "      <th>Lahore</th>\n",
       "      <td>8523</td>\n",
       "      <td>2009-01-01</td>\n",
       "      <td>Pakistan</td>\n",
       "      <td>14.174</td>\n",
       "    </tr>\n",
       "    <tr>\n",
       "      <th>...</th>\n",
       "      <td>...</td>\n",
       "      <td>...</td>\n",
       "      <td>...</td>\n",
       "      <td>...</td>\n",
       "    </tr>\n",
       "    <tr>\n",
       "      <th>Moscow</th>\n",
       "      <td>10780</td>\n",
       "      <td>2004-08-01</td>\n",
       "      <td>Russia</td>\n",
       "      <td>17.955</td>\n",
       "    </tr>\n",
       "    <tr>\n",
       "      <th>Moscow</th>\n",
       "      <td>10783</td>\n",
       "      <td>2004-11-01</td>\n",
       "      <td>Russia</td>\n",
       "      <td>-2.191</td>\n",
       "    </tr>\n",
       "    <tr>\n",
       "      <th>Moscow</th>\n",
       "      <td>10778</td>\n",
       "      <td>2004-06-01</td>\n",
       "      <td>Russia</td>\n",
       "      <td>14.791</td>\n",
       "    </tr>\n",
       "    <tr>\n",
       "      <th>Moscow</th>\n",
       "      <td>10777</td>\n",
       "      <td>2004-05-01</td>\n",
       "      <td>Russia</td>\n",
       "      <td>10.914</td>\n",
       "    </tr>\n",
       "    <tr>\n",
       "      <th>Moscow</th>\n",
       "      <td>10779</td>\n",
       "      <td>2004-07-01</td>\n",
       "      <td>Russia</td>\n",
       "      <td>18.381</td>\n",
       "    </tr>\n",
       "  </tbody>\n",
       "</table>\n",
       "<p>2475 rows × 4 columns</p>\n",
       "</div>"
      ],
      "text/plain": [
       "        Unnamed: 0        date   country  avg_temp_c\n",
       "city                                                \n",
       "Lahore        8526  2009-04-01  Pakistan      27.062\n",
       "Lahore        8520  2008-10-01  Pakistan      27.257\n",
       "Lahore        8521  2008-11-01  Pakistan      20.205\n",
       "Lahore        8522  2008-12-01  Pakistan      15.522\n",
       "Lahore        8523  2009-01-01  Pakistan      14.174\n",
       "...            ...         ...       ...         ...\n",
       "Moscow       10780  2004-08-01    Russia      17.955\n",
       "Moscow       10783  2004-11-01    Russia      -2.191\n",
       "Moscow       10778  2004-06-01    Russia      14.791\n",
       "Moscow       10777  2004-05-01    Russia      10.914\n",
       "Moscow       10779  2004-07-01    Russia      18.381\n",
       "\n",
       "[2475 rows x 4 columns]"
      ]
     },
     "execution_count": 14,
     "metadata": {},
     "output_type": "execute_result"
    }
   ],
   "source": [
    "# Try to subset rows from Lahore to Moscow\n",
    "temperatures_srt.loc[\"Lahore\" : \"Moscow\"]"
   ]
  },
  {
   "cell_type": "markdown",
   "id": "85afe136",
   "metadata": {},
   "source": [
    "## Subset by hierarchical index"
   ]
  },
  {
   "cell_type": "code",
   "execution_count": 20,
   "id": "17f2d229",
   "metadata": {},
   "outputs": [
    {
     "name": "stdout",
     "output_type": "stream",
     "text": [
      "                    Unnamed: 0        date  avg_temp_c\n",
      "country     city                                      \n",
      "Afghanistan Kabul         7260  2000-01-01       3.326\n",
      "            Kabul         7261  2000-02-01       3.454\n",
      "            Kabul         7262  2000-03-01       9.612\n",
      "            Kabul         7263  2000-04-01      17.925\n",
      "            Kabul         7264  2000-05-01      24.658\n",
      "...                        ...         ...         ...\n",
      "Zimbabwe    Harare        5605  2013-05-01      18.298\n",
      "            Harare        5606  2013-06-01      17.020\n",
      "            Harare        5607  2013-07-01      16.299\n",
      "            Harare        5608  2013-08-01      19.232\n",
      "            Harare        5609  2013-09-01         NaN\n",
      "\n",
      "[16500 rows x 3 columns]\n"
     ]
    }
   ],
   "source": [
    "# Subset rows from Pakistan, Lahore to Russia, Moscow\n",
    "temperatures_ind2 = temperatures.set_index([\"country\", \"city\"]).sort_index()\n",
    "print(temperatures_ind2)\n"
   ]
  },
  {
   "cell_type": "code",
   "execution_count": 21,
   "id": "28129751",
   "metadata": {},
   "outputs": [
    {
     "data": {
      "text/html": [
       "<div>\n",
       "<style scoped>\n",
       "    .dataframe tbody tr th:only-of-type {\n",
       "        vertical-align: middle;\n",
       "    }\n",
       "\n",
       "    .dataframe tbody tr th {\n",
       "        vertical-align: top;\n",
       "    }\n",
       "\n",
       "    .dataframe thead th {\n",
       "        text-align: right;\n",
       "    }\n",
       "</style>\n",
       "<table border=\"1\" class=\"dataframe\">\n",
       "  <thead>\n",
       "    <tr style=\"text-align: right;\">\n",
       "      <th></th>\n",
       "      <th></th>\n",
       "      <th>Unnamed: 0</th>\n",
       "      <th>date</th>\n",
       "      <th>avg_temp_c</th>\n",
       "    </tr>\n",
       "    <tr>\n",
       "      <th>country</th>\n",
       "      <th>city</th>\n",
       "      <th></th>\n",
       "      <th></th>\n",
       "      <th></th>\n",
       "    </tr>\n",
       "  </thead>\n",
       "  <tbody>\n",
       "    <tr>\n",
       "      <th rowspan=\"5\" valign=\"top\">Pakistan</th>\n",
       "      <th>Lahore</th>\n",
       "      <td>8415</td>\n",
       "      <td>2000-01-01</td>\n",
       "      <td>12.792</td>\n",
       "    </tr>\n",
       "    <tr>\n",
       "      <th>Lahore</th>\n",
       "      <td>8416</td>\n",
       "      <td>2000-02-01</td>\n",
       "      <td>14.339</td>\n",
       "    </tr>\n",
       "    <tr>\n",
       "      <th>Lahore</th>\n",
       "      <td>8417</td>\n",
       "      <td>2000-03-01</td>\n",
       "      <td>20.309</td>\n",
       "    </tr>\n",
       "    <tr>\n",
       "      <th>Lahore</th>\n",
       "      <td>8418</td>\n",
       "      <td>2000-04-01</td>\n",
       "      <td>29.072</td>\n",
       "    </tr>\n",
       "    <tr>\n",
       "      <th>Lahore</th>\n",
       "      <td>8419</td>\n",
       "      <td>2000-05-01</td>\n",
       "      <td>34.845</td>\n",
       "    </tr>\n",
       "    <tr>\n",
       "      <th>...</th>\n",
       "      <th>...</th>\n",
       "      <td>...</td>\n",
       "      <td>...</td>\n",
       "      <td>...</td>\n",
       "    </tr>\n",
       "    <tr>\n",
       "      <th rowspan=\"5\" valign=\"top\">Russia</th>\n",
       "      <th>Moscow</th>\n",
       "      <td>10885</td>\n",
       "      <td>2013-05-01</td>\n",
       "      <td>16.152</td>\n",
       "    </tr>\n",
       "    <tr>\n",
       "      <th>Moscow</th>\n",
       "      <td>10886</td>\n",
       "      <td>2013-06-01</td>\n",
       "      <td>18.718</td>\n",
       "    </tr>\n",
       "    <tr>\n",
       "      <th>Moscow</th>\n",
       "      <td>10887</td>\n",
       "      <td>2013-07-01</td>\n",
       "      <td>18.136</td>\n",
       "    </tr>\n",
       "    <tr>\n",
       "      <th>Moscow</th>\n",
       "      <td>10888</td>\n",
       "      <td>2013-08-01</td>\n",
       "      <td>17.485</td>\n",
       "    </tr>\n",
       "    <tr>\n",
       "      <th>Moscow</th>\n",
       "      <td>10889</td>\n",
       "      <td>2013-09-01</td>\n",
       "      <td>NaN</td>\n",
       "    </tr>\n",
       "  </tbody>\n",
       "</table>\n",
       "<p>660 rows × 3 columns</p>\n",
       "</div>"
      ],
      "text/plain": [
       "                 Unnamed: 0        date  avg_temp_c\n",
       "country  city                                      \n",
       "Pakistan Lahore        8415  2000-01-01      12.792\n",
       "         Lahore        8416  2000-02-01      14.339\n",
       "         Lahore        8417  2000-03-01      20.309\n",
       "         Lahore        8418  2000-04-01      29.072\n",
       "         Lahore        8419  2000-05-01      34.845\n",
       "...                     ...         ...         ...\n",
       "Russia   Moscow       10885  2013-05-01      16.152\n",
       "         Moscow       10886  2013-06-01      18.718\n",
       "         Moscow       10887  2013-07-01      18.136\n",
       "         Moscow       10888  2013-08-01      17.485\n",
       "         Moscow       10889  2013-09-01         NaN\n",
       "\n",
       "[660 rows x 3 columns]"
      ]
     },
     "execution_count": 21,
     "metadata": {},
     "output_type": "execute_result"
    }
   ],
   "source": [
    "temperatures_ind2.loc[(\"Pakistan\", \"Lahore\"):(\"Russia\", \"Moscow\")]"
   ]
  },
  {
   "cell_type": "code",
   "execution_count": 23,
   "id": "6bec64fd",
   "metadata": {},
   "outputs": [
    {
     "data": {
      "text/html": [
       "<div>\n",
       "<style scoped>\n",
       "    .dataframe tbody tr th:only-of-type {\n",
       "        vertical-align: middle;\n",
       "    }\n",
       "\n",
       "    .dataframe tbody tr th {\n",
       "        vertical-align: top;\n",
       "    }\n",
       "\n",
       "    .dataframe thead th {\n",
       "        text-align: right;\n",
       "    }\n",
       "</style>\n",
       "<table border=\"1\" class=\"dataframe\">\n",
       "  <thead>\n",
       "    <tr style=\"text-align: right;\">\n",
       "      <th></th>\n",
       "      <th>Unnamed: 0</th>\n",
       "      <th>date</th>\n",
       "      <th>country</th>\n",
       "      <th>avg_temp_c</th>\n",
       "    </tr>\n",
       "    <tr>\n",
       "      <th>city</th>\n",
       "      <th></th>\n",
       "      <th></th>\n",
       "      <th></th>\n",
       "      <th></th>\n",
       "    </tr>\n",
       "  </thead>\n",
       "  <tbody>\n",
       "    <tr>\n",
       "      <th>Lahore</th>\n",
       "      <td>8415</td>\n",
       "      <td>2000-01-01</td>\n",
       "      <td>Pakistan</td>\n",
       "      <td>12.792</td>\n",
       "    </tr>\n",
       "    <tr>\n",
       "      <th>Lahore</th>\n",
       "      <td>8416</td>\n",
       "      <td>2000-02-01</td>\n",
       "      <td>Pakistan</td>\n",
       "      <td>14.339</td>\n",
       "    </tr>\n",
       "    <tr>\n",
       "      <th>Lahore</th>\n",
       "      <td>8417</td>\n",
       "      <td>2000-03-01</td>\n",
       "      <td>Pakistan</td>\n",
       "      <td>20.309</td>\n",
       "    </tr>\n",
       "    <tr>\n",
       "      <th>Lahore</th>\n",
       "      <td>8418</td>\n",
       "      <td>2000-04-01</td>\n",
       "      <td>Pakistan</td>\n",
       "      <td>29.072</td>\n",
       "    </tr>\n",
       "    <tr>\n",
       "      <th>Lahore</th>\n",
       "      <td>8419</td>\n",
       "      <td>2000-05-01</td>\n",
       "      <td>Pakistan</td>\n",
       "      <td>34.845</td>\n",
       "    </tr>\n",
       "    <tr>\n",
       "      <th>...</th>\n",
       "      <td>...</td>\n",
       "      <td>...</td>\n",
       "      <td>...</td>\n",
       "      <td>...</td>\n",
       "    </tr>\n",
       "    <tr>\n",
       "      <th>Moscow</th>\n",
       "      <td>10885</td>\n",
       "      <td>2013-05-01</td>\n",
       "      <td>Russia</td>\n",
       "      <td>16.152</td>\n",
       "    </tr>\n",
       "    <tr>\n",
       "      <th>Moscow</th>\n",
       "      <td>10886</td>\n",
       "      <td>2013-06-01</td>\n",
       "      <td>Russia</td>\n",
       "      <td>18.718</td>\n",
       "    </tr>\n",
       "    <tr>\n",
       "      <th>Moscow</th>\n",
       "      <td>10887</td>\n",
       "      <td>2013-07-01</td>\n",
       "      <td>Russia</td>\n",
       "      <td>18.136</td>\n",
       "    </tr>\n",
       "    <tr>\n",
       "      <th>Moscow</th>\n",
       "      <td>10888</td>\n",
       "      <td>2013-08-01</td>\n",
       "      <td>Russia</td>\n",
       "      <td>17.485</td>\n",
       "    </tr>\n",
       "    <tr>\n",
       "      <th>Moscow</th>\n",
       "      <td>10889</td>\n",
       "      <td>2013-09-01</td>\n",
       "      <td>Russia</td>\n",
       "      <td>NaN</td>\n",
       "    </tr>\n",
       "  </tbody>\n",
       "</table>\n",
       "<p>330 rows × 4 columns</p>\n",
       "</div>"
      ],
      "text/plain": [
       "        Unnamed: 0        date   country  avg_temp_c\n",
       "city                                                \n",
       "Lahore        8415  2000-01-01  Pakistan      12.792\n",
       "Lahore        8416  2000-02-01  Pakistan      14.339\n",
       "Lahore        8417  2000-03-01  Pakistan      20.309\n",
       "Lahore        8418  2000-04-01  Pakistan      29.072\n",
       "Lahore        8419  2000-05-01  Pakistan      34.845\n",
       "...            ...         ...       ...         ...\n",
       "Moscow       10885  2013-05-01    Russia      16.152\n",
       "Moscow       10886  2013-06-01    Russia      18.718\n",
       "Moscow       10887  2013-07-01    Russia      18.136\n",
       "Moscow       10888  2013-08-01    Russia      17.485\n",
       "Moscow       10889  2013-09-01    Russia         NaN\n",
       "\n",
       "[330 rows x 4 columns]"
      ]
     },
     "execution_count": 23,
     "metadata": {},
     "output_type": "execute_result"
    }
   ],
   "source": [
    "temperatures_ind.loc[[\"Lahore\", \"Moscow\"]]"
   ]
  },
  {
   "cell_type": "code",
   "execution_count": 28,
   "id": "8241cbb7",
   "metadata": {},
   "outputs": [
    {
     "name": "stdout",
     "output_type": "stream",
     "text": [
      "        Unnamed: 0        date   country  avg_temp_c  country_srt\n",
      "city                                                             \n",
      "Lahore        8415  2000-01-01  Pakistan      12.792         True\n",
      "Lahore        8416  2000-02-01  Pakistan      14.339         True\n",
      "Lahore        8417  2000-03-01  Pakistan      20.309         True\n",
      "Lahore        8418  2000-04-01  Pakistan      29.072         True\n",
      "Lahore        8419  2000-05-01  Pakistan      34.845         True\n",
      "...            ...         ...       ...         ...          ...\n",
      "Moscow       10885  2013-05-01    Russia      16.152         True\n",
      "Moscow       10886  2013-06-01    Russia      18.718         True\n",
      "Moscow       10887  2013-07-01    Russia      18.136         True\n",
      "Moscow       10888  2013-08-01    Russia      17.485         True\n",
      "Moscow       10889  2013-09-01    Russia         NaN         True\n",
      "\n",
      "[2475 rows x 5 columns]\n"
     ]
    }
   ],
   "source": [
    "# Subset rows from Pakistan, Lahore to Russia, Moscow\n",
    "temperatures_ind[\"country_srt\"] = temperatures_ind[\"country\"].isin([\"Russia\", \"Pakistan\"])\n",
    "temperatures_ind\n",
    "print(temperatures_ind.loc[(\"Lahore\"):(\"Moscow\")])"
   ]
  },
  {
   "cell_type": "code",
   "execution_count": 29,
   "id": "3a8fd7aa",
   "metadata": {},
   "outputs": [
    {
     "name": "stdout",
     "output_type": "stream",
     "text": [
      "        Unnamed: 0        date   country  avg_temp_c  country_srt\n",
      "city                                                             \n",
      "Lahore        8526  2009-04-01  Pakistan      27.062         True\n",
      "Lahore        8520  2008-10-01  Pakistan      27.257         True\n",
      "Lahore        8521  2008-11-01  Pakistan      20.205         True\n",
      "Lahore        8522  2008-12-01  Pakistan      15.522         True\n",
      "Lahore        8523  2009-01-01  Pakistan      14.174         True\n",
      "...            ...         ...       ...         ...          ...\n",
      "Moscow       10780  2004-08-01    Russia      17.955         True\n",
      "Moscow       10783  2004-11-01    Russia      -2.191         True\n",
      "Moscow       10778  2004-06-01    Russia      14.791         True\n",
      "Moscow       10777  2004-05-01    Russia      10.914         True\n",
      "Moscow       10779  2004-07-01    Russia      18.381         True\n",
      "\n",
      "[2475 rows x 5 columns]\n"
     ]
    }
   ],
   "source": [
    "temperatures_srt[\"country_srt\"] = temperatures_srt[\"country\"].isin([\"Russia\", \"Pakistan\"])\n",
    "temperatures_srt\n",
    "print(temperatures_srt.loc[(\"Lahore\"):(\"Moscow\")])"
   ]
  },
  {
   "cell_type": "markdown",
   "id": "d5caa420",
   "metadata": {},
   "source": [
    "### Subsetting columns"
   ]
  },
  {
   "cell_type": "code",
   "execution_count": 34,
   "id": "6cf0dd3d",
   "metadata": {},
   "outputs": [
    {
     "name": "stdout",
     "output_type": "stream",
     "text": [
      "                   Unnamed: 0        date  avg_temp_c\n",
      "country city                                         \n",
      "India   Hyderabad        5940  2000-01-01      23.779\n",
      "        Hyderabad        5941  2000-02-01      25.826\n",
      "        Hyderabad        5942  2000-03-01      28.821\n",
      "        Hyderabad        5943  2000-04-01      32.698\n",
      "        Hyderabad        5944  2000-05-01      32.438\n",
      "...                       ...         ...         ...\n",
      "Iraq    Baghdad          1150  2013-05-01      28.673\n",
      "        Baghdad          1151  2013-06-01      33.803\n",
      "        Baghdad          1152  2013-07-01      36.392\n",
      "        Baghdad          1153  2013-08-01      35.463\n",
      "        Baghdad          1154  2013-09-01         NaN\n",
      "\n",
      "[2145 rows x 3 columns]\n",
      "                          date  avg_temp_c\n",
      "country     city                          \n",
      "Afghanistan Kabul   2000-01-01       3.326\n",
      "            Kabul   2000-02-01       3.454\n",
      "            Kabul   2000-03-01       9.612\n",
      "            Kabul   2000-04-01      17.925\n",
      "            Kabul   2000-05-01      24.658\n",
      "...                        ...         ...\n",
      "Zimbabwe    Harare  2013-05-01      18.298\n",
      "            Harare  2013-06-01      17.020\n",
      "            Harare  2013-07-01      16.299\n",
      "            Harare  2013-08-01      19.232\n",
      "            Harare  2013-09-01         NaN\n",
      "\n",
      "[16500 rows x 2 columns]\n",
      "                         date  avg_temp_c\n",
      "country city                             \n",
      "India   Hyderabad  2000-01-01      23.779\n",
      "        Hyderabad  2000-02-01      25.826\n",
      "        Hyderabad  2000-03-01      28.821\n",
      "        Hyderabad  2000-04-01      32.698\n",
      "        Hyderabad  2000-05-01      32.438\n",
      "...                       ...         ...\n",
      "Iraq    Baghdad    2013-05-01      28.673\n",
      "        Baghdad    2013-06-01      33.803\n",
      "        Baghdad    2013-07-01      36.392\n",
      "        Baghdad    2013-08-01      35.463\n",
      "        Baghdad    2013-09-01         NaN\n",
      "\n",
      "[2145 rows x 2 columns]\n"
     ]
    }
   ],
   "source": [
    "temperatures_ind2 = temperatures.set_index([\"country\", \"city\"]).sort_index()\n",
    "\n",
    "# Subset rows from India, Hyderabad to Iraq, Baghdad\n",
    "print(temperatures_ind2.loc[(\"India\", \"Hyderabad\"):(\"Iraq\", \"Baghdad\")])\n",
    "\n",
    "# Subset columns from date to avg_temp_c\n",
    "print(temperatures_ind2.loc[:, \"date\": \"avg_temp_c\"])\n",
    "\n",
    "# Subset in both directions at once\n",
    "print(temperatures_ind2.loc[(\"India\", \"Hyderabad\"):(\"Iraq\", \"Baghdad\"), \"date\": \"avg_temp_c\"])"
   ]
  },
  {
   "cell_type": "markdown",
   "id": "210feef9",
   "metadata": {},
   "source": [
    "## Slicing time series"
   ]
  },
  {
   "cell_type": "code",
   "execution_count": 39,
   "id": "7e730030",
   "metadata": {},
   "outputs": [
    {
     "name": "stdout",
     "output_type": "stream",
     "text": [
      "       Unnamed: 0        date     city        country  avg_temp_c\n",
      "120           120  2010-01-01  Abidjan  Côte D'Ivoire      28.270\n",
      "121           121  2010-02-01  Abidjan  Côte D'Ivoire      29.262\n",
      "122           122  2010-03-01  Abidjan  Côte D'Ivoire      29.596\n",
      "123           123  2010-04-01  Abidjan  Côte D'Ivoire      29.068\n",
      "124           124  2010-05-01  Abidjan  Côte D'Ivoire      28.258\n",
      "...           ...         ...      ...            ...         ...\n",
      "16474       16474  2011-08-01     Xian          China      23.069\n",
      "16475       16475  2011-09-01     Xian          China      16.775\n",
      "16476       16476  2011-10-01     Xian          China      12.587\n",
      "16477       16477  2011-11-01     Xian          China       7.543\n",
      "16478       16478  2011-12-01     Xian          China      -0.490\n",
      "\n",
      "[2400 rows x 5 columns]\n",
      "            Unnamed: 0        city    country  avg_temp_c\n",
      "date                                                     \n",
      "2010-01-01        4905  Faisalabad   Pakistan      11.810\n",
      "2010-01-01       10185   Melbourne  Australia      20.016\n",
      "2010-01-01        3750   Chongqing      China       7.921\n",
      "2010-01-01       13155   São Paulo     Brazil      23.738\n",
      "2010-01-01        5400   Guangzhou      China      14.136\n",
      "...                ...         ...        ...         ...\n",
      "2010-12-01        6896     Jakarta  Indonesia      26.602\n",
      "2010-12-01        5246       Gizeh      Egypt      16.530\n",
      "2010-12-01       11186      Nagpur      India      19.120\n",
      "2010-12-01       14981      Sydney  Australia      19.559\n",
      "2010-12-01       13496    Salvador     Brazil      26.265\n",
      "\n",
      "[1200 rows x 4 columns]\n",
      "            Unnamed: 0      city        country  avg_temp_c\n",
      "date                                                       \n",
      "2010-08-01        2602  Calcutta          India      30.226\n",
      "2010-08-01       12337      Pune          India      24.941\n",
      "2010-08-01        6562     Izmir         Turkey      28.352\n",
      "2010-08-01       15637   Tianjin          China      25.543\n",
      "2010-08-01        9862    Manila    Philippines      27.101\n",
      "...                ...       ...            ...         ...\n",
      "2011-02-01        7393     Kabul    Afghanistan       3.914\n",
      "2011-02-01        3598   Chicago  United States       0.276\n",
      "2011-02-01         628    Aleppo          Syria       8.246\n",
      "2011-02-01        4423     Delhi          India      18.136\n",
      "2011-02-01       12508   Rangoon          Burma      26.631\n",
      "\n",
      "[700 rows x 4 columns]\n"
     ]
    }
   ],
   "source": [
    "# Use Boolean conditions to subset temperatures for rows in 2010 and 2011\n",
    "temperatures_bool = temperatures[(temperatures[\"date\"] >= \"2010-01-01\") & (temperatures[\"date\"] <= \"2011-12-31\")]\n",
    "print(temperatures_bool)\n",
    "\n",
    "# Set date as the index and sort the index\n",
    "temperatures_ind = temperatures.set_index(\"date\").sort_index()\n",
    "\n",
    "# Use .loc[] to subset temperatures_ind for rows in 2010 and 2011\n",
    "print(temperatures_ind.loc[\"2010\" : \"2011\"])\n",
    "\n",
    "# Use .loc[] to subset temperatures_ind for rows from Aug 2010 to Feb 2011\n",
    "print(temperatures_ind.loc[\"2010-08-01\" : \"2011-02-28\"])"
   ]
  },
  {
   "cell_type": "markdown",
   "id": "7ed70fb3",
   "metadata": {},
   "source": [
    "## Subsetting by row/column number"
   ]
  },
  {
   "cell_type": "code",
   "execution_count": 44,
   "id": "3a8808fc",
   "metadata": {},
   "outputs": [
    {
     "name": "stdout",
     "output_type": "stream",
     "text": [
      "    Unnamed: 0        date     city        country  avg_temp_c\n",
      "22          22  2001-11-01  Abidjan  Côte D'Ivoire      27.374\n",
      "1            1  2000-02-01  Abidjan  Côte D'Ivoire      27.685\n"
     ]
    }
   ],
   "source": [
    "# Get 23rd row, 2nd column (index 22, 1)\n",
    "print(temperatures.iloc[[22, 1]])"
   ]
  },
  {
   "cell_type": "code",
   "execution_count": 47,
   "id": "266ab06a",
   "metadata": {},
   "outputs": [
    {
     "name": "stdout",
     "output_type": "stream",
     "text": [
      "   Unnamed: 0        date     city        country  avg_temp_c\n",
      "0           0  2000-01-01  Abidjan  Côte D'Ivoire      27.293\n",
      "1           1  2000-02-01  Abidjan  Côte D'Ivoire      27.685\n",
      "2           2  2000-03-01  Abidjan  Côte D'Ivoire      29.061\n",
      "3           3  2000-04-01  Abidjan  Côte D'Ivoire      28.162\n",
      "4           4  2000-05-01  Abidjan  Côte D'Ivoire      27.547\n"
     ]
    }
   ],
   "source": [
    "# Use slicing to get the first 5 rows\n",
    "print(temperatures.iloc[:5, :])"
   ]
  },
  {
   "cell_type": "code",
   "execution_count": 48,
   "id": "a7110c6b",
   "metadata": {},
   "outputs": [
    {
     "name": "stdout",
     "output_type": "stream",
     "text": [
      "          city        country\n",
      "0      Abidjan  Côte D'Ivoire\n",
      "1      Abidjan  Côte D'Ivoire\n",
      "2      Abidjan  Côte D'Ivoire\n",
      "3      Abidjan  Côte D'Ivoire\n",
      "4      Abidjan  Côte D'Ivoire\n",
      "...        ...            ...\n",
      "16495     Xian          China\n",
      "16496     Xian          China\n",
      "16497     Xian          China\n",
      "16498     Xian          China\n",
      "16499     Xian          China\n",
      "\n",
      "[16500 rows x 2 columns]\n"
     ]
    }
   ],
   "source": [
    "# Use slicing to get columns 3 to 4\n",
    "print(temperatures.iloc[:, 2:4])"
   ]
  },
  {
   "cell_type": "code",
   "execution_count": 49,
   "id": "8dd5a30b",
   "metadata": {},
   "outputs": [
    {
     "name": "stdout",
     "output_type": "stream",
     "text": [
      "      city        country\n",
      "0  Abidjan  Côte D'Ivoire\n",
      "1  Abidjan  Côte D'Ivoire\n",
      "2  Abidjan  Côte D'Ivoire\n",
      "3  Abidjan  Côte D'Ivoire\n",
      "4  Abidjan  Côte D'Ivoire\n"
     ]
    }
   ],
   "source": [
    "# Use slicing in both directions at once\n",
    "print(temperatures.iloc[:5, 2:4])"
   ]
  },
  {
   "cell_type": "code",
   "execution_count": null,
   "id": "a1ab3eaf",
   "metadata": {},
   "outputs": [],
   "source": []
  }
 ],
 "metadata": {
  "kernelspec": {
   "display_name": "Python 3 (ipykernel)",
   "language": "python",
   "name": "python3"
  },
  "language_info": {
   "codemirror_mode": {
    "name": "ipython",
    "version": 3
   },
   "file_extension": ".py",
   "mimetype": "text/x-python",
   "name": "python",
   "nbconvert_exporter": "python",
   "pygments_lexer": "ipython3",
   "version": "3.9.12"
  }
 },
 "nbformat": 4,
 "nbformat_minor": 5
}
