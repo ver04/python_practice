{
 "cells": [
  {
   "cell_type": "markdown",
   "id": "f04a49b5",
   "metadata": {},
   "source": [
    "### Imports"
   ]
  },
  {
   "cell_type": "code",
   "execution_count": 23,
   "id": "e144d3b9",
   "metadata": {},
   "outputs": [
    {
     "name": "stdout",
     "output_type": "stream",
     "text": [
      "     name             breed  color  height_cm  weight_kg date_of_birth\n",
      "0   Bella         Chihuahua  Brown         18          2    2018-02-05\n",
      "1   Amigo          Labrador  Black         59         35    2016-08-12\n",
      "2  Trevis       St. Bernard  Brown         77         73    2019-07-24\n",
      "3   Golin             Husky  White         55         30    2015-06-18\n",
      "4    Lucy          Labrador  White         51         26    2020-04-29\n",
      "5     Max  Golden Retriever  Brown         49         21    2014-01-20\n",
      "6    Otto            Poodle  Brown         42         20    2013-06-27\n",
      "7    Rexo   German Shepherd  Brown         54         24    2018-05-21\n"
     ]
    }
   ],
   "source": [
    "import pandas as pd\n",
    "import numpy as np\n",
    "\n",
    "dogs = pd.read_csv(\"dogs.csv\")\n",
    "print(dogs)"
   ]
  },
  {
   "cell_type": "markdown",
   "id": "cb0d4e87",
   "metadata": {},
   "source": [
    "## Delete a column"
   ]
  },
  {
   "cell_type": "code",
   "execution_count": 24,
   "id": "66d6e382",
   "metadata": {},
   "outputs": [
    {
     "name": "stdout",
     "output_type": "stream",
     "text": [
      "     name  height_cm  weight_kg\n",
      "0   Bella         18          2\n",
      "1   Amigo         59         35\n",
      "2  Trevis         77         73\n",
      "3   Golin         55         30\n",
      "4    Lucy         51         26\n",
      "5     Max         49         21\n",
      "6    Otto         42         20\n",
      "7    Rexo         54         24\n"
     ]
    }
   ],
   "source": [
    "new_dogs = dogs.drop([\"color\", \"breed\", \"date_of_birth\"], axis=\"columns\")\n",
    "print(new_dogs)"
   ]
  },
  {
   "cell_type": "markdown",
   "id": "c5b2feb6",
   "metadata": {},
   "source": [
    "## Adding a new column"
   ]
  },
  {
   "cell_type": "code",
   "execution_count": 25,
   "id": "726fb758",
   "metadata": {},
   "outputs": [
    {
     "name": "stdout",
     "output_type": "stream",
     "text": [
      "     name  height_cm  weight_kg  height_m\n",
      "0   Bella         18          2      0.18\n",
      "1   Amigo         59         35      0.59\n",
      "2  Trevis         77         73      0.77\n",
      "3   Golin         55         30      0.55\n",
      "4    Lucy         51         26      0.51\n",
      "5     Max         49         21      0.49\n",
      "6    Otto         42         20      0.42\n",
      "7    Rexo         54         24      0.54\n"
     ]
    }
   ],
   "source": [
    "new_dogs[\"height_m\"] = new_dogs[\"height_cm\"] / 100\n",
    "print(new_dogs)"
   ]
  },
  {
   "cell_type": "markdown",
   "id": "f8843e6d",
   "metadata": {},
   "source": [
    "### Doggy mass index"
   ]
  },
  {
   "cell_type": "code",
   "execution_count": 26,
   "id": "fb92226f",
   "metadata": {},
   "outputs": [
    {
     "name": "stdout",
     "output_type": "stream",
     "text": [
      "     name  height_cm  weight_kg  height_m         bmi\n",
      "0   Bella         18          2      0.18   61.728395\n",
      "1   Amigo         59         35      0.59  100.545820\n",
      "2  Trevis         77         73      0.77  123.123630\n",
      "3   Golin         55         30      0.55   99.173554\n",
      "4    Lucy         51         26      0.51   99.961553\n"
     ]
    }
   ],
   "source": [
    "new_dogs[\"bmi\"] = new_dogs[\"weight_kg\"] / new_dogs[\"height_m\"] **2\n",
    "print(new_dogs.head())"
   ]
  },
  {
   "cell_type": "markdown",
   "id": "31868d9d",
   "metadata": {},
   "source": [
    "## Multiple manipulations"
   ]
  },
  {
   "cell_type": "code",
   "execution_count": 27,
   "id": "3a215ad4",
   "metadata": {},
   "outputs": [
    {
     "name": "stdout",
     "output_type": "stream",
     "text": [
      "    name  height_cm        bmi\n",
      "3  Golin         55  99.173554\n",
      "7   Rexo         54  82.304527\n",
      "4   Lucy         51  99.961553\n",
      "5    Max         49  87.463557\n",
      "0  Bella         18  61.728395\n"
     ]
    }
   ],
   "source": [
    "bmi_100 = new_dogs[new_dogs[\"bmi\"] < 100]\n",
    "bmi_100_height = bmi_100.sort_values(\"height_cm\", ascending=False)\n",
    "print(bmi_100_height[[\"name\", \"height_cm\", \"bmi\"]])"
   ]
  }
 ],
 "metadata": {
  "kernelspec": {
   "display_name": "Python 3 (ipykernel)",
   "language": "python",
   "name": "python3"
  },
  "language_info": {
   "codemirror_mode": {
    "name": "ipython",
    "version": 3
   },
   "file_extension": ".py",
   "mimetype": "text/x-python",
   "name": "python",
   "nbconvert_exporter": "python",
   "pygments_lexer": "ipython3",
   "version": "3.9.12"
  }
 },
 "nbformat": 4,
 "nbformat_minor": 5
}
