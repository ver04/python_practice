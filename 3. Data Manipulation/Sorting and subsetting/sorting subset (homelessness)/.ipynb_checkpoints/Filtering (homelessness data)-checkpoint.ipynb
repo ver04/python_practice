{
 "cells": [
  {
   "cell_type": "code",
   "execution_count": 3,
   "id": "82cb224d",
   "metadata": {},
   "outputs": [
    {
     "name": "stdout",
     "output_type": "stream",
     "text": [
      "   Unnamed: 0              region       state  individuals  family_members  \\\n",
      "0           0  East South Central     Alabama       2570.0           864.0   \n",
      "1           1             Pacific      Alaska       1434.0           582.0   \n",
      "2           2            Mountain     Arizona       7259.0          2606.0   \n",
      "3           3  West South Central    Arkansas       2280.0           432.0   \n",
      "4           4             Pacific  California     109008.0         20964.0   \n",
      "\n",
      "   state_pop  \n",
      "0    4887681  \n",
      "1     735139  \n",
      "2    7158024  \n",
      "3    3009733  \n",
      "4   39461588  \n"
     ]
    }
   ],
   "source": [
    "import pandas as pd\n",
    "import numpy as np\n",
    "\n",
    "homelessness = pd.read_csv(\"homelessness.csv\")\n",
    "print(homelessness.head())"
   ]
  },
  {
   "cell_type": "code",
   "execution_count": 11,
   "id": "5abc3052",
   "metadata": {},
   "outputs": [
    {
     "name": "stdout",
     "output_type": "stream",
     "text": [
      "0     5.258117\n",
      "1    19.506515\n",
      "2    10.141067\n",
      "3     7.575423\n",
      "4    27.623825\n",
      "Name: indiv_per_10k, dtype: float64\n"
     ]
    }
   ],
   "source": [
    "# Create indiv_per_10k col as homeless individuals per 10k state pop\n",
    "homelessness[\"indiv_per_10k\"] = 10000 * homelessness[\"individuals\"] / homelessness[\"state_pop\"]\n",
    "print(homelessness[\"indiv_per_10k\"].head())\n"
   ]
  },
  {
   "cell_type": "code",
   "execution_count": 23,
   "id": "40a321ed",
   "metadata": {
    "scrolled": true
   },
   "outputs": [
    {
     "name": "stdout",
     "output_type": "stream",
     "text": [
      "    Unnamed: 0          region                 state  individuals  \\\n",
      "4            4         Pacific            California     109008.0   \n",
      "8            8  South Atlantic  District of Columbia       3770.0   \n",
      "11          11         Pacific                Hawaii       4131.0   \n",
      "28          28        Mountain                Nevada       7058.0   \n",
      "32          32    Mid-Atlantic              New York      39827.0   \n",
      "\n",
      "    family_members  state_pop  indiv_per_10k  high_homelessness  \n",
      "4          20964.0   39461588      27.623825               True  \n",
      "8           3134.0     701547      53.738381               True  \n",
      "11          2399.0    1420593      29.079406               True  \n",
      "28           486.0    3027341      23.314189               True  \n",
      "32         52070.0   19530351      20.392363               True  \n"
     ]
    }
   ],
   "source": [
    "# Subset rows for indiv_per_10k greater than 20\n",
    "homelessness['high_homelessness'] = homelessness[\"indiv_per_10k\"] > 20\n",
    "high_homelessness = homelessness.loc[homelessness['high_homelessness']]\n",
    "print(high_homelessness.head())\n"
   ]
  },
  {
   "cell_type": "code",
   "execution_count": 25,
   "id": "a89e3be3",
   "metadata": {},
   "outputs": [
    {
     "name": "stdout",
     "output_type": "stream",
     "text": [
      "    Unnamed: 0          region                 state  individuals  \\\n",
      "8            8  South Atlantic  District of Columbia       3770.0   \n",
      "11          11         Pacific                Hawaii       4131.0   \n",
      "4            4         Pacific            California     109008.0   \n",
      "37          37         Pacific                Oregon      11139.0   \n",
      "28          28        Mountain                Nevada       7058.0   \n",
      "\n",
      "    family_members  state_pop  indiv_per_10k  high_homelessness  \n",
      "8           3134.0     701547      53.738381               True  \n",
      "11          2399.0    1420593      29.079406               True  \n",
      "4          20964.0   39461588      27.623825               True  \n",
      "37          3337.0    4181886      26.636307               True  \n",
      "28           486.0    3027341      23.314189               True  \n"
     ]
    }
   ],
   "source": [
    "# Sort high_homelessness by descending indiv_per_10k\n",
    "high_homelessness_srt = high_homelessness.sort_values(\"indiv_per_10k\", ascending=False)\n",
    "print(high_homelessness_srt.head())\n",
    "\n"
   ]
  },
  {
   "cell_type": "code",
   "execution_count": 26,
   "id": "d247f8d6",
   "metadata": {},
   "outputs": [
    {
     "name": "stdout",
     "output_type": "stream",
     "text": [
      "                   state  indiv_per_10k\n",
      "8   District of Columbia      53.738381\n",
      "11                Hawaii      29.079406\n",
      "4             California      27.623825\n",
      "37                Oregon      26.636307\n",
      "28                Nevada      23.314189\n",
      "47            Washington      21.829195\n",
      "32              New York      20.392363\n"
     ]
    }
   ],
   "source": [
    "# From high_homelessness_srt, select the state and indiv_per_10k cols\n",
    "result = high_homelessness_srt[[\"state\", \"indiv_per_10k\"]]\n",
    "\n",
    "# See the result\n",
    "print(result)"
   ]
  }
 ],
 "metadata": {
  "kernelspec": {
   "display_name": "Python 3 (ipykernel)",
   "language": "python",
   "name": "python3"
  },
  "language_info": {
   "codemirror_mode": {
    "name": "ipython",
    "version": 3
   },
   "file_extension": ".py",
   "mimetype": "text/x-python",
   "name": "python",
   "nbconvert_exporter": "python",
   "pygments_lexer": "ipython3",
   "version": "3.9.12"
  }
 },
 "nbformat": 4,
 "nbformat_minor": 5
}
