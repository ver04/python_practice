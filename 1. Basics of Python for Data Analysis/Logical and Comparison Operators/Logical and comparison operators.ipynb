{
 "cells": [
  {
   "cell_type": "markdown",
   "id": "1318df67",
   "metadata": {},
   "source": [
    "### Comparison operators"
   ]
  },
  {
   "cell_type": "markdown",
   "id": "343e9a3b",
   "metadata": {},
   "source": [
    "#### Equality"
   ]
  },
  {
   "cell_type": "code",
   "execution_count": 1,
   "id": "a74c9d18",
   "metadata": {},
   "outputs": [
    {
     "name": "stdout",
     "output_type": "stream",
     "text": [
      "False\n"
     ]
    }
   ],
   "source": [
    "# Comparison of booleans\n",
    "print(True == False)"
   ]
  },
  {
   "cell_type": "code",
   "execution_count": 2,
   "id": "d1a04f9b",
   "metadata": {},
   "outputs": [
    {
     "name": "stdout",
     "output_type": "stream",
     "text": [
      "True\n"
     ]
    }
   ],
   "source": [
    "# Comparison of integers\n",
    "print((-5*15)!=75)"
   ]
  },
  {
   "cell_type": "code",
   "execution_count": 5,
   "id": "c68c9f21",
   "metadata": {},
   "outputs": [
    {
     "name": "stdout",
     "output_type": "stream",
     "text": [
      "False\n"
     ]
    }
   ],
   "source": [
    "# Comparison of strings\n",
    "print(\"pyscript\" == \"PyScript\")"
   ]
  },
  {
   "cell_type": "code",
   "execution_count": 6,
   "id": "74935893",
   "metadata": {},
   "outputs": [
    {
     "name": "stdout",
     "output_type": "stream",
     "text": [
      "True\n"
     ]
    }
   ],
   "source": [
    "# Compare a boolean with an integer\n",
    "print(True == 1)"
   ]
  },
  {
   "cell_type": "markdown",
   "id": "dc5efcac",
   "metadata": {},
   "source": [
    "#### Greater and less than"
   ]
  },
  {
   "cell_type": "code",
   "execution_count": 7,
   "id": "7e1fdc17",
   "metadata": {},
   "outputs": [
    {
     "name": "stdout",
     "output_type": "stream",
     "text": [
      "False\n"
     ]
    }
   ],
   "source": [
    "# Comparison of integers\n",
    "x = -3 * 6\n",
    "print(x >= -10)"
   ]
  },
  {
   "cell_type": "code",
   "execution_count": 8,
   "id": "b7847f52",
   "metadata": {},
   "outputs": [
    {
     "name": "stdout",
     "output_type": "stream",
     "text": [
      "True\n"
     ]
    }
   ],
   "source": [
    "# Comparison of strings\n",
    "y = \"test\"\n",
    "print(\"test\" <= y)"
   ]
  },
  {
   "cell_type": "code",
   "execution_count": 9,
   "id": "08810747",
   "metadata": {},
   "outputs": [
    {
     "name": "stdout",
     "output_type": "stream",
     "text": [
      "True\n"
     ]
    }
   ],
   "source": [
    "# Comparison of booleans\n",
    "print(True > False)"
   ]
  },
  {
   "cell_type": "markdown",
   "id": "3d292ada",
   "metadata": {},
   "source": [
    "#### Arrays comparison"
   ]
  },
  {
   "cell_type": "code",
   "execution_count": 10,
   "id": "e0631f8e",
   "metadata": {},
   "outputs": [
    {
     "name": "stdout",
     "output_type": "stream",
     "text": [
      "[ True  True False False]\n",
      "[False  True  True False]\n"
     ]
    }
   ],
   "source": [
    "# Create arrays\n",
    "import numpy as np\n",
    "my_house = np.array([18.0, 20.0, 10.75, 9.50])\n",
    "your_house = np.array([14.0, 24.0, 14.25, 9.0])\n",
    "\n",
    "# my_house greater than or equal to 18\n",
    "print(my_house >= 18)\n",
    "\n",
    "# my_house less than your_house\n",
    "print(my_house < your_house)"
   ]
  },
  {
   "cell_type": "markdown",
   "id": "794a9cb5",
   "metadata": {},
   "source": [
    "### Logical operators"
   ]
  },
  {
   "cell_type": "markdown",
   "id": "7080f644",
   "metadata": {},
   "source": [
    "#### Classical Python"
   ]
  },
  {
   "cell_type": "code",
   "execution_count": 11,
   "id": "5d9fd739",
   "metadata": {},
   "outputs": [
    {
     "name": "stdout",
     "output_type": "stream",
     "text": [
      "True\n",
      "False\n",
      "True\n"
     ]
    }
   ],
   "source": [
    "# Define variables\n",
    "my_kitchen = 18.0\n",
    "your_kitchen = 14.0\n",
    "\n",
    "# my_kitchen bigger than 10 and smaller than 18?\n",
    "print(my_kitchen > 10) and (my_kitchen < 18)\n",
    "\n",
    "# my_kitchen smaller than 14 or bigger than 17?\n",
    "print(my_kitchen < 14) or (my_kitchen > 17)\n",
    "\n",
    "# Double my_kitchen smaller than triple your_kitchen?\n",
    "print(my_kitchen*2 < your_kitchen*3)"
   ]
  },
  {
   "cell_type": "markdown",
   "id": "d9c3f5b4",
   "metadata": {},
   "source": [
    "#### NumPy Array"
   ]
  },
  {
   "cell_type": "code",
   "execution_count": 12,
   "id": "6242fc19",
   "metadata": {},
   "outputs": [
    {
     "name": "stdout",
     "output_type": "stream",
     "text": [
      "[False  True False  True]\n",
      "[False False False  True]\n"
     ]
    }
   ],
   "source": [
    "# Create arrays\n",
    "import numpy as np\n",
    "my_house = np.array([18.0, 20.0, 10.75, 9.50])\n",
    "your_house = np.array([14.0, 24.0, 14.25, 9.0])\n",
    "\n",
    "# my_house greater than 18.5 or smaller than 10\n",
    "print(np.logical_or(my_house > 18.5, my_house < 10))\n",
    "\n",
    "# Both my_house and your_house smaller than 11\n",
    "print(np.logical_and(my_house < 11, your_house < 11))"
   ]
  },
  {
   "cell_type": "markdown",
   "id": "c6768ea5",
   "metadata": {},
   "source": [
    "#### Thank you for reading until here!"
   ]
  }
 ],
 "metadata": {
  "kernelspec": {
   "display_name": "Python 3 (ipykernel)",
   "language": "python",
   "name": "python3"
  },
  "language_info": {
   "codemirror_mode": {
    "name": "ipython",
    "version": 3
   },
   "file_extension": ".py",
   "mimetype": "text/x-python",
   "name": "python",
   "nbconvert_exporter": "python",
   "pygments_lexer": "ipython3",
   "version": "3.9.12"
  }
 },
 "nbformat": 4,
 "nbformat_minor": 5
}
