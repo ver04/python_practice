{
 "cells": [
  {
   "cell_type": "markdown",
   "id": "aeeca5d3",
   "metadata": {},
   "source": [
    "## If condition"
   ]
  },
  {
   "cell_type": "markdown",
   "id": "cdada4cf",
   "metadata": {},
   "source": [
    "### If-else"
   ]
  },
  {
   "cell_type": "code",
   "execution_count": 2,
   "id": "d38eb3f3",
   "metadata": {},
   "outputs": [
    {
     "name": "stdout",
     "output_type": "stream",
     "text": [
      "looking around in the kitchen.\n",
      "pretty small.\n"
     ]
    }
   ],
   "source": [
    "# Define variables\n",
    "room = \"kit\"\n",
    "area = 14.0\n",
    "\n",
    "# if-else construct for room\n",
    "if room == \"kit\" :\n",
    "    print(\"looking around in the kitchen.\")\n",
    "else :\n",
    "    print(\"looking around elsewhere.\")\n",
    "\n",
    "# if-else construct for area\n",
    "if area > 15 :\n",
    "    print(\"big place!\")\n",
    "else:\n",
    "    print(\"pretty small.\")"
   ]
  },
  {
   "cell_type": "markdown",
   "id": "86c97b23",
   "metadata": {},
   "source": [
    "### If-elif-else"
   ]
  },
  {
   "cell_type": "code",
   "execution_count": 4,
   "id": "ddbbd6a8",
   "metadata": {},
   "outputs": [
    {
     "name": "stdout",
     "output_type": "stream",
     "text": [
      "looking around in the bedroom.\n",
      "medium size, nice!\n"
     ]
    }
   ],
   "source": [
    "# Define variables\n",
    "room = \"bed\"\n",
    "area = 14.0\n",
    "\n",
    "# if-elif-else construct for room\n",
    "if room == \"kit\" :\n",
    "    print(\"looking around in the kitchen.\")\n",
    "elif room == \"bed\":\n",
    "    print(\"looking around in the bedroom.\")\n",
    "else :\n",
    "    print(\"looking around elsewhere.\")\n",
    "\n",
    "# if-elif-else construct for area\n",
    "if area > 15 :\n",
    "    print(\"big place!\")\n",
    "elif area > 10: \n",
    "    print(\"medium size, nice!\")\n",
    "else :\n",
    "    print(\"pretty small.\")"
   ]
  },
  {
   "cell_type": "markdown",
   "id": "b9f209e2",
   "metadata": {},
   "source": [
    "## While loops"
   ]
  },
  {
   "cell_type": "markdown",
   "id": "786f8824",
   "metadata": {},
   "source": [
    "The code repeats itself in a loop while the condition is true."
   ]
  },
  {
   "cell_type": "code",
   "execution_count": 21,
   "id": "7a480112",
   "metadata": {},
   "outputs": [
    {
     "name": "stdout",
     "output_type": "stream",
     "text": [
      "correcting...\n",
      "-5\n",
      "correcting...\n",
      "-4\n",
      "correcting...\n",
      "-3\n",
      "correcting...\n",
      "-2\n",
      "correcting...\n",
      "-1\n",
      "correcting...\n",
      "0\n"
     ]
    }
   ],
   "source": [
    "# Initialize offset\n",
    "offset = -6\n",
    "\n",
    "# update and print offset\n",
    "while offset != 0 :\n",
    "    print(\"correcting...\")\n",
    "    if offset > 0 :\n",
    "      offset -= 1\n",
    "    else : \n",
    "      offset += 1    \n",
    "    print(offset)"
   ]
  },
  {
   "cell_type": "markdown",
   "id": "a3f8a6fe",
   "metadata": {},
   "source": [
    "## For loop"
   ]
  },
  {
   "cell_type": "markdown",
   "id": "abd73538",
   "metadata": {},
   "source": [
    "### Getting items from list"
   ]
  },
  {
   "cell_type": "code",
   "execution_count": 13,
   "id": "982316a0",
   "metadata": {},
   "outputs": [],
   "source": [
    "# room areas list\n",
    "areas = [11.25, 18.0, 20.0, 10.75, 9.50]"
   ]
  },
  {
   "cell_type": "code",
   "execution_count": 19,
   "id": "9e23bf9d",
   "metadata": {},
   "outputs": [
    {
     "name": "stdout",
     "output_type": "stream",
     "text": [
      "11.25\n",
      "18.0\n",
      "20.0\n",
      "10.75\n",
      "9.5\n"
     ]
    }
   ],
   "source": [
    "# print each element\n",
    "for area in areas:\n",
    "    print(area)"
   ]
  },
  {
   "cell_type": "code",
   "execution_count": 20,
   "id": "c96524b6",
   "metadata": {},
   "outputs": [
    {
     "name": "stdout",
     "output_type": "stream",
     "text": [
      "room 1: 11.25\n",
      "room 2: 18.0\n",
      "room 3: 20.0\n",
      "room 4: 10.75\n",
      "room 5: 9.5\n"
     ]
    }
   ],
   "source": [
    "# print element with indexes\n",
    "for index, area in enumerate(areas) :\n",
    "    index += 1\n",
    "    print(f\"room {index}: {area}\")"
   ]
  },
  {
   "cell_type": "markdown",
   "id": "b0892f53",
   "metadata": {},
   "source": [
    "### Getting items from list of lists"
   ]
  },
  {
   "cell_type": "code",
   "execution_count": 17,
   "id": "b4c6ab65",
   "metadata": {},
   "outputs": [
    {
     "name": "stdout",
     "output_type": "stream",
     "text": [
      "the hallway is 11.25 sqm\n",
      "the kitchen is 18.0 sqm\n",
      "the living room is 20.0 sqm\n",
      "the bedroom is 10.75 sqm\n",
      "the bathroom is 9.5 sqm\n"
     ]
    }
   ],
   "source": [
    "# house list of lists\n",
    "house = [[\"hallway\", 11.25], \n",
    "         [\"kitchen\", 18.0], \n",
    "         [\"living room\", 20.0], \n",
    "         [\"bedroom\", 10.75], \n",
    "         [\"bathroom\", 9.50]]\n",
    "         \n",
    "# for loop that prints info about house rooms\n",
    "for room in house:\n",
    "    print(f\"the {room[0]} is {room[1]} sqm\")"
   ]
  },
  {
   "cell_type": "markdown",
   "id": "7aa9f645",
   "metadata": {},
   "source": [
    "### Looping over Dictionary"
   ]
  },
  {
   "cell_type": "markdown",
   "id": "f185ed7d",
   "metadata": {},
   "source": [
    "###### function my_dictionary.items( )"
   ]
  },
  {
   "cell_type": "code",
   "execution_count": 18,
   "id": "7cdfebde",
   "metadata": {
    "scrolled": true
   },
   "outputs": [
    {
     "name": "stdout",
     "output_type": "stream",
     "text": [
      "the capital of spain is madrid\n",
      "the capital of france is paris\n",
      "the capital of germany is berlin\n",
      "the capital of norway is oslo\n",
      "the capital of italy is rome\n",
      "the capital of poland is warsaw\n",
      "the capital of austria is vienna\n"
     ]
    }
   ],
   "source": [
    "# Definition of dictionary\n",
    "europe = {'spain':'madrid', 'france':'paris', 'germany':'berlin',\n",
    "          'norway':'oslo', 'italy':'rome', 'poland':'warsaw', 'austria':'vienna' }\n",
    "          \n",
    "# Iterate over europe\n",
    "for country, capital in europe.items():\n",
    "    print(f\"the capital of {country} is {capital}\")"
   ]
  },
  {
   "cell_type": "markdown",
   "id": "b6fe34d5",
   "metadata": {},
   "source": [
    "### Loop over NumPy array"
   ]
  },
  {
   "cell_type": "code",
   "execution_count": 25,
   "id": "acfdcfe9",
   "metadata": {},
   "outputs": [
    {
     "name": "stdout",
     "output_type": "stream",
     "text": [
      "[189 196 188 201 194]\n"
     ]
    }
   ],
   "source": [
    "import numpy as np\n",
    "\n",
    "# create 1D array\n",
    "heights = [189, 196, 188, 201, 194]\n",
    "np_heights = np.array(heights)\n",
    "print(np_heights)"
   ]
  },
  {
   "cell_type": "code",
   "execution_count": 26,
   "id": "42011b3a",
   "metadata": {},
   "outputs": [
    {
     "name": "stdout",
     "output_type": "stream",
     "text": [
      "189\n",
      "196\n",
      "188\n",
      "201\n",
      "194\n"
     ]
    }
   ],
   "source": [
    "# get elements from 1D array\n",
    "for h in heights:\n",
    "    print(h)"
   ]
  },
  {
   "cell_type": "code",
   "execution_count": 31,
   "id": "970b3bf3",
   "metadata": {},
   "outputs": [
    {
     "name": "stdout",
     "output_type": "stream",
     "text": [
      "[['Maria' '45']\n",
      " ['Adam' '37']\n",
      " ['Clara' '19']\n",
      " ['Martin' '26']]\n"
     ]
    }
   ],
   "source": [
    "# create 2D array\n",
    "age = [[\"Maria\", 45], [\"Adam\", 37], [\"Clara\", 19], [\"Martin\", 26]]\n",
    "np_age = np.array(age)\n",
    "print(np_age)"
   ]
  },
  {
   "cell_type": "code",
   "execution_count": 32,
   "id": "5193953b",
   "metadata": {},
   "outputs": [
    {
     "name": "stdout",
     "output_type": "stream",
     "text": [
      "Maria\n",
      "45\n",
      "Adam\n",
      "37\n",
      "Clara\n",
      "19\n",
      "Martin\n",
      "26\n"
     ]
    }
   ],
   "source": [
    "# get elements from 2D array\n",
    "for a in np.nditer(np_age):\n",
    "    print(a)"
   ]
  },
  {
   "cell_type": "markdown",
   "id": "02f9a1de",
   "metadata": {},
   "source": [
    "### Loop over Pandas DataFrame"
   ]
  },
  {
   "cell_type": "code",
   "execution_count": 35,
   "id": "b85f0cfb",
   "metadata": {},
   "outputs": [
    {
     "name": "stdout",
     "output_type": "stream",
     "text": [
      "     cars_per_cap        country  drives_right  population\n",
      "US            809  United States          True         751\n",
      "AUS           731      Australia         False         845\n",
      "JPN           588          Japan         False         329\n",
      "IN             18          India         False        1589\n",
      "RU            200         Russia          True         257\n",
      "MOR            70        Morocco          True          36\n",
      "EG             45          Egypt          True          45\n"
     ]
    }
   ],
   "source": [
    "import pandas as pd\n",
    "\n",
    "cars = pd.read_csv('cars.csv', index_col = 0)\n",
    "print(cars)"
   ]
  },
  {
   "cell_type": "code",
   "execution_count": 41,
   "id": "a7d9523d",
   "metadata": {},
   "outputs": [
    {
     "name": "stdout",
     "output_type": "stream",
     "text": [
      "cars_per_cap\n",
      "country\n",
      "drives_right\n",
      "population\n"
     ]
    }
   ],
   "source": [
    "# iterate though cars - prints column names\n",
    "for val in cars:\n",
    "    print(val)"
   ]
  },
  {
   "cell_type": "code",
   "execution_count": 42,
   "id": "a2683977",
   "metadata": {},
   "outputs": [
    {
     "name": "stdout",
     "output_type": "stream",
     "text": [
      "US\n",
      "cars_per_cap              809\n",
      "country         United States\n",
      "drives_right             True\n",
      "population                751\n",
      "Name: US, dtype: object\n",
      " \n",
      "AUS\n",
      "cars_per_cap          731\n",
      "country         Australia\n",
      "drives_right        False\n",
      "population            845\n",
      "Name: AUS, dtype: object\n",
      " \n",
      "JPN\n",
      "cars_per_cap      588\n",
      "country         Japan\n",
      "drives_right    False\n",
      "population        329\n",
      "Name: JPN, dtype: object\n",
      " \n",
      "IN\n",
      "cars_per_cap       18\n",
      "country         India\n",
      "drives_right    False\n",
      "population       1589\n",
      "Name: IN, dtype: object\n",
      " \n",
      "RU\n",
      "cars_per_cap       200\n",
      "country         Russia\n",
      "drives_right      True\n",
      "population         257\n",
      "Name: RU, dtype: object\n",
      " \n",
      "MOR\n",
      "cars_per_cap         70\n",
      "country         Morocco\n",
      "drives_right       True\n",
      "population           36\n",
      "Name: MOR, dtype: object\n",
      " \n",
      "EG\n",
      "cars_per_cap       45\n",
      "country         Egypt\n",
      "drives_right     True\n",
      "population         45\n",
      "Name: EG, dtype: object\n",
      " \n"
     ]
    }
   ],
   "source": [
    "# actualiteration though cars\n",
    "for label, row in cars.iterrows():\n",
    "    print(label)\n",
    "    print(row)\n",
    "    print(\" \")"
   ]
  },
  {
   "cell_type": "code",
   "execution_count": 44,
   "id": "f7b1f47a",
   "metadata": {},
   "outputs": [
    {
     "name": "stdout",
     "output_type": "stream",
     "text": [
      "US: 751 mil.\n",
      "AUS: 845 mil.\n",
      "JPN: 329 mil.\n",
      "IN: 1589 mil.\n",
      "RU: 257 mil.\n",
      "MOR: 36 mil.\n",
      "EG: 45 mil.\n"
     ]
    }
   ],
   "source": [
    "# print only population\n",
    "for label, row in cars.iterrows():\n",
    "    print(f\"{label}: {row['population']} mil.\")"
   ]
  },
  {
   "cell_type": "markdown",
   "id": "1d537eb3",
   "metadata": {},
   "source": [
    "### Create new calculated column - Pandas DataFrame"
   ]
  },
  {
   "cell_type": "markdown",
   "id": "0c566777",
   "metadata": {},
   "source": [
    "#### Variant 1"
   ]
  },
  {
   "cell_type": "code",
   "execution_count": 49,
   "id": "d2d84dc8",
   "metadata": {},
   "outputs": [
    {
     "name": "stdout",
     "output_type": "stream",
     "text": [
      "     cars_per_cap        country  drives_right  population  name_length\n",
      "US            809  United States          True         751         13.0\n",
      "AUS           731      Australia         False         845          9.0\n",
      "JPN           588          Japan         False         329          5.0\n",
      "IN             18          India         False        1589          5.0\n",
      "RU            200         Russia          True         257          6.0\n",
      "MOR            70        Morocco          True          36          7.0\n",
      "EG             45          Egypt          True          45          5.0\n"
     ]
    }
   ],
   "source": [
    "# create new column with country length\n",
    "for label, row in cars.iterrows():\n",
    "    cars.loc[label, \"name_length\"] = len(row[\"country\"])\n",
    "\n",
    "print(cars)"
   ]
  },
  {
   "cell_type": "code",
   "execution_count": 53,
   "id": "ec8610ce",
   "metadata": {},
   "outputs": [
    {
     "name": "stdout",
     "output_type": "stream",
     "text": [
      "     cars_per_cap        country  drives_right  population        COUNTRY\n",
      "US            809  United States          True         751  UNITED STATES\n",
      "AUS           731      Australia         False         845      AUSTRALIA\n",
      "JPN           588          Japan         False         329          JAPAN\n",
      "IN             18          India         False        1589          INDIA\n",
      "RU            200         Russia          True         257         RUSSIA\n",
      "MOR            70        Morocco          True          36        MOROCCO\n",
      "EG             45          Egypt          True          45          EGYPT\n"
     ]
    }
   ],
   "source": [
    "# loop that adds COUNTRY column\n",
    "cars = pd.read_csv(\"cars.csv\", index_col = 0)\n",
    "\n",
    "for label, row in cars.iterrows():\n",
    "    cars.loc[label, \"COUNTRY\"] = (row[\"country\"]).upper()\n",
    "    \n",
    "print(cars)"
   ]
  },
  {
   "cell_type": "markdown",
   "id": "5896a408",
   "metadata": {},
   "source": [
    "#### Variant 2"
   ]
  },
  {
   "cell_type": "code",
   "execution_count": 50,
   "id": "3f26f2a0",
   "metadata": {},
   "outputs": [
    {
     "name": "stdout",
     "output_type": "stream",
     "text": [
      "     cars_per_cap        country  drives_right  population  name_length\n",
      "US            809  United States          True         751           13\n",
      "AUS           731      Australia         False         845            9\n",
      "JPN           588          Japan         False         329            5\n",
      "IN             18          India         False        1589            5\n",
      "RU            200         Russia          True         257            6\n",
      "MOR            70        Morocco          True          36            7\n",
      "EG             45          Egypt          True          45            5\n"
     ]
    }
   ],
   "source": [
    "import pandas as pd\n",
    "\n",
    "cars = pd.read_csv('cars.csv', index_col = 0)\n",
    "cars[\"name_length\"] = cars[\"country\"].apply(len)\n",
    "print(cars)"
   ]
  },
  {
   "cell_type": "code",
   "execution_count": 54,
   "id": "9b0d202b",
   "metadata": {},
   "outputs": [
    {
     "name": "stdout",
     "output_type": "stream",
     "text": [
      "     cars_per_cap        country  drives_right  population        COUNTRY\n",
      "US            809  United States          True         751  UNITED STATES\n",
      "AUS           731      Australia         False         845      AUSTRALIA\n",
      "JPN           588          Japan         False         329          JAPAN\n",
      "IN             18          India         False        1589          INDIA\n",
      "RU            200         Russia          True         257         RUSSIA\n",
      "MOR            70        Morocco          True          36        MOROCCO\n",
      "EG             45          Egypt          True          45          EGYPT\n"
     ]
    }
   ],
   "source": [
    "# Import cars data\n",
    "import pandas as pd\n",
    "cars = pd.read_csv('cars.csv', index_col = 0)\n",
    "\n",
    "# Use .apply(str.upper)\n",
    "cars[\"COUNTRY\"] = cars[\"country\"].apply(str.upper)\n",
    "\n",
    "print(cars)"
   ]
  },
  {
   "cell_type": "markdown",
   "id": "4807ccba",
   "metadata": {},
   "source": [
    "##### Thank you for reading until here!"
   ]
  }
 ],
 "metadata": {
  "kernelspec": {
   "display_name": "Python 3 (ipykernel)",
   "language": "python",
   "name": "python3"
  },
  "language_info": {
   "codemirror_mode": {
    "name": "ipython",
    "version": 3
   },
   "file_extension": ".py",
   "mimetype": "text/x-python",
   "name": "python",
   "nbconvert_exporter": "python",
   "pygments_lexer": "ipython3",
   "version": "3.9.12"
  }
 },
 "nbformat": 4,
 "nbformat_minor": 5
}
