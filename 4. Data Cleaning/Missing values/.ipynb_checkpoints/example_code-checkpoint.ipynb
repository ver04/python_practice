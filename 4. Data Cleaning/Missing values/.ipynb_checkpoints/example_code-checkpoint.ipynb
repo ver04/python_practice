{
 "cells": [
  {
   "cell_type": "markdown",
   "id": "7920666d",
   "metadata": {},
   "source": [
    "#### Source: https://medium.com/analytics-vidhya/pandas-csv-cheatsheet-f88abecbe289"
   ]
  },
  {
   "cell_type": "code",
   "execution_count": null,
   "id": "655e7a3d",
   "metadata": {},
   "outputs": [],
   "source": [
    "# return dataframe of Boolean values for null\n",
    "iris_df.isnull()\n",
    "# return dataframe of Boolean values for not null\n",
    "iris_df.notnull()\n",
    "# fill null values with 0\n",
    "iris_df.fillna(0)\n",
    "# drop rows with atleast one null value\n",
    "iris_df.dropna(axis = 0)\n",
    "# drop columns with atleast one null value\n",
    "iris_df.dropna(axis = 1)\n",
    "# keep only the rows with at least 2 not null values\n",
    "iris_df.dropna(axis = 0, thresh=2)"
   ]
  }
 ],
 "metadata": {
  "kernelspec": {
   "display_name": "Python 3 (ipykernel)",
   "language": "python",
   "name": "python3"
  },
  "language_info": {
   "codemirror_mode": {
    "name": "ipython",
    "version": 3
   },
   "file_extension": ".py",
   "mimetype": "text/x-python",
   "name": "python",
   "nbconvert_exporter": "python",
   "pygments_lexer": "ipython3",
   "version": "3.9.12"
  }
 },
 "nbformat": 4,
 "nbformat_minor": 5
}
