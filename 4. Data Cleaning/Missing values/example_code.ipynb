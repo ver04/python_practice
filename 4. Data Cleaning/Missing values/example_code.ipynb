# return dataframe of Boolean values for null
iris_df.isnull()
# return dataframe of Boolean values for not null
iris_df.notnull()
# fill null values with 0
iris_df.fillna(0)
# drop rows with atleast one null value
iris_df.dropna(axis = 0)
# drop columns with atleast one null value
iris_df.dropna(axis = 1)
# keep only the rows with at least 2 not null values
iris_df.dropna(axis = 0, thresh=2)
