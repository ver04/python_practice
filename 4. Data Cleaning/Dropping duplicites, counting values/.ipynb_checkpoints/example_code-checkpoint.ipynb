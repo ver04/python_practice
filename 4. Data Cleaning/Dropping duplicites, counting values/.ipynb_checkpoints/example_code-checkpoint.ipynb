{
 "cells": [
  {
   "cell_type": "markdown",
   "id": "bfcc4f4f",
   "metadata": {},
   "source": [
    "#### Source: https://medium.com/analytics-vidhya/pandas-csv-cheatsheet-f88abecbe289"
   ]
  },
  {
   "cell_type": "code",
   "execution_count": null,
   "id": "56ec72fd",
   "metadata": {},
   "outputs": [],
   "source": [
    "# check if any lines are duplicated\n",
    "iris_df.duplicated()\n",
    "# find duplicates on specific column\n",
    "iris_df.duplicated(subset=['species'])\n",
    "# remove duplicates based on all columns\n",
    "iris_df.drop_duplicates()\n",
    "# remove duplicates based on specific columns\n",
    "iris_df.drop_duplicates(subset=['species'])"
   ]
  }
 ],
 "metadata": {
  "kernelspec": {
   "display_name": "Python 3 (ipykernel)",
   "language": "python",
   "name": "python3"
  },
  "language_info": {
   "codemirror_mode": {
    "name": "ipython",
    "version": 3
   },
   "file_extension": ".py",
   "mimetype": "text/x-python",
   "name": "python",
   "nbconvert_exporter": "python",
   "pygments_lexer": "ipython3",
   "version": "3.9.12"
  }
 },
 "nbformat": 4,
 "nbformat_minor": 5
}
