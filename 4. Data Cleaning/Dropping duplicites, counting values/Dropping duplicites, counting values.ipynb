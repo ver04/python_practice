{
 "cells": [
  {
   "cell_type": "markdown",
   "id": "81373d53",
   "metadata": {},
   "source": [
    "### Imports"
   ]
  },
  {
   "cell_type": "code",
   "execution_count": 23,
   "id": "8d7bde36",
   "metadata": {},
   "outputs": [
    {
     "name": "stdout",
     "output_type": "stream",
     "text": [
      "   Unnamed: 0  store type  department        date  weekly_sales  is_holiday  \\\n",
      "0           0      1    A           1  2010-02-05      24924.50       False   \n",
      "1           1      1    A           1  2010-03-05      21827.90       False   \n",
      "2           2      1    A           1  2010-04-02      57258.43       False   \n",
      "3           3      1    A           1  2010-05-07      17413.94       False   \n",
      "4           4      1    A           1  2010-06-04      17558.09       False   \n",
      "\n",
      "   temperature_c  fuel_price_usd_per_l  unemployment  \n",
      "0       5.727778              0.679451         8.106  \n",
      "1       8.055556              0.693452         8.106  \n",
      "2      16.816667              0.718284         7.808  \n",
      "3      22.527778              0.748928         7.808  \n",
      "4      27.050000              0.714586         7.808  \n"
     ]
    }
   ],
   "source": [
    "import pandas as pd \n",
    "import numpy as np\n",
    "\n",
    "sales = pd.read_csv(\"sales.csv\")\n",
    "print(sales.head())"
   ]
  },
  {
   "cell_type": "code",
   "execution_count": 2,
   "id": "b601a13a",
   "metadata": {},
   "outputs": [
    {
     "data": {
      "text/plain": [
       "(10774, 10)"
      ]
     },
     "execution_count": 2,
     "metadata": {},
     "output_type": "execute_result"
    }
   ],
   "source": [
    "# dataset has 10 774 rows and 10 columns\n",
    "sales.shape"
   ]
  },
  {
   "cell_type": "markdown",
   "id": "bb48f2dd",
   "metadata": {},
   "source": [
    "## Dropping duplicate pairs"
   ]
  },
  {
   "cell_type": "code",
   "execution_count": 4,
   "id": "054a5fe2",
   "metadata": {},
   "outputs": [
    {
     "name": "stdout",
     "output_type": "stream",
     "text": [
      "      Unnamed: 0  store type  department        date  weekly_sales  \\\n",
      "0              0      1    A           1  2010-02-05      24924.50   \n",
      "901          901      2    A           1  2010-02-05      35034.06   \n",
      "1798        1798      4    A           1  2010-02-05      38724.42   \n",
      "2699        2699      6    A           1  2010-02-05      25619.00   \n",
      "3593        3593     10    B           1  2010-02-05      40212.84   \n",
      "\n",
      "      is_holiday  temperature_c  fuel_price_usd_per_l  unemployment  \n",
      "0          False       5.727778              0.679451         8.106  \n",
      "901        False       4.550000              0.679451         8.324  \n",
      "1798       False       6.533333              0.686319         8.623  \n",
      "2699       False       4.683333              0.679451         7.259  \n",
      "3593       False      12.411111              0.782478         9.765  \n"
     ]
    }
   ],
   "source": [
    "# Drop duplicate store/type combinations\n",
    "store_types = sales.drop_duplicates(subset=[\"store\", \"type\"])\n",
    "print(store_types.head())"
   ]
  },
  {
   "cell_type": "code",
   "execution_count": 5,
   "id": "c284bd0b",
   "metadata": {},
   "outputs": [
    {
     "name": "stdout",
     "output_type": "stream",
     "text": [
      "    Unnamed: 0  store type  department        date  weekly_sales  is_holiday  \\\n",
      "0            0      1    A           1  2010-02-05      24924.50       False   \n",
      "12          12      1    A           2  2010-02-05      50605.27       False   \n",
      "24          24      1    A           3  2010-02-05      13740.12       False   \n",
      "36          36      1    A           4  2010-02-05      39954.04       False   \n",
      "48          48      1    A           5  2010-02-05      32229.38       False   \n",
      "\n",
      "    temperature_c  fuel_price_usd_per_l  unemployment  \n",
      "0        5.727778              0.679451         8.106  \n",
      "12       5.727778              0.679451         8.106  \n",
      "24       5.727778              0.679451         8.106  \n",
      "36       5.727778              0.679451         8.106  \n",
      "48       5.727778              0.679451         8.106  \n"
     ]
    }
   ],
   "source": [
    "# Drop duplicate store/department combinations\n",
    "store_depts = sales.drop_duplicates(subset=[\"store\", \"department\"])\n",
    "print(store_depts.head())"
   ]
  },
  {
   "cell_type": "code",
   "execution_count": 8,
   "id": "faa7fee4",
   "metadata": {},
   "outputs": [
    {
     "name": "stdout",
     "output_type": "stream",
     "text": [
      "498     2010-09-10\n",
      "691     2011-11-25\n",
      "2315    2010-02-12\n",
      "6735    2012-09-07\n",
      "6810    2010-12-31\n",
      "6815    2012-02-10\n",
      "6820    2011-09-09\n",
      "Name: date, dtype: object\n"
     ]
    }
   ],
   "source": [
    "# Subset the rows where is_holiday is True and drop duplicate dates\n",
    "holiday_dates = sales[sales[\"is_holiday\"]!= False].drop_duplicates(subset=\"date\")\n",
    "\n",
    "# Print date col of holiday_dates\n",
    "print(holiday_dates[\"date\"])"
   ]
  },
  {
   "cell_type": "markdown",
   "id": "01f18e02",
   "metadata": {},
   "source": [
    "## Counting categorical variables"
   ]
  },
  {
   "cell_type": "markdown",
   "id": "402b303e",
   "metadata": {},
   "source": [
    "Counting is a great way to get an overview of the data and to spot curiosities that you might not notice otherwise."
   ]
  },
  {
   "cell_type": "code",
   "execution_count": 12,
   "id": "f5a07f5b",
   "metadata": {},
   "outputs": [
    {
     "name": "stdout",
     "output_type": "stream",
     "text": [
      "A    11\n",
      "B     1\n",
      "Name: type, dtype: int64\n",
      "A    0.916667\n",
      "B    0.083333\n",
      "Name: type, dtype: float64\n"
     ]
    }
   ],
   "source": [
    "# Count the number of stores of each type\n",
    "store_counts = store_types[\"type\"].value_counts()\n",
    "print(store_counts)\n",
    "\n",
    "# Get the proportion of stores of each type\n",
    "store_props = store_types[\"type\"].value_counts(normalize=True)\n",
    "print(store_props)"
   ]
  },
  {
   "cell_type": "code",
   "execution_count": 14,
   "id": "47a40496",
   "metadata": {},
   "outputs": [
    {
     "name": "stdout",
     "output_type": "stream",
     "text": [
      "1     12\n",
      "55    12\n",
      "72    12\n",
      "71    12\n",
      "67    12\n",
      "      ..\n",
      "37    10\n",
      "48     8\n",
      "50     6\n",
      "39     4\n",
      "43     2\n",
      "Name: department, Length: 80, dtype: int64\n",
      "1     0.012917\n",
      "55    0.012917\n",
      "72    0.012917\n",
      "71    0.012917\n",
      "67    0.012917\n",
      "        ...   \n",
      "37    0.010764\n",
      "48    0.008611\n",
      "50    0.006459\n",
      "39    0.004306\n",
      "43    0.002153\n",
      "Name: department, Length: 80, dtype: float64\n"
     ]
    }
   ],
   "source": [
    "# Count the number of each department number and sort\n",
    "dept_counts_sorted = store_depts[\"department\"].value_counts(sort=True)\n",
    "print(dept_counts_sorted)\n",
    "\n",
    "# Get the proportion of departments of each number and sort\n",
    "dept_props_sorted = store_depts[\"department\"].value_counts(sort=True, normalize=True)\n",
    "print(dept_props_sorted)"
   ]
  },
  {
   "cell_type": "markdown",
   "id": "dba8ac95",
   "metadata": {},
   "source": [
    "### Implementation for Dogs dataset"
   ]
  },
  {
   "cell_type": "code",
   "execution_count": 15,
   "id": "9f9b7129",
   "metadata": {},
   "outputs": [
    {
     "name": "stdout",
     "output_type": "stream",
     "text": [
      "     name             breed  color  height_cm  weight_kg date_of_birth\n",
      "0   Bella         Chihuahua  Brown         18          2    2018-02-05\n",
      "1   Amigo          Labrador  Black         59         35    2016-08-12\n",
      "2  Trevis       St. Bernard  Brown         77         73    2019-07-24\n",
      "3   Golin             Husky  White         55         30    2015-06-18\n",
      "4    Lucy          Labrador  White         51         26    2020-04-29\n",
      "5     Max  Golden Retriever  Brown         49         21    2014-01-20\n",
      "6    Otto            Poodle  Brown         42         20    2013-06-27\n",
      "7    Rexo   German Shepherd  Brown         54         24    2018-05-21\n"
     ]
    }
   ],
   "source": [
    "# importing dataset\n",
    "dogs = pd.read_csv(\"dogs.csv\")\n",
    "print(dogs)"
   ]
  },
  {
   "cell_type": "code",
   "execution_count": 22,
   "id": "898669ca",
   "metadata": {},
   "outputs": [
    {
     "name": "stdout",
     "output_type": "stream",
     "text": [
      "0     Bella\n",
      "1     Amigo\n",
      "2    Trevis\n",
      "3     Golin\n",
      "4      Lucy\n",
      "5       Max\n",
      "6      Otto\n",
      "7      Rexo\n",
      "Name: name, dtype: object\n"
     ]
    }
   ],
   "source": [
    "print(dogs[\"name\"])"
   ]
  },
  {
   "cell_type": "code",
   "execution_count": 35,
   "id": "368880eb",
   "metadata": {
    "scrolled": true
   },
   "outputs": [
    {
     "name": "stdout",
     "output_type": "stream",
     "text": [
      "    name             breed  color  height_cm  weight_kg date_of_birth  \\\n",
      "0  Bella         Chihuahua  Brown         18          2    2018-02-05   \n",
      "1  Amigo          Labrador  Black         59         35    2016-08-12   \n",
      "2  Golin       St. Bernard  Brown         77         73    2019-07-24   \n",
      "3    Max             Husky  White         55         30    2015-06-18   \n",
      "4  Bella          Labrador  White         51         26    2020-04-29   \n",
      "5    Max  Golden Retriever  Brown         49         21    2014-01-20   \n",
      "6  Bella            Poodle  Brown         42         20    2013-06-27   \n",
      "7  Golin   German Shepherd  Brown         54         24    2018-05-21   \n",
      "\n",
      "  date_of_visit  \n",
      "0    2022-12-08  \n",
      "1    2022-05-16  \n",
      "2    2022-06-19  \n",
      "3    2022-01-08  \n",
      "4    2022-01-02  \n",
      "5    2022-03-07  \n",
      "6    2022-07-14  \n",
      "7    2022-10-18  \n"
     ]
    }
   ],
   "source": [
    "# re-creating dogs names\n",
    "new_names = [\"Bella\", \"Amigo\", \"Golin\", \"Max\", \"Bella\", \"Max\", \"Bella\", \"Golin\"]\n",
    "dogs[\"name\"] = np.array(new_names)\n",
    "\n",
    "# creating new column with vet visits\n",
    "dogs[\"date_of_visit\"] = [\"2022-12-08\", \"2022-05-16\", \"2022-06-19\", \"2022-01-08\", \"2022-01-02\", \"2022-03-07\", \"2022-07-14\", \"2022-10-18\"]\n",
    "print(dogs)"
   ]
  },
  {
   "cell_type": "code",
   "execution_count": 32,
   "id": "c2401073",
   "metadata": {},
   "outputs": [
    {
     "name": "stdout",
     "output_type": "stream",
     "text": [
      "    name  height_cm  weight_kg date_of_visit\n",
      "0  Bella         18          2    2022-12-08\n",
      "7  Golin         54         24    2022-10-18\n",
      "6  Bella         42         20    2022-07-14\n",
      "2  Golin         77         73    2022-06-19\n",
      "1  Amigo         59         35    2022-05-16\n",
      "5    Max         49         21    2022-03-07\n",
      "3    Max         55         30    2022-01-08\n",
      "4  Bella         51         26    2022-01-02\n"
     ]
    }
   ],
   "source": [
    "# dropping unnecessary columns\n",
    "vet_visits = dogs.drop([\"breed\", \"color\", \"date_of_birth\"], axis='columns').sort_values(\"date_of_visit\", ascending=False)\n",
    "\n",
    "# new dataset vet_visits\n",
    "print(vet_visits)"
   ]
  },
  {
   "cell_type": "code",
   "execution_count": 34,
   "id": "2c854979",
   "metadata": {},
   "outputs": [],
   "source": [
    "# now we have prepared a new dataset with dogs visits at vet\n",
    "vet_visits.to_csv(r'vet_visits.csv', index=False)"
   ]
  },
  {
   "cell_type": "code",
   "execution_count": 39,
   "id": "184930ef",
   "metadata": {},
   "outputs": [
    {
     "name": "stdout",
     "output_type": "stream",
     "text": [
      "Bella    3\n",
      "Golin    2\n",
      "Max      2\n",
      "Amigo    1\n",
      "Name: name, dtype: int64\n",
      "Bella    0.375\n",
      "Golin    0.250\n",
      "Max      0.250\n",
      "Amigo    0.125\n",
      "Name: name, dtype: float64\n"
     ]
    }
   ],
   "source": [
    "# count the number of dogs and sort\n",
    "dogs_counts = vet_visits[\"name\"].value_counts(sort=True)\n",
    "print(dogs_counts)\n",
    "\n",
    "# get the proportion of dogs and sort\n",
    "dogs_proportions = vet_visits[\"name\"].value_counts(sort=True, normalize=True)\n",
    "print(dogs_proportions)"
   ]
  },
  {
   "cell_type": "code",
   "execution_count": 41,
   "id": "72a3dcdb",
   "metadata": {},
   "outputs": [
    {
     "name": "stdout",
     "output_type": "stream",
     "text": [
      "0    Bella\n",
      "7    Golin\n",
      "1    Amigo\n",
      "5      Max\n",
      "Name: name, dtype: object\n"
     ]
    }
   ],
   "source": [
    "# drop duplicate names\n",
    "dogs_unique = vet_visits.drop_duplicates(subset=[\"name\"])\n",
    "print(dogs_unique[\"name\"])"
   ]
  },
  {
   "cell_type": "markdown",
   "id": "a7c5b2eb",
   "metadata": {},
   "source": [
    "Unique dog names in our dataset are: Bella, Golin, Amigo, Max."
   ]
  }
 ],
 "metadata": {
  "kernelspec": {
   "display_name": "Python 3 (ipykernel)",
   "language": "python",
   "name": "python3"
  },
  "language_info": {
   "codemirror_mode": {
    "name": "ipython",
    "version": 3
   },
   "file_extension": ".py",
   "mimetype": "text/x-python",
   "name": "python",
   "nbconvert_exporter": "python",
   "pygments_lexer": "ipython3",
   "version": "3.9.12"
  }
 },
 "nbformat": 4,
 "nbformat_minor": 5
}
