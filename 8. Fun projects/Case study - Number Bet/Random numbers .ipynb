{
 "cells": [
  {
   "cell_type": "markdown",
   "id": "5e39b57e",
   "metadata": {},
   "source": [
    "## Random numbers"
   ]
  },
  {
   "cell_type": "code",
   "execution_count": 1,
   "id": "14ec106c",
   "metadata": {},
   "outputs": [],
   "source": [
    "import numpy as np"
   ]
  },
  {
   "cell_type": "markdown",
   "id": "7b9a7114",
   "metadata": {},
   "source": [
    "seed(): sets the random seed, so that your results are reproducible between simulations. As an argument, it takes an integer of your choosing. If you call the function, no output will be generated.\n",
    "\n",
    "rand(): if you don't specify any arguments, it generates a random float between zero and one."
   ]
  },
  {
   "cell_type": "code",
   "execution_count": 2,
   "id": "d841db1f",
   "metadata": {},
   "outputs": [
    {
     "name": "stdout",
     "output_type": "stream",
     "text": [
      "0.417022004702574\n"
     ]
    }
   ],
   "source": [
    "# Set the seed\n",
    "np.random.seed(1)\n",
    "\n",
    "# Generate and print random float\n",
    "print(np.random.rand())"
   ]
  },
  {
   "cell_type": "markdown",
   "id": "58a9104d",
   "metadata": {},
   "source": [
    "randint(): also a function of the random package, generates integers randomly."
   ]
  },
  {
   "cell_type": "code",
   "execution_count": 3,
   "id": "b6ffb676",
   "metadata": {},
   "outputs": [
    {
     "name": "stdout",
     "output_type": "stream",
     "text": [
      "5\n"
     ]
    }
   ],
   "source": [
    "# Use randint() to simulate a dice\n",
    "print(np.random.randint(1,7))"
   ]
  }
 ],
 "metadata": {
  "kernelspec": {
   "display_name": "Python 3 (ipykernel)",
   "language": "python",
   "name": "python3"
  },
  "language_info": {
   "codemirror_mode": {
    "name": "ipython",
    "version": 3
   },
   "file_extension": ".py",
   "mimetype": "text/x-python",
   "name": "python",
   "nbconvert_exporter": "python",
   "pygments_lexer": "ipython3",
   "version": "3.9.12"
  }
 },
 "nbformat": 4,
 "nbformat_minor": 5
}
