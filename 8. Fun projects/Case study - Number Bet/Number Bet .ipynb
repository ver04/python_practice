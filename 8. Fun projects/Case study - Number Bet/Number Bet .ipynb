{
 "cells": [
  {
   "cell_type": "markdown",
   "id": "2510e862",
   "metadata": {},
   "source": [
    "## Number Bet 2"
   ]
  },
  {
   "cell_type": "code",
   "execution_count": 3,
   "id": "57ddc737",
   "metadata": {},
   "outputs": [
    {
     "name": "stdout",
     "output_type": "stream",
     "text": [
      "[0, 4, 5, 4, 3, 4, 5, 4, 3, 4, 9, 8, 9, 10, 13, 14, 15, 16, 17, 18, 21, 22, 21, 20, 19, 21, 20, 22, 21, 20, 21, 20, 19, 18, 22, 23, 22, 21, 22, 24, 23, 24, 25, 24, 23, 24, 25, 26, 27, 26, 30, 29, 30, 29, 30, 29, 30, 31, 30, 29, 28, 29, 34, 35, 37, 38, 37, 36, 37, 38, 37, 38, 39, 40, 39, 38, 37, 36, 40, 39, 38, 44, 45, 48, 49, 50, 54, 55, 56, 57, 58, 59, 60, 65, 64, 63, 64, 65, 64, 67, 68]\n"
     ]
    }
   ],
   "source": [
    "import numpy as np\n",
    "\n",
    "np.random.seed(1)\n",
    "\n",
    "# Initialize random_walk\n",
    "random_walk = [0]\n",
    "\n",
    "for x in range(100):\n",
    "     # Set step: last element in random_walk\n",
    "    step = random_walk[-1]\n",
    "\n",
    "    # Roll the dice\n",
    "    dice = np.random.randint(1,7)\n",
    "\n",
    "    # Determine next step\n",
    "    if dice <= 2:\n",
    "        # using max to make sure step can't go below 0\n",
    "        step = max(0, step - 1)\n",
    "    elif dice <= 5:\n",
    "        step = step + 1\n",
    "    else:\n",
    "        step = step + np.random.randint(1,7)\n",
    "\n",
    "    # append next step to random_walk\n",
    "    random_walk.append(step)\n",
    "\n",
    "# Print random_walk\n",
    "print(random_walk)"
   ]
  },
  {
   "cell_type": "markdown",
   "id": "6ce05bfe",
   "metadata": {},
   "source": [
    "#### Visualize the random walk"
   ]
  },
  {
   "cell_type": "code",
   "execution_count": 4,
   "id": "de95d546",
   "metadata": {},
   "outputs": [
    {
     "data": {
      "image/png": "[encoded data removed]",
      "text/plain": [
       "<Figure size 432x288 with 1 Axes>"
      ]
     },
     "metadata": {
      "needs_background": "light"
     },
     "output_type": "display_data"
    }
   ],
   "source": [
    "# Import matplotlib.pyplot as plt\n",
    "import matplotlib.pyplot as plt\n",
    "\n",
    "# Plot random_walk\n",
    "plt.plot(random_walk)\n",
    "\n",
    "# Show the plot\n",
    "plt.show()"
   ]
  },
  {
   "cell_type": "code",
   "execution_count": null,
   "id": "b22f96ef",
   "metadata": {},
   "outputs": [],
   "source": []
  }
 ],
 "metadata": {
  "kernelspec": {
   "display_name": "Python 3 (ipykernel)",
   "language": "python",
   "name": "python3"
  },
  "language_info": {
   "codemirror_mode": {
    "name": "ipython",
    "version": 3
   },
   "file_extension": ".py",
   "mimetype": "text/x-python",
   "name": "python",
   "nbconvert_exporter": "python",
   "pygments_lexer": "ipython3",
   "version": "3.9.12"
  }
 },
 "nbformat": 4,
 "nbformat_minor": 5
}
