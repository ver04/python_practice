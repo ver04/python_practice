{
 "cells": [
  {
   "cell_type": "markdown",
   "id": "cf6a8dca",
   "metadata": {},
   "source": [
    "### Imports"
   ]
  },
  {
   "cell_type": "code",
   "execution_count": 2,
   "id": "9c0330a6",
   "metadata": {},
   "outputs": [
    {
     "name": "stdout",
     "output_type": "stream",
     "text": [
      "     name             breed  color  height_cm  weight_kg date_of_birth\n",
      "0   Bella         Chihuahua  Brown         18          2    2018-02-05\n",
      "1   Amigo          Labrador  Black         59         35    2016-08-12\n",
      "2  Trevis       St. Bernard  Brown         77         73    2019-07-24\n",
      "3   Golin             Husky  White         55         30    2015-06-18\n",
      "4    Lucy          Labrador  White         51         26    2020-04-29\n",
      "5     Max  Golden Retriever  Brown         49         21    2014-01-20\n",
      "6    Otto            Poodle  Brown         42         20    2013-06-27\n",
      "7    Rexo   German Shepherd  Brown         54         24    2018-05-21\n"
     ]
    }
   ],
   "source": [
    "import pandas as pd\n",
    "import numpy as np\n",
    "\n",
    "dogs = pd.read_csv(\"dogs_formatted.csv\")\n",
    "print(dogs)"
   ]
  },
  {
   "cell_type": "markdown",
   "id": "e51716b5",
   "metadata": {},
   "source": [
    "## Groupby() method"
   ]
  },
  {
   "cell_type": "code",
   "execution_count": 2,
   "id": "b1bf729e",
   "metadata": {},
   "outputs": [
    {
     "data": {
      "text/plain": [
       "color\n",
       "Black    35.0\n",
       "Brown    28.0\n",
       "White    28.0\n",
       "Name: weight_kg, dtype: float64"
      ]
     },
     "execution_count": 2,
     "metadata": {},
     "output_type": "execute_result"
    }
   ],
   "source": [
    "dogs.groupby(\"color\")[\"weight_kg\"].mean()"
   ]
  },
  {
   "cell_type": "markdown",
   "id": "aa4b0cc7",
   "metadata": {},
   "source": [
    "## Pivot table() method"
   ]
  },
  {
   "cell_type": "markdown",
   "id": "4f733ce4",
   "metadata": {},
   "source": [
    "Mean of the column"
   ]
  },
  {
   "cell_type": "code",
   "execution_count": 3,
   "id": "af327be6",
   "metadata": {},
   "outputs": [
    {
     "data": {
      "text/html": [
       "<div>\n",
       "<style scoped>\n",
       "    .dataframe tbody tr th:only-of-type {\n",
       "        vertical-align: middle;\n",
       "    }\n",
       "\n",
       "    .dataframe tbody tr th {\n",
       "        vertical-align: top;\n",
       "    }\n",
       "\n",
       "    .dataframe thead th {\n",
       "        text-align: right;\n",
       "    }\n",
       "</style>\n",
       "<table border=\"1\" class=\"dataframe\">\n",
       "  <thead>\n",
       "    <tr style=\"text-align: right;\">\n",
       "      <th></th>\n",
       "      <th>weight_kg</th>\n",
       "    </tr>\n",
       "    <tr>\n",
       "      <th>color</th>\n",
       "      <th></th>\n",
       "    </tr>\n",
       "  </thead>\n",
       "  <tbody>\n",
       "    <tr>\n",
       "      <th>Black</th>\n",
       "      <td>35</td>\n",
       "    </tr>\n",
       "    <tr>\n",
       "      <th>Brown</th>\n",
       "      <td>28</td>\n",
       "    </tr>\n",
       "    <tr>\n",
       "      <th>White</th>\n",
       "      <td>28</td>\n",
       "    </tr>\n",
       "  </tbody>\n",
       "</table>\n",
       "</div>"
      ],
      "text/plain": [
       "       weight_kg\n",
       "color           \n",
       "Black         35\n",
       "Brown         28\n",
       "White         28"
      ]
     },
     "execution_count": 3,
     "metadata": {},
     "output_type": "execute_result"
    }
   ],
   "source": [
    "# pivot tables takes by default the mean value for each group\n",
    "dogs.pivot_table(values=\"weight_kg\", index=\"color\")"
   ]
  },
  {
   "cell_type": "markdown",
   "id": "d92a5f48",
   "metadata": {},
   "source": [
    "Median of the column"
   ]
  },
  {
   "cell_type": "code",
   "execution_count": 4,
   "id": "483826ab",
   "metadata": {},
   "outputs": [
    {
     "data": {
      "text/html": [
       "<div>\n",
       "<style scoped>\n",
       "    .dataframe tbody tr th:only-of-type {\n",
       "        vertical-align: middle;\n",
       "    }\n",
       "\n",
       "    .dataframe tbody tr th {\n",
       "        vertical-align: top;\n",
       "    }\n",
       "\n",
       "    .dataframe thead th {\n",
       "        text-align: right;\n",
       "    }\n",
       "</style>\n",
       "<table border=\"1\" class=\"dataframe\">\n",
       "  <thead>\n",
       "    <tr style=\"text-align: right;\">\n",
       "      <th></th>\n",
       "      <th>weight_kg</th>\n",
       "    </tr>\n",
       "    <tr>\n",
       "      <th>color</th>\n",
       "      <th></th>\n",
       "    </tr>\n",
       "  </thead>\n",
       "  <tbody>\n",
       "    <tr>\n",
       "      <th>Black</th>\n",
       "      <td>35</td>\n",
       "    </tr>\n",
       "    <tr>\n",
       "      <th>Brown</th>\n",
       "      <td>21</td>\n",
       "    </tr>\n",
       "    <tr>\n",
       "      <th>White</th>\n",
       "      <td>28</td>\n",
       "    </tr>\n",
       "  </tbody>\n",
       "</table>\n",
       "</div>"
      ],
      "text/plain": [
       "       weight_kg\n",
       "color           \n",
       "Black         35\n",
       "Brown         21\n",
       "White         28"
      ]
     },
     "execution_count": 4,
     "metadata": {},
     "output_type": "execute_result"
    }
   ],
   "source": [
    "# if we want a different statistics, we write it in aggfunc argument\n",
    "dogs.pivot_table(values=\"weight_kg\", index=\"color\", aggfunc=np.median)"
   ]
  },
  {
   "cell_type": "markdown",
   "id": "0a3582c9",
   "metadata": {},
   "source": [
    "Mean and median of the column"
   ]
  },
  {
   "cell_type": "code",
   "execution_count": 6,
   "id": "fbf8923c",
   "metadata": {},
   "outputs": [
    {
     "data": {
      "text/html": [
       "<div>\n",
       "<style scoped>\n",
       "    .dataframe tbody tr th:only-of-type {\n",
       "        vertical-align: middle;\n",
       "    }\n",
       "\n",
       "    .dataframe tbody tr th {\n",
       "        vertical-align: top;\n",
       "    }\n",
       "\n",
       "    .dataframe thead tr th {\n",
       "        text-align: left;\n",
       "    }\n",
       "\n",
       "    .dataframe thead tr:last-of-type th {\n",
       "        text-align: right;\n",
       "    }\n",
       "</style>\n",
       "<table border=\"1\" class=\"dataframe\">\n",
       "  <thead>\n",
       "    <tr>\n",
       "      <th></th>\n",
       "      <th>mean</th>\n",
       "      <th>median</th>\n",
       "    </tr>\n",
       "    <tr>\n",
       "      <th></th>\n",
       "      <th>weight_kg</th>\n",
       "      <th>weight_kg</th>\n",
       "    </tr>\n",
       "    <tr>\n",
       "      <th>color</th>\n",
       "      <th></th>\n",
       "      <th></th>\n",
       "    </tr>\n",
       "  </thead>\n",
       "  <tbody>\n",
       "    <tr>\n",
       "      <th>Black</th>\n",
       "      <td>35</td>\n",
       "      <td>35</td>\n",
       "    </tr>\n",
       "    <tr>\n",
       "      <th>Brown</th>\n",
       "      <td>28</td>\n",
       "      <td>21</td>\n",
       "    </tr>\n",
       "    <tr>\n",
       "      <th>White</th>\n",
       "      <td>28</td>\n",
       "      <td>28</td>\n",
       "    </tr>\n",
       "  </tbody>\n",
       "</table>\n",
       "</div>"
      ],
      "text/plain": [
       "           mean    median\n",
       "      weight_kg weight_kg\n",
       "color                    \n",
       "Black        35        35\n",
       "Brown        28        21\n",
       "White        28        28"
      ]
     },
     "execution_count": 6,
     "metadata": {},
     "output_type": "execute_result"
    }
   ],
   "source": [
    "dogs.pivot_table(values=\"weight_kg\", index=\"color\", aggfunc=[np.mean, np.median])"
   ]
  },
  {
   "cell_type": "markdown",
   "id": "25b60b9b",
   "metadata": {},
   "source": [
    "## Pivot on two variables"
   ]
  },
  {
   "cell_type": "code",
   "execution_count": 8,
   "id": "aaae7c21",
   "metadata": {},
   "outputs": [
    {
     "data": {
      "text/html": [
       "<div>\n",
       "<style scoped>\n",
       "    .dataframe tbody tr th:only-of-type {\n",
       "        vertical-align: middle;\n",
       "    }\n",
       "\n",
       "    .dataframe tbody tr th {\n",
       "        vertical-align: top;\n",
       "    }\n",
       "\n",
       "    .dataframe thead th {\n",
       "        text-align: right;\n",
       "    }\n",
       "</style>\n",
       "<table border=\"1\" class=\"dataframe\">\n",
       "  <thead>\n",
       "    <tr style=\"text-align: right;\">\n",
       "      <th>breed</th>\n",
       "      <th>Chihuahua</th>\n",
       "      <th>German Shepherd</th>\n",
       "      <th>Golden Retriever</th>\n",
       "      <th>Husky</th>\n",
       "      <th>Labrador</th>\n",
       "      <th>Poodle</th>\n",
       "      <th>St. Bernard</th>\n",
       "    </tr>\n",
       "    <tr>\n",
       "      <th>color</th>\n",
       "      <th></th>\n",
       "      <th></th>\n",
       "      <th></th>\n",
       "      <th></th>\n",
       "      <th></th>\n",
       "      <th></th>\n",
       "      <th></th>\n",
       "    </tr>\n",
       "  </thead>\n",
       "  <tbody>\n",
       "    <tr>\n",
       "      <th>Black</th>\n",
       "      <td>NaN</td>\n",
       "      <td>NaN</td>\n",
       "      <td>NaN</td>\n",
       "      <td>NaN</td>\n",
       "      <td>35.0</td>\n",
       "      <td>NaN</td>\n",
       "      <td>NaN</td>\n",
       "    </tr>\n",
       "    <tr>\n",
       "      <th>Brown</th>\n",
       "      <td>2.0</td>\n",
       "      <td>24.0</td>\n",
       "      <td>21.0</td>\n",
       "      <td>NaN</td>\n",
       "      <td>NaN</td>\n",
       "      <td>20.0</td>\n",
       "      <td>73.0</td>\n",
       "    </tr>\n",
       "    <tr>\n",
       "      <th>White</th>\n",
       "      <td>NaN</td>\n",
       "      <td>NaN</td>\n",
       "      <td>NaN</td>\n",
       "      <td>30.0</td>\n",
       "      <td>26.0</td>\n",
       "      <td>NaN</td>\n",
       "      <td>NaN</td>\n",
       "    </tr>\n",
       "  </tbody>\n",
       "</table>\n",
       "</div>"
      ],
      "text/plain": [
       "breed  Chihuahua  German Shepherd  Golden Retriever  Husky  Labrador  Poodle  \\\n",
       "color                                                                          \n",
       "Black        NaN              NaN               NaN    NaN      35.0     NaN   \n",
       "Brown        2.0             24.0              21.0    NaN       NaN    20.0   \n",
       "White        NaN              NaN               NaN   30.0      26.0     NaN   \n",
       "\n",
       "breed  St. Bernard  \n",
       "color               \n",
       "Black          NaN  \n",
       "Brown         73.0  \n",
       "White          NaN  "
      ]
     },
     "execution_count": 8,
     "metadata": {},
     "output_type": "execute_result"
    }
   ],
   "source": [
    "dogs.pivot_table(values=\"weight_kg\", index=\"color\", columns=\"breed\")"
   ]
  },
  {
   "cell_type": "markdown",
   "id": "307813f3",
   "metadata": {},
   "source": [
    "## Filling missing values in pivot tables"
   ]
  },
  {
   "cell_type": "code",
   "execution_count": 9,
   "id": "a3bc94cf",
   "metadata": {},
   "outputs": [
    {
     "data": {
      "text/html": [
       "<div>\n",
       "<style scoped>\n",
       "    .dataframe tbody tr th:only-of-type {\n",
       "        vertical-align: middle;\n",
       "    }\n",
       "\n",
       "    .dataframe tbody tr th {\n",
       "        vertical-align: top;\n",
       "    }\n",
       "\n",
       "    .dataframe thead th {\n",
       "        text-align: right;\n",
       "    }\n",
       "</style>\n",
       "<table border=\"1\" class=\"dataframe\">\n",
       "  <thead>\n",
       "    <tr style=\"text-align: right;\">\n",
       "      <th>breed</th>\n",
       "      <th>Chihuahua</th>\n",
       "      <th>German Shepherd</th>\n",
       "      <th>Golden Retriever</th>\n",
       "      <th>Husky</th>\n",
       "      <th>Labrador</th>\n",
       "      <th>Poodle</th>\n",
       "      <th>St. Bernard</th>\n",
       "    </tr>\n",
       "    <tr>\n",
       "      <th>color</th>\n",
       "      <th></th>\n",
       "      <th></th>\n",
       "      <th></th>\n",
       "      <th></th>\n",
       "      <th></th>\n",
       "      <th></th>\n",
       "      <th></th>\n",
       "    </tr>\n",
       "  </thead>\n",
       "  <tbody>\n",
       "    <tr>\n",
       "      <th>Black</th>\n",
       "      <td>0</td>\n",
       "      <td>0</td>\n",
       "      <td>0</td>\n",
       "      <td>0</td>\n",
       "      <td>35</td>\n",
       "      <td>0</td>\n",
       "      <td>0</td>\n",
       "    </tr>\n",
       "    <tr>\n",
       "      <th>Brown</th>\n",
       "      <td>2</td>\n",
       "      <td>24</td>\n",
       "      <td>21</td>\n",
       "      <td>0</td>\n",
       "      <td>0</td>\n",
       "      <td>20</td>\n",
       "      <td>73</td>\n",
       "    </tr>\n",
       "    <tr>\n",
       "      <th>White</th>\n",
       "      <td>0</td>\n",
       "      <td>0</td>\n",
       "      <td>0</td>\n",
       "      <td>30</td>\n",
       "      <td>26</td>\n",
       "      <td>0</td>\n",
       "      <td>0</td>\n",
       "    </tr>\n",
       "  </tbody>\n",
       "</table>\n",
       "</div>"
      ],
      "text/plain": [
       "breed  Chihuahua  German Shepherd  Golden Retriever  Husky  Labrador  Poodle  \\\n",
       "color                                                                          \n",
       "Black          0                0                 0      0        35       0   \n",
       "Brown          2               24                21      0         0      20   \n",
       "White          0                0                 0     30        26       0   \n",
       "\n",
       "breed  St. Bernard  \n",
       "color               \n",
       "Black            0  \n",
       "Brown           73  \n",
       "White            0  "
      ]
     },
     "execution_count": 9,
     "metadata": {},
     "output_type": "execute_result"
    }
   ],
   "source": [
    "dogs.pivot_table(values=\"weight_kg\", index=\"color\", columns=\"breed\", fill_value=0)"
   ]
  },
  {
   "cell_type": "markdown",
   "id": "0d493afa",
   "metadata": {},
   "source": [
    "## Summing with pivot tables"
   ]
  },
  {
   "cell_type": "code",
   "execution_count": 10,
   "id": "d324963d",
   "metadata": {},
   "outputs": [
    {
     "data": {
      "text/html": [
       "<div>\n",
       "<style scoped>\n",
       "    .dataframe tbody tr th:only-of-type {\n",
       "        vertical-align: middle;\n",
       "    }\n",
       "\n",
       "    .dataframe tbody tr th {\n",
       "        vertical-align: top;\n",
       "    }\n",
       "\n",
       "    .dataframe thead th {\n",
       "        text-align: right;\n",
       "    }\n",
       "</style>\n",
       "<table border=\"1\" class=\"dataframe\">\n",
       "  <thead>\n",
       "    <tr style=\"text-align: right;\">\n",
       "      <th>breed</th>\n",
       "      <th>Chihuahua</th>\n",
       "      <th>German Shepherd</th>\n",
       "      <th>Golden Retriever</th>\n",
       "      <th>Husky</th>\n",
       "      <th>Labrador</th>\n",
       "      <th>Poodle</th>\n",
       "      <th>St. Bernard</th>\n",
       "      <th>All</th>\n",
       "    </tr>\n",
       "    <tr>\n",
       "      <th>color</th>\n",
       "      <th></th>\n",
       "      <th></th>\n",
       "      <th></th>\n",
       "      <th></th>\n",
       "      <th></th>\n",
       "      <th></th>\n",
       "      <th></th>\n",
       "      <th></th>\n",
       "    </tr>\n",
       "  </thead>\n",
       "  <tbody>\n",
       "    <tr>\n",
       "      <th>Black</th>\n",
       "      <td>0</td>\n",
       "      <td>0</td>\n",
       "      <td>0</td>\n",
       "      <td>0</td>\n",
       "      <td>35.0</td>\n",
       "      <td>0</td>\n",
       "      <td>0</td>\n",
       "      <td>35.000</td>\n",
       "    </tr>\n",
       "    <tr>\n",
       "      <th>Brown</th>\n",
       "      <td>2</td>\n",
       "      <td>24</td>\n",
       "      <td>21</td>\n",
       "      <td>0</td>\n",
       "      <td>0.0</td>\n",
       "      <td>20</td>\n",
       "      <td>73</td>\n",
       "      <td>28.000</td>\n",
       "    </tr>\n",
       "    <tr>\n",
       "      <th>White</th>\n",
       "      <td>0</td>\n",
       "      <td>0</td>\n",
       "      <td>0</td>\n",
       "      <td>30</td>\n",
       "      <td>26.0</td>\n",
       "      <td>0</td>\n",
       "      <td>0</td>\n",
       "      <td>28.000</td>\n",
       "    </tr>\n",
       "    <tr>\n",
       "      <th>All</th>\n",
       "      <td>2</td>\n",
       "      <td>24</td>\n",
       "      <td>21</td>\n",
       "      <td>30</td>\n",
       "      <td>30.5</td>\n",
       "      <td>20</td>\n",
       "      <td>73</td>\n",
       "      <td>28.875</td>\n",
       "    </tr>\n",
       "  </tbody>\n",
       "</table>\n",
       "</div>"
      ],
      "text/plain": [
       "breed  Chihuahua  German Shepherd  Golden Retriever  Husky  Labrador  Poodle  \\\n",
       "color                                                                          \n",
       "Black          0                0                 0      0      35.0       0   \n",
       "Brown          2               24                21      0       0.0      20   \n",
       "White          0                0                 0     30      26.0       0   \n",
       "All            2               24                21     30      30.5      20   \n",
       "\n",
       "breed  St. Bernard     All  \n",
       "color                       \n",
       "Black            0  35.000  \n",
       "Brown           73  28.000  \n",
       "White            0  28.000  \n",
       "All             73  28.875  "
      ]
     },
     "execution_count": 10,
     "metadata": {},
     "output_type": "execute_result"
    }
   ],
   "source": [
    "# All will contain mean of all the values in the column or row, not including the missing values\n",
    "# that were filled in with zeroes\n",
    "dogs.pivot_table(values=\"weight_kg\", index=\"color\", columns=\"breed\", fill_value=0, margins=True)"
   ]
  },
  {
   "cell_type": "markdown",
   "id": "0fe7fb75",
   "metadata": {},
   "source": [
    "## Pivoting the dog pack"
   ]
  },
  {
   "cell_type": "code",
   "execution_count": 4,
   "id": "2f593377",
   "metadata": {},
   "outputs": [
    {
     "name": "stdout",
     "output_type": "stream",
     "text": [
      "color             Black  Brown  White\n",
      "breed                                \n",
      "Chihuahua             0     18      0\n",
      "German Shepherd       0     54      0\n",
      "Golden Retriever      0     49      0\n",
      "Husky                 0      0     55\n",
      "Labrador             59      0     51\n",
      "Poodle                0     42      0\n",
      "St. Bernard           0     77      0\n"
     ]
    }
   ],
   "source": [
    "dogs_height_by_breed_vs_color = dogs.pivot_table(\"height_cm\", index=\"breed\", columns=\"color\", fill_value=0)\n",
    "print(dogs_height_by_breed_vs_color)"
   ]
  },
  {
   "cell_type": "code",
   "execution_count": 5,
   "id": "0f4fb3ae",
   "metadata": {},
   "outputs": [
    {
     "data": {
      "text/html": [
       "<div>\n",
       "<style scoped>\n",
       "    .dataframe tbody tr th:only-of-type {\n",
       "        vertical-align: middle;\n",
       "    }\n",
       "\n",
       "    .dataframe tbody tr th {\n",
       "        vertical-align: top;\n",
       "    }\n",
       "\n",
       "    .dataframe thead th {\n",
       "        text-align: right;\n",
       "    }\n",
       "</style>\n",
       "<table border=\"1\" class=\"dataframe\">\n",
       "  <thead>\n",
       "    <tr style=\"text-align: right;\">\n",
       "      <th>color</th>\n",
       "      <th>Black</th>\n",
       "      <th>Brown</th>\n",
       "      <th>White</th>\n",
       "    </tr>\n",
       "    <tr>\n",
       "      <th>breed</th>\n",
       "      <th></th>\n",
       "      <th></th>\n",
       "      <th></th>\n",
       "    </tr>\n",
       "  </thead>\n",
       "  <tbody>\n",
       "    <tr>\n",
       "      <th>German Shepherd</th>\n",
       "      <td>0</td>\n",
       "      <td>54</td>\n",
       "      <td>0</td>\n",
       "    </tr>\n",
       "    <tr>\n",
       "      <th>Golden Retriever</th>\n",
       "      <td>0</td>\n",
       "      <td>49</td>\n",
       "      <td>0</td>\n",
       "    </tr>\n",
       "    <tr>\n",
       "      <th>Husky</th>\n",
       "      <td>0</td>\n",
       "      <td>0</td>\n",
       "      <td>55</td>\n",
       "    </tr>\n",
       "    <tr>\n",
       "      <th>Labrador</th>\n",
       "      <td>59</td>\n",
       "      <td>0</td>\n",
       "      <td>51</td>\n",
       "    </tr>\n",
       "  </tbody>\n",
       "</table>\n",
       "</div>"
      ],
      "text/plain": [
       "color             Black  Brown  White\n",
       "breed                                \n",
       "German Shepherd       0     54      0\n",
       "Golden Retriever      0     49      0\n",
       "Husky                 0      0     55\n",
       "Labrador             59      0     51"
      ]
     },
     "execution_count": 5,
     "metadata": {},
     "output_type": "execute_result"
    }
   ],
   "source": [
    "dogs_height_by_breed_vs_color.loc[\"German Shepherd\":\"Labrador\"]"
   ]
  },
  {
   "cell_type": "markdown",
   "id": "9fd6655c",
   "metadata": {},
   "source": [
    "Axis argument"
   ]
  },
  {
   "cell_type": "code",
   "execution_count": 6,
   "id": "559244eb",
   "metadata": {},
   "outputs": [
    {
     "data": {
      "text/plain": [
       "color\n",
       "Black     8.428571\n",
       "Brown    34.285714\n",
       "White    15.142857\n",
       "dtype: float64"
      ]
     },
     "execution_count": 6,
     "metadata": {},
     "output_type": "execute_result"
    }
   ],
   "source": [
    "# calculate mean per each color\n",
    "dogs_height_by_breed_vs_color.mean(axis=\"index\")"
   ]
  },
  {
   "cell_type": "code",
   "execution_count": 7,
   "id": "33022cb8",
   "metadata": {},
   "outputs": [
    {
     "data": {
      "text/plain": [
       "breed\n",
       "Chihuahua            6.000000\n",
       "German Shepherd     18.000000\n",
       "Golden Retriever    16.333333\n",
       "Husky               18.333333\n",
       "Labrador            36.666667\n",
       "Poodle              14.000000\n",
       "St. Bernard         25.666667\n",
       "dtype: float64"
      ]
     },
     "execution_count": 7,
     "metadata": {},
     "output_type": "execute_result"
    }
   ],
   "source": [
    "# calculating summary stats across columns (mean per breed)\n",
    "dogs_height_by_breed_vs_color.mean(axis=\"columns\")"
   ]
  }
 ],
 "metadata": {
  "kernelspec": {
   "display_name": "Python 3 (ipykernel)",
   "language": "python",
   "name": "python3"
  },
  "language_info": {
   "codemirror_mode": {
    "name": "ipython",
    "version": 3
   },
   "file_extension": ".py",
   "mimetype": "text/x-python",
   "name": "python",
   "nbconvert_exporter": "python",
   "pygments_lexer": "ipython3",
   "version": "3.9.12"
  }
 },
 "nbformat": 4,
 "nbformat_minor": 5
}
