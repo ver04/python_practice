{
 "cells": [
  {
   "cell_type": "markdown",
   "id": "e74dedeb",
   "metadata": {},
   "source": [
    "### Imports"
   ]
  },
  {
   "cell_type": "code",
   "execution_count": 2,
   "id": "3b23a27e",
   "metadata": {},
   "outputs": [
    {
     "name": "stdout",
     "output_type": "stream",
     "text": [
      "     name             breed  color  height_cm  weight_kg date_of_birth\n",
      "0   Bella         Chihuahua  Brown         18          2    2018-02-05\n",
      "1   Amigo          Labrador  Black         59         35    2016-08-12\n",
      "2  Trevis       St. Bernard  Brown         77         73    2019-07-24\n",
      "3   Golin             Husky  White         55         30    2015-06-18\n",
      "4    Lucy          Labrador  White         51         26    2020-04-29\n",
      "5     Max  Golden Retriever  Brown         49         21    2014-01-20\n",
      "6    Otto            Poodle  Brown         42         20    2013-06-27\n",
      "7    Rexo   German Shepherd  Brown         54         24    2018-05-21\n"
     ]
    }
   ],
   "source": [
    "import pandas as pd\n",
    "import numpy as np\n",
    "\n",
    "dogs = pd.read_csv(\"dogs_formatted.csv\")\n",
    "print(dogs)"
   ]
  },
  {
   "cell_type": "markdown",
   "id": "36e9b2f4",
   "metadata": {},
   "source": [
    "## Grouped summary statistics"
   ]
  },
  {
   "cell_type": "code",
   "execution_count": 4,
   "id": "7dff7f8b",
   "metadata": {},
   "outputs": [
    {
     "data": {
      "text/plain": [
       "color\n",
       "Black    35.0\n",
       "Brown    28.0\n",
       "White    28.0\n",
       "Name: weight_kg, dtype: float64"
      ]
     },
     "execution_count": 4,
     "metadata": {},
     "output_type": "execute_result"
    }
   ],
   "source": [
    "# print average weight by color\n",
    "dogs.groupby(\"color\")[\"weight_kg\"].mean()"
   ]
  },
  {
   "cell_type": "markdown",
   "id": "87b2a2fd",
   "metadata": {},
   "source": [
    "The highest weight have dogs with black color."
   ]
  },
  {
   "cell_type": "markdown",
   "id": "00d36749",
   "metadata": {},
   "source": [
    "## Multiple grouped summaries"
   ]
  },
  {
   "cell_type": "code",
   "execution_count": 6,
   "id": "9b65d668",
   "metadata": {},
   "outputs": [
    {
     "data": {
      "text/html": [
       "<div>\n",
       "<style scoped>\n",
       "    .dataframe tbody tr th:only-of-type {\n",
       "        vertical-align: middle;\n",
       "    }\n",
       "\n",
       "    .dataframe tbody tr th {\n",
       "        vertical-align: top;\n",
       "    }\n",
       "\n",
       "    .dataframe thead th {\n",
       "        text-align: right;\n",
       "    }\n",
       "</style>\n",
       "<table border=\"1\" class=\"dataframe\">\n",
       "  <thead>\n",
       "    <tr style=\"text-align: right;\">\n",
       "      <th></th>\n",
       "      <th>min</th>\n",
       "      <th>max</th>\n",
       "      <th>sum</th>\n",
       "    </tr>\n",
       "    <tr>\n",
       "      <th>color</th>\n",
       "      <th></th>\n",
       "      <th></th>\n",
       "      <th></th>\n",
       "    </tr>\n",
       "  </thead>\n",
       "  <tbody>\n",
       "    <tr>\n",
       "      <th>Black</th>\n",
       "      <td>35</td>\n",
       "      <td>35</td>\n",
       "      <td>35</td>\n",
       "    </tr>\n",
       "    <tr>\n",
       "      <th>Brown</th>\n",
       "      <td>2</td>\n",
       "      <td>73</td>\n",
       "      <td>140</td>\n",
       "    </tr>\n",
       "    <tr>\n",
       "      <th>White</th>\n",
       "      <td>26</td>\n",
       "      <td>30</td>\n",
       "      <td>56</td>\n",
       "    </tr>\n",
       "  </tbody>\n",
       "</table>\n",
       "</div>"
      ],
      "text/plain": [
       "       min  max  sum\n",
       "color               \n",
       "Black   35   35   35\n",
       "Brown    2   73  140\n",
       "White   26   30   56"
      ]
     },
     "execution_count": 6,
     "metadata": {},
     "output_type": "execute_result"
    }
   ],
   "source": [
    "# print min, max, sum of weight by each color\n",
    "dogs.groupby(\"color\")[\"weight_kg\"].agg([min, max, sum])"
   ]
  },
  {
   "cell_type": "markdown",
   "id": "ef548680",
   "metadata": {},
   "source": [
    "## Grouping by multiple variables"
   ]
  },
  {
   "cell_type": "code",
   "execution_count": 7,
   "id": "8e317ef8",
   "metadata": {},
   "outputs": [
    {
     "data": {
      "text/plain": [
       "color  breed           \n",
       "Black  Labrador            35.0\n",
       "Brown  Chihuahua            2.0\n",
       "       German Shepherd     24.0\n",
       "       Golden Retriever    21.0\n",
       "       Poodle              20.0\n",
       "       St. Bernard         73.0\n",
       "White  Husky               30.0\n",
       "       Labrador            26.0\n",
       "Name: weight_kg, dtype: float64"
      ]
     },
     "execution_count": 7,
     "metadata": {},
     "output_type": "execute_result"
    }
   ],
   "source": [
    "# print average weight by color and breed\n",
    "dogs.groupby([\"color\",\"breed\"])[\"weight_kg\"].mean()"
   ]
  },
  {
   "cell_type": "markdown",
   "id": "a2b345c6",
   "metadata": {},
   "source": [
    "## Many groups, many summaries"
   ]
  },
  {
   "cell_type": "code",
   "execution_count": 10,
   "id": "0736608c",
   "metadata": {},
   "outputs": [
    {
     "data": {
      "text/html": [
       "<div>\n",
       "<style scoped>\n",
       "    .dataframe tbody tr th:only-of-type {\n",
       "        vertical-align: middle;\n",
       "    }\n",
       "\n",
       "    .dataframe tbody tr th {\n",
       "        vertical-align: top;\n",
       "    }\n",
       "\n",
       "    .dataframe thead th {\n",
       "        text-align: right;\n",
       "    }\n",
       "</style>\n",
       "<table border=\"1\" class=\"dataframe\">\n",
       "  <thead>\n",
       "    <tr style=\"text-align: right;\">\n",
       "      <th></th>\n",
       "      <th></th>\n",
       "      <th>weight_kg</th>\n",
       "      <th>height_cm</th>\n",
       "    </tr>\n",
       "    <tr>\n",
       "      <th>color</th>\n",
       "      <th>breed</th>\n",
       "      <th></th>\n",
       "      <th></th>\n",
       "    </tr>\n",
       "  </thead>\n",
       "  <tbody>\n",
       "    <tr>\n",
       "      <th>Black</th>\n",
       "      <th>Labrador</th>\n",
       "      <td>35.0</td>\n",
       "      <td>59.0</td>\n",
       "    </tr>\n",
       "    <tr>\n",
       "      <th rowspan=\"5\" valign=\"top\">Brown</th>\n",
       "      <th>Chihuahua</th>\n",
       "      <td>2.0</td>\n",
       "      <td>18.0</td>\n",
       "    </tr>\n",
       "    <tr>\n",
       "      <th>German Shepherd</th>\n",
       "      <td>24.0</td>\n",
       "      <td>54.0</td>\n",
       "    </tr>\n",
       "    <tr>\n",
       "      <th>Golden Retriever</th>\n",
       "      <td>21.0</td>\n",
       "      <td>49.0</td>\n",
       "    </tr>\n",
       "    <tr>\n",
       "      <th>Poodle</th>\n",
       "      <td>20.0</td>\n",
       "      <td>42.0</td>\n",
       "    </tr>\n",
       "    <tr>\n",
       "      <th>St. Bernard</th>\n",
       "      <td>73.0</td>\n",
       "      <td>77.0</td>\n",
       "    </tr>\n",
       "    <tr>\n",
       "      <th rowspan=\"2\" valign=\"top\">White</th>\n",
       "      <th>Husky</th>\n",
       "      <td>30.0</td>\n",
       "      <td>55.0</td>\n",
       "    </tr>\n",
       "    <tr>\n",
       "      <th>Labrador</th>\n",
       "      <td>26.0</td>\n",
       "      <td>51.0</td>\n",
       "    </tr>\n",
       "  </tbody>\n",
       "</table>\n",
       "</div>"
      ],
      "text/plain": [
       "                        weight_kg  height_cm\n",
       "color breed                                 \n",
       "Black Labrador               35.0       59.0\n",
       "Brown Chihuahua               2.0       18.0\n",
       "      German Shepherd        24.0       54.0\n",
       "      Golden Retriever       21.0       49.0\n",
       "      Poodle                 20.0       42.0\n",
       "      St. Bernard            73.0       77.0\n",
       "White Husky                  30.0       55.0\n",
       "      Labrador               26.0       51.0"
      ]
     },
     "execution_count": 10,
     "metadata": {},
     "output_type": "execute_result"
    }
   ],
   "source": [
    "# print average weight & height by color and breed\n",
    "dogs.groupby([\"color\",\"breed\"])[[\"weight_kg\", \"height_cm\"]].mean()"
   ]
  }
 ],
 "metadata": {
  "kernelspec": {
   "display_name": "Python 3 (ipykernel)",
   "language": "python",
   "name": "python3"
  },
  "language_info": {
   "codemirror_mode": {
    "name": "ipython",
    "version": 3
   },
   "file_extension": ".py",
   "mimetype": "text/x-python",
   "name": "python",
   "nbconvert_exporter": "python",
   "pygments_lexer": "ipython3",
   "version": "3.9.12"
  }
 },
 "nbformat": 4,
 "nbformat_minor": 5
}
