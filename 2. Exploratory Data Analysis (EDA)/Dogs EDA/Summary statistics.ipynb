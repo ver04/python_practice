{
 "cells": [
  {
   "cell_type": "markdown",
   "id": "d4a3a69e",
   "metadata": {},
   "source": [
    "### Imports"
   ]
  },
  {
   "cell_type": "code",
   "execution_count": 17,
   "id": "8d138583",
   "metadata": {},
   "outputs": [
    {
     "name": "stdout",
     "output_type": "stream",
     "text": [
      "     name        breed  color  height_cm  weight_kg date_of_birth\n",
      "0   Bella    Chihuahua  Brown         18          2    2018-02-05\n",
      "1   Amigo     Labrador  Black         59         35    2016-08-12\n",
      "2  Trevis  St. Bernard  Brown         77         73    2019-07-24\n",
      "3   Golin        Husky  White         55         30    2015-06-18\n",
      "4    Lucy     Labrador  White         51         26    2020-04-29\n"
     ]
    }
   ],
   "source": [
    "import pandas as pd\n",
    "import numpy as np\n",
    "\n",
    "dogs = pd.read_csv(\"dogs.csv\")\n",
    "print(dogs.head())"
   ]
  },
  {
   "cell_type": "markdown",
   "id": "36e48d6d",
   "metadata": {},
   "source": [
    "# Basic statistics"
   ]
  },
  {
   "cell_type": "markdown",
   "id": "69348494",
   "metadata": {},
   "source": [
    "####  Most common:\n",
    "- <code><b>.mean() </b></code> <br>\n",
    "- <code>.median() , .mode() </code> <br>\n",
    "- <code>.min() , .max() </code>  - minimum, maximum<br> \n",
    "- <code>.var() , .std() </code>  - variance, standard deviation<br>\n",
    "- <code>.sum() </code> <br>"
   ]
  },
  {
   "cell_type": "code",
   "execution_count": 3,
   "id": "f05827b5",
   "metadata": {},
   "outputs": [
    {
     "data": {
      "text/plain": [
       "50.625"
      ]
     },
     "execution_count": 3,
     "metadata": {},
     "output_type": "execute_result"
    }
   ],
   "source": [
    "# mean() = where the center of the data is\n",
    "dogs[\"height_cm\"].mean()"
   ]
  },
  {
   "cell_type": "code",
   "execution_count": 5,
   "id": "e28cbe7d",
   "metadata": {},
   "outputs": [
    {
     "name": "stdout",
     "output_type": "stream",
     "text": [
      "2013-06-27\n",
      "2020-04-29\n"
     ]
    }
   ],
   "source": [
    "# youngest dog \n",
    "print(dogs[\"date_of_birth\"].min())\n",
    "# oldest dog\n",
    "print(dogs[\"date_of_birth\"].max())"
   ]
  },
  {
   "cell_type": "markdown",
   "id": "3f102de1",
   "metadata": {},
   "source": [
    "## Calculate percentile of columns"
   ]
  },
  {
   "cell_type": "code",
   "execution_count": 9,
   "id": "d24477ea",
   "metadata": {},
   "outputs": [],
   "source": [
    "# .agg() method = allows to create custom statistics\n",
    "def pct30(column):\n",
    "    return column.quantile(0.3)\n",
    "\n",
    "def pct40(column):\n",
    "    return column.quantile(0.4)"
   ]
  },
  {
   "cell_type": "code",
   "execution_count": 10,
   "id": "8aabc2c4",
   "metadata": {},
   "outputs": [
    {
     "data": {
      "text/plain": [
       "pct30    21.3\n",
       "pct40    23.4\n",
       "Name: weight_kg, dtype: float64"
      ]
     },
     "execution_count": 10,
     "metadata": {},
     "output_type": "execute_result"
    }
   ],
   "source": [
    "dogs[\"weight_kg\"].agg([pct30, pct40])"
   ]
  },
  {
   "cell_type": "code",
   "execution_count": 11,
   "id": "8b467ad8",
   "metadata": {},
   "outputs": [
    {
     "data": {
      "text/plain": [
       "weight_kg    21.3\n",
       "height_cm    49.2\n",
       "dtype: float64"
      ]
     },
     "execution_count": 11,
     "metadata": {},
     "output_type": "execute_result"
    }
   ],
   "source": [
    "dogs[[\"weight_kg\", \"height_cm\"]].agg(pct30)"
   ]
  },
  {
   "cell_type": "code",
   "execution_count": 20,
   "id": "07c55289",
   "metadata": {},
   "outputs": [
    {
     "name": "stdout",
     "output_type": "stream",
     "text": [
      "        weight_kg  height_cm\n",
      "iqr          10.5       8.75\n",
      "median       25.0      52.50\n"
     ]
    }
   ],
   "source": [
    "def iqr(column):\n",
    "    return column.quantile(0.75) - column.quantile(0.25)\n",
    "\n",
    "# Update to print IQR and median of \n",
    "print(dogs[[\"weight_kg\", \"height_cm\"]].agg([iqr, np.median]))"
   ]
  },
  {
   "cell_type": "markdown",
   "id": "67da0cc1",
   "metadata": {},
   "source": [
    "## Cumulative sum of column"
   ]
  },
  {
   "cell_type": "markdown",
   "id": "bcedc547",
   "metadata": {},
   "source": [
    "#### Cumulative statistics:\n",
    "- <code><b> .cumsum() </b> </code> <br>\n",
    "- <code> .cummax() </code> <br>\n",
    "- <code> .cummin()</code> <br>\n",
    "- <code> .cumprod()</code> <br>"
   ]
  },
  {
   "cell_type": "code",
   "execution_count": 13,
   "id": "07cd4012",
   "metadata": {},
   "outputs": [
    {
     "data": {
      "text/plain": [
       "0     2\n",
       "1    35\n",
       "2    73\n",
       "3    30\n",
       "4    26\n",
       "5    21\n",
       "6    20\n",
       "7    24\n",
       "Name: weight_kg, dtype: int64"
      ]
     },
     "execution_count": 13,
     "metadata": {},
     "output_type": "execute_result"
    }
   ],
   "source": [
    "dogs[\"weight_kg\"]"
   ]
  },
  {
   "cell_type": "code",
   "execution_count": 12,
   "id": "8768fb27",
   "metadata": {},
   "outputs": [
    {
     "data": {
      "text/plain": [
       "0      2\n",
       "1     37\n",
       "2    110\n",
       "3    140\n",
       "4    166\n",
       "5    187\n",
       "6    207\n",
       "7    231\n",
       "Name: weight_kg, dtype: int64"
      ]
     },
     "execution_count": 12,
     "metadata": {},
     "output_type": "execute_result"
    }
   ],
   "source": [
    "dogs[\"weight_kg\"].cumsum()"
   ]
  },
  {
   "cell_type": "code",
   "execution_count": 29,
   "id": "1692fb1c",
   "metadata": {},
   "outputs": [
    {
     "name": "stdout",
     "output_type": "stream",
     "text": [
      "     name             breed  color  height_cm  weight_kg date_of_birth  \\\n",
      "0   Bella         Chihuahua  Brown         18          2    2018-02-05   \n",
      "1   Amigo          Labrador  Black         59         35    2016-08-12   \n",
      "2  Trevis       St. Bernard  Brown         77         73    2019-07-24   \n",
      "3   Golin             Husky  White         55         30    2015-06-18   \n",
      "4    Lucy          Labrador  White         51         26    2020-04-29   \n",
      "5     Max  Golden Retriever  Brown         49         21    2014-01-20   \n",
      "6    Otto            Poodle  Brown         42         20    2013-06-27   \n",
      "7    Rexo   German Shepherd  Brown         54         24    2018-05-21   \n",
      "\n",
      "   weekly_food  \n",
      "0            5  \n",
      "1           14  \n",
      "2           28  \n",
      "3           15  \n",
      "4           20  \n",
      "5           16  \n",
      "6           13  \n",
      "7           22  \n"
     ]
    }
   ],
   "source": [
    "weekly_food = [5, 14, 28, 15, 20, 16, 13, 22]\n",
    "dogs[\"weekly_food\"] = np.array(weekly_food)\n",
    "print(dogs)"
   ]
  },
  {
   "cell_type": "code",
   "execution_count": 30,
   "id": "9b68fbc4",
   "metadata": {},
   "outputs": [
    {
     "data": {
      "text/plain": [
       "0     5\n",
       "1    14\n",
       "2    28\n",
       "3    28\n",
       "4    28\n",
       "5    28\n",
       "6    28\n",
       "7    28\n",
       "Name: weekly_food, dtype: int32"
      ]
     },
     "execution_count": 30,
     "metadata": {},
     "output_type": "execute_result"
    }
   ],
   "source": [
    "dogs[\"weekly_food\"].cummax()"
   ]
  }
 ],
 "metadata": {
  "kernelspec": {
   "display_name": "Python 3 (ipykernel)",
   "language": "python",
   "name": "python3"
  },
  "language_info": {
   "codemirror_mode": {
    "name": "ipython",
    "version": 3
   },
   "file_extension": ".py",
   "mimetype": "text/x-python",
   "name": "python",
   "nbconvert_exporter": "python",
   "pygments_lexer": "ipython3",
   "version": "3.9.12"
  }
 },
 "nbformat": 4,
 "nbformat_minor": 5
}
