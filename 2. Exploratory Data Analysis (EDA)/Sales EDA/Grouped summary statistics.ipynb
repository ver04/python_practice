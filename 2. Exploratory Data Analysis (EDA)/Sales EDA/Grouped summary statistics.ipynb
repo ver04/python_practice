{
 "cells": [
  {
   "cell_type": "markdown",
   "id": "3bb55fb3",
   "metadata": {},
   "source": [
    "### Imports"
   ]
  },
  {
   "cell_type": "code",
   "execution_count": 2,
   "id": "3d6221bf",
   "metadata": {},
   "outputs": [
    {
     "name": "stdout",
     "output_type": "stream",
     "text": [
      "   Unnamed: 0  store type  department        date  weekly_sales  is_holiday  \\\n",
      "0           0      1    A           1  2010-02-05      24924.50       False   \n",
      "1           1      1    A           1  2010-03-05      21827.90       False   \n",
      "2           2      1    A           1  2010-04-02      57258.43       False   \n",
      "3           3      1    A           1  2010-05-07      17413.94       False   \n",
      "4           4      1    A           1  2010-06-04      17558.09       False   \n",
      "\n",
      "   temperature_c  fuel_price_usd_per_l  unemployment  \n",
      "0       5.727778              0.679451         8.106  \n",
      "1       8.055556              0.693452         8.106  \n",
      "2      16.816667              0.718284         7.808  \n",
      "3      22.527778              0.748928         7.808  \n",
      "4      27.050000              0.714586         7.808  \n"
     ]
    }
   ],
   "source": [
    "import pandas as pd\n",
    "import numpy as np\n",
    "\n",
    "sales = pd.read_csv(\"sales.csv\")\n",
    "print(sales.head())"
   ]
  },
  {
   "cell_type": "code",
   "execution_count": 9,
   "id": "a75a8367",
   "metadata": {},
   "outputs": [
    {
     "name": "stdout",
     "output_type": "stream",
     "text": [
      "256894718.89999998\n"
     ]
    }
   ],
   "source": [
    "# Calc mean weekly sales\n",
    "sales_all = sales[\"weekly_sales\"].agg(sum)\n",
    "print(sales_all)"
   ]
  },
  {
   "cell_type": "code",
   "execution_count": 11,
   "id": "4d258134",
   "metadata": {},
   "outputs": [
    {
     "name": "stdout",
     "output_type": "stream",
     "text": [
      "23843.950148505668\n"
     ]
    }
   ],
   "source": [
    "# Calc mean weekly sales\n",
    "sales_mean = sales[\"weekly_sales\"].mean()\n",
    "print(sales_mean)"
   ]
  },
  {
   "cell_type": "markdown",
   "id": "dfa13d2b",
   "metadata": {},
   "source": [
    "## Total weekly sales by store - one by one"
   ]
  },
  {
   "cell_type": "code",
   "execution_count": 17,
   "id": "8f3d4d6b",
   "metadata": {},
   "outputs": [
    {
     "name": "stdout",
     "output_type": "stream",
     "text": [
      "233716315.01\n",
      "23178403.89\n",
      "0.0\n"
     ]
    }
   ],
   "source": [
    "# Subset for type A stores, calc total weekly sales\n",
    "sales_A = sales[sales[\"type\"] == \"A\"][\"weekly_sales\"].agg(sum)\n",
    "print(sales_A)\n",
    "\n",
    "# Subset for type B stores, calc total weekly sales\n",
    "sales_B = sales[sales[\"type\"] == \"B\"][\"weekly_sales\"].agg(sum)\n",
    "print(sales_B)\n",
    "\n",
    "# Subset for type C stores, calc total weekly sales\n",
    "sales_C = sales[sales[\"type\"] == \"C\"][\"weekly_sales\"].agg(sum)\n",
    "print(sales_C)"
   ]
  },
  {
   "cell_type": "markdown",
   "id": "50fc87d3",
   "metadata": {},
   "source": [
    "About 91% of sales occurred in stores of type A', 9% in stores of type B, and there are no sales records for stores of type C."
   ]
  },
  {
   "cell_type": "markdown",
   "id": "e2713ed9",
   "metadata": {},
   "source": [
    "## Proportion of weekly sales by store - groupby()"
   ]
  },
  {
   "cell_type": "code",
   "execution_count": 19,
   "id": "9152f412",
   "metadata": {},
   "outputs": [
    {
     "name": "stdout",
     "output_type": "stream",
     "text": [
      "type\n",
      "A    2.337163e+08\n",
      "B    2.317840e+07\n",
      "Name: weekly_sales, dtype: float64\n",
      "type\n",
      "A    0.909775\n",
      "B    0.090225\n",
      "Name: weekly_sales, dtype: float64\n"
     ]
    }
   ],
   "source": [
    "# Group by type; calc total weekly sales\n",
    "sales_by_type = sales.groupby(\"type\")[\"weekly_sales\"].agg(sum)\n",
    "print(sales_by_type)\n",
    "\n",
    "# Get proportion for each type\n",
    "sales_propn_by_type = sales_by_type / sum(sales[\"weekly_sales\"])\n",
    "print(sales_propn_by_type)"
   ]
  },
  {
   "cell_type": "code",
   "execution_count": 20,
   "id": "b099f1d3",
   "metadata": {},
   "outputs": [
    {
     "name": "stdout",
     "output_type": "stream",
     "text": [
      "type  is_holiday\n",
      "A     False         2.336927e+08\n",
      "      True          2.360181e+04\n",
      "B     False         2.317678e+07\n",
      "      True          1.621410e+03\n",
      "Name: weekly_sales, dtype: float64\n"
     ]
    }
   ],
   "source": [
    "# From previous step\n",
    "sales_by_type = sales.groupby(\"type\")[\"weekly_sales\"].sum()\n",
    "\n",
    "# Group by type and is_holiday; calc total weekly sales\n",
    "sales_by_type_is_holiday = sales.groupby([\"type\", \"is_holiday\"])[\"weekly_sales\"].sum()\n",
    "print(sales_by_type_is_holiday)"
   ]
  },
  {
   "cell_type": "markdown",
   "id": "4f313c61",
   "metadata": {},
   "source": [
    "## Multiple grouped summaries"
   ]
  },
  {
   "cell_type": "code",
   "execution_count": 24,
   "id": "4a33ba1d",
   "metadata": {},
   "outputs": [
    {
     "name": "stdout",
     "output_type": "stream",
     "text": [
      "         min        max          mean    median\n",
      "type                                           \n",
      "A    -1098.0  293966.05  23674.667242  11943.92\n",
      "B     -798.0  232558.51  25696.678370  13336.08\n"
     ]
    }
   ],
   "source": [
    "# For each store type, aggregate weekly_sales: get min, max, mean, and median\n",
    "sales_stats = sales.groupby(\"type\")[\"weekly_sales\"].agg([min, max, 'mean', 'median'])\n",
    "print(sales_stats)\n",
    "\n",
    "# Another way - using numpy\n",
    "# sales_stats = sales.groupby(\"type\")[\"weekly_sales\"].agg([min, max, np.mean, np.median])"
   ]
  },
  {
   "cell_type": "code",
   "execution_count": 25,
   "id": "ed45caac",
   "metadata": {},
   "outputs": [
    {
     "name": "stdout",
     "output_type": "stream",
     "text": [
      "     unemployment                         fuel_price_usd_per_l            \\\n",
      "              min    max      mean median                  min       max   \n",
      "type                                                                       \n",
      "A           3.879  8.992  7.972611  8.067             0.664129  1.107410   \n",
      "B           7.170  9.765  9.279323  9.199             0.760023  1.107674   \n",
      "\n",
      "                          \n",
      "          mean    median  \n",
      "type                      \n",
      "A     0.744619  0.735455  \n",
      "B     0.805858  0.803348  \n"
     ]
    }
   ],
   "source": [
    "# For each store type, aggregate unemployment and fuel_price_usd_per_l: get min, max, mean, and median\n",
    "unemp_fuel_stats = sales.groupby(\"type\")[[\"unemployment\", \"fuel_price_usd_per_l\"]].agg([min, max, 'mean', 'median'])\n",
    "print(unemp_fuel_stats)"
   ]
  },
  {
   "cell_type": "code",
   "execution_count": null,
   "id": "a96c9bc9",
   "metadata": {},
   "outputs": [],
   "source": []
  }
 ],
 "metadata": {
  "kernelspec": {
   "display_name": "Python 3 (ipykernel)",
   "language": "python",
   "name": "python3"
  },
  "language_info": {
   "codemirror_mode": {
    "name": "ipython",
    "version": 3
   },
   "file_extension": ".py",
   "mimetype": "text/x-python",
   "name": "python",
   "nbconvert_exporter": "python",
   "pygments_lexer": "ipython3",
   "version": "3.9.12"
  }
 },
 "nbformat": 4,
 "nbformat_minor": 5
}
