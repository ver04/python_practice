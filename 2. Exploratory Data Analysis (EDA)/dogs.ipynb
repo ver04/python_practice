{
 "cells": [
  {
   "cell_type": "markdown",
   "id": "66e1e952",
   "metadata": {},
   "source": [
    "## Dogs EDA"
   ]
  },
  {
   "cell_type": "code",
   "execution_count": 2,
   "id": "f52471ad",
   "metadata": {},
   "outputs": [],
   "source": [
    "import numpy as np\n",
    "import pandas as pd"
   ]
  },
  {
   "cell_type": "markdown",
   "id": "9e7d9521",
   "metadata": {},
   "source": [
    "<code>.head()</code> : returns the first few rows <br> \n",
    "<code>.info()</code> : shows information on each of the columns, such as the data type and number of missing values <br> \n",
    "<code>.shape</code> : returns the number of rows and columns of the DataFrame <br> \n",
    "<code>.describe()</code> : calculates a few summary statistics for each column <br> \n",
    "\n",
    "<code>.values</code> : A two-dimensional Numpy array of values   <br> \n",
    "<code>.columns</code> : An index of columns (the column names) <br> \n",
    "<code>.index </code>: An index of the rows (either row numbers or row names) <br> "
   ]
  },
  {
   "cell_type": "code",
   "execution_count": 4,
   "id": "5f0cb205",
   "metadata": {},
   "outputs": [
    {
     "name": "stdout",
     "output_type": "stream",
     "text": [
      "     Name             Breed  Color  Height  Weight Date of birth\n",
      "0   Bella         Chihuahua  Brown      18       2    2018-02-05\n",
      "1   Amigo          Labrador  Black      59      35    2016-08-12\n",
      "2  Trevis       St. Bernard  Brown      77      73    2019-07-24\n",
      "3   Golin             Husky  White      55      30    2015-06-18\n",
      "4    Lucy          Labrador  White      51      26    2020-04-29\n",
      "5     Max  Golden Retriever  Brown      49      21    2014-01-20\n",
      "6    Otto            Poodle  Brown      42      20    2013-06-27\n",
      "7    Rexo   German Shepherd  Brown      54      24    2018-05-21\n"
     ]
    }
   ],
   "source": [
    "dogs = pd.read_csv(\"dogs.csv\")\n",
    "print(dogs)"
   ]
  },
  {
   "cell_type": "code",
   "execution_count": 9,
   "id": "c9075ad7",
   "metadata": {},
   "outputs": [
    {
     "data": {
      "text/html": [
       "<div>\n",
       "<style scoped>\n",
       "    .dataframe tbody tr th:only-of-type {\n",
       "        vertical-align: middle;\n",
       "    }\n",
       "\n",
       "    .dataframe tbody tr th {\n",
       "        vertical-align: top;\n",
       "    }\n",
       "\n",
       "    .dataframe thead th {\n",
       "        text-align: right;\n",
       "    }\n",
       "</style>\n",
       "<table border=\"1\" class=\"dataframe\">\n",
       "  <thead>\n",
       "    <tr style=\"text-align: right;\">\n",
       "      <th></th>\n",
       "      <th>Name</th>\n",
       "      <th>Breed</th>\n",
       "      <th>Color</th>\n",
       "      <th>Height</th>\n",
       "      <th>Weight</th>\n",
       "      <th>Date of birth</th>\n",
       "    </tr>\n",
       "  </thead>\n",
       "  <tbody>\n",
       "    <tr>\n",
       "      <th>0</th>\n",
       "      <td>Bella</td>\n",
       "      <td>Chihuahua</td>\n",
       "      <td>Brown</td>\n",
       "      <td>18</td>\n",
       "      <td>2</td>\n",
       "      <td>2018-02-05</td>\n",
       "    </tr>\n",
       "    <tr>\n",
       "      <th>1</th>\n",
       "      <td>Amigo</td>\n",
       "      <td>Labrador</td>\n",
       "      <td>Black</td>\n",
       "      <td>59</td>\n",
       "      <td>35</td>\n",
       "      <td>2016-08-12</td>\n",
       "    </tr>\n",
       "    <tr>\n",
       "      <th>2</th>\n",
       "      <td>Trevis</td>\n",
       "      <td>St. Bernard</td>\n",
       "      <td>Brown</td>\n",
       "      <td>77</td>\n",
       "      <td>73</td>\n",
       "      <td>2019-07-24</td>\n",
       "    </tr>\n",
       "    <tr>\n",
       "      <th>3</th>\n",
       "      <td>Golin</td>\n",
       "      <td>Husky</td>\n",
       "      <td>White</td>\n",
       "      <td>55</td>\n",
       "      <td>30</td>\n",
       "      <td>2015-06-18</td>\n",
       "    </tr>\n",
       "    <tr>\n",
       "      <th>4</th>\n",
       "      <td>Lucy</td>\n",
       "      <td>Labrador</td>\n",
       "      <td>White</td>\n",
       "      <td>51</td>\n",
       "      <td>26</td>\n",
       "      <td>2020-04-29</td>\n",
       "    </tr>\n",
       "  </tbody>\n",
       "</table>\n",
       "</div>"
      ],
      "text/plain": [
       "     Name        Breed  Color  Height  Weight Date of birth\n",
       "0   Bella    Chihuahua  Brown      18       2    2018-02-05\n",
       "1   Amigo     Labrador  Black      59      35    2016-08-12\n",
       "2  Trevis  St. Bernard  Brown      77      73    2019-07-24\n",
       "3   Golin        Husky  White      55      30    2015-06-18\n",
       "4    Lucy     Labrador  White      51      26    2020-04-29"
      ]
     },
     "execution_count": 9,
     "metadata": {},
     "output_type": "execute_result"
    }
   ],
   "source": [
    "# first 5 rows - by default\n",
    "dogs.head()"
   ]
  },
  {
   "cell_type": "code",
   "execution_count": 10,
   "id": "89d7a70f",
   "metadata": {},
   "outputs": [
    {
     "data": {
      "text/html": [
       "<div>\n",
       "<style scoped>\n",
       "    .dataframe tbody tr th:only-of-type {\n",
       "        vertical-align: middle;\n",
       "    }\n",
       "\n",
       "    .dataframe tbody tr th {\n",
       "        vertical-align: top;\n",
       "    }\n",
       "\n",
       "    .dataframe thead th {\n",
       "        text-align: right;\n",
       "    }\n",
       "</style>\n",
       "<table border=\"1\" class=\"dataframe\">\n",
       "  <thead>\n",
       "    <tr style=\"text-align: right;\">\n",
       "      <th></th>\n",
       "      <th>Name</th>\n",
       "      <th>Breed</th>\n",
       "      <th>Color</th>\n",
       "      <th>Height</th>\n",
       "      <th>Weight</th>\n",
       "      <th>Date of birth</th>\n",
       "    </tr>\n",
       "  </thead>\n",
       "  <tbody>\n",
       "    <tr>\n",
       "      <th>0</th>\n",
       "      <td>Bella</td>\n",
       "      <td>Chihuahua</td>\n",
       "      <td>Brown</td>\n",
       "      <td>18</td>\n",
       "      <td>2</td>\n",
       "      <td>2018-02-05</td>\n",
       "    </tr>\n",
       "    <tr>\n",
       "      <th>1</th>\n",
       "      <td>Amigo</td>\n",
       "      <td>Labrador</td>\n",
       "      <td>Black</td>\n",
       "      <td>59</td>\n",
       "      <td>35</td>\n",
       "      <td>2016-08-12</td>\n",
       "    </tr>\n",
       "    <tr>\n",
       "      <th>2</th>\n",
       "      <td>Trevis</td>\n",
       "      <td>St. Bernard</td>\n",
       "      <td>Brown</td>\n",
       "      <td>77</td>\n",
       "      <td>73</td>\n",
       "      <td>2019-07-24</td>\n",
       "    </tr>\n",
       "  </tbody>\n",
       "</table>\n",
       "</div>"
      ],
      "text/plain": [
       "     Name        Breed  Color  Height  Weight Date of birth\n",
       "0   Bella    Chihuahua  Brown      18       2    2018-02-05\n",
       "1   Amigo     Labrador  Black      59      35    2016-08-12\n",
       "2  Trevis  St. Bernard  Brown      77      73    2019-07-24"
      ]
     },
     "execution_count": 10,
     "metadata": {},
     "output_type": "execute_result"
    }
   ],
   "source": [
    "# first 3 rows\n",
    "dogs.head(3)"
   ]
  },
  {
   "cell_type": "code",
   "execution_count": 11,
   "id": "68a6bd6e",
   "metadata": {},
   "outputs": [
    {
     "name": "stdout",
     "output_type": "stream",
     "text": [
      "<class 'pandas.core.frame.DataFrame'>\n",
      "RangeIndex: 8 entries, 0 to 7\n",
      "Data columns (total 6 columns):\n",
      " #   Column         Non-Null Count  Dtype \n",
      "---  ------         --------------  ----- \n",
      " 0   Name           8 non-null      object\n",
      " 1   Breed          8 non-null      object\n",
      " 2   Color          8 non-null      object\n",
      " 3   Height         8 non-null      int64 \n",
      " 4   Weight         8 non-null      int64 \n",
      " 5   Date of birth  8 non-null      object\n",
      "dtypes: int64(2), object(4)\n",
      "memory usage: 512.0+ bytes\n"
     ]
    }
   ],
   "source": [
    "dogs.info()"
   ]
  },
  {
   "cell_type": "markdown",
   "id": "a2597726",
   "metadata": {},
   "source": [
    "We have no empty values in dataset."
   ]
  },
  {
   "cell_type": "code",
   "execution_count": 12,
   "id": "8e51e82a",
   "metadata": {},
   "outputs": [
    {
     "data": {
      "text/plain": [
       "(8, 6)"
      ]
     },
     "execution_count": 12,
     "metadata": {},
     "output_type": "execute_result"
    }
   ],
   "source": [
    "dogs.shape"
   ]
  },
  {
   "cell_type": "markdown",
   "id": "74e68292",
   "metadata": {},
   "source": [
    "The dataset has 8 rows with data (+ 1 row with column indexes) and 6 columns."
   ]
  },
  {
   "cell_type": "code",
   "execution_count": 13,
   "id": "b151715c",
   "metadata": {},
   "outputs": [
    {
     "data": {
      "text/html": [
       "<div>\n",
       "<style scoped>\n",
       "    .dataframe tbody tr th:only-of-type {\n",
       "        vertical-align: middle;\n",
       "    }\n",
       "\n",
       "    .dataframe tbody tr th {\n",
       "        vertical-align: top;\n",
       "    }\n",
       "\n",
       "    .dataframe thead th {\n",
       "        text-align: right;\n",
       "    }\n",
       "</style>\n",
       "<table border=\"1\" class=\"dataframe\">\n",
       "  <thead>\n",
       "    <tr style=\"text-align: right;\">\n",
       "      <th></th>\n",
       "      <th>Height</th>\n",
       "      <th>Weight</th>\n",
       "    </tr>\n",
       "  </thead>\n",
       "  <tbody>\n",
       "    <tr>\n",
       "      <th>count</th>\n",
       "      <td>8.000000</td>\n",
       "      <td>8.000000</td>\n",
       "    </tr>\n",
       "    <tr>\n",
       "      <th>mean</th>\n",
       "      <td>50.625000</td>\n",
       "      <td>28.875000</td>\n",
       "    </tr>\n",
       "    <tr>\n",
       "      <th>std</th>\n",
       "      <td>16.638488</td>\n",
       "      <td>20.286783</td>\n",
       "    </tr>\n",
       "    <tr>\n",
       "      <th>min</th>\n",
       "      <td>18.000000</td>\n",
       "      <td>2.000000</td>\n",
       "    </tr>\n",
       "    <tr>\n",
       "      <th>25%</th>\n",
       "      <td>47.250000</td>\n",
       "      <td>20.750000</td>\n",
       "    </tr>\n",
       "    <tr>\n",
       "      <th>50%</th>\n",
       "      <td>52.500000</td>\n",
       "      <td>25.000000</td>\n",
       "    </tr>\n",
       "    <tr>\n",
       "      <th>75%</th>\n",
       "      <td>56.000000</td>\n",
       "      <td>31.250000</td>\n",
       "    </tr>\n",
       "    <tr>\n",
       "      <th>max</th>\n",
       "      <td>77.000000</td>\n",
       "      <td>73.000000</td>\n",
       "    </tr>\n",
       "  </tbody>\n",
       "</table>\n",
       "</div>"
      ],
      "text/plain": [
       "          Height     Weight\n",
       "count   8.000000   8.000000\n",
       "mean   50.625000  28.875000\n",
       "std    16.638488  20.286783\n",
       "min    18.000000   2.000000\n",
       "25%    47.250000  20.750000\n",
       "50%    52.500000  25.000000\n",
       "75%    56.000000  31.250000\n",
       "max    77.000000  73.000000"
      ]
     },
     "execution_count": 13,
     "metadata": {},
     "output_type": "execute_result"
    }
   ],
   "source": [
    "dogs.describe()"
   ]
  },
  {
   "cell_type": "code",
   "execution_count": 14,
   "id": "33c1d9e0",
   "metadata": {},
   "outputs": [
    {
     "data": {
      "text/plain": [
       "array([['Bella', 'Chihuahua', 'Brown', 18, 2, '2018-02-05'],\n",
       "       ['Amigo', 'Labrador', 'Black', 59, 35, '2016-08-12'],\n",
       "       ['Trevis', 'St. Bernard', 'Brown', 77, 73, '2019-07-24'],\n",
       "       ['Golin', 'Husky', 'White', 55, 30, '2015-06-18'],\n",
       "       ['Lucy', 'Labrador', 'White', 51, 26, '2020-04-29'],\n",
       "       ['Max', 'Golden Retriever', 'Brown', 49, 21, '2014-01-20'],\n",
       "       ['Otto', 'Poodle', 'Brown', 42, 20, '2013-06-27'],\n",
       "       ['Rexo', 'German Shepherd', 'Brown', 54, 24, '2018-05-21']],\n",
       "      dtype=object)"
      ]
     },
     "execution_count": 14,
     "metadata": {},
     "output_type": "execute_result"
    }
   ],
   "source": [
    "dogs.values"
   ]
  },
  {
   "cell_type": "code",
   "execution_count": 15,
   "id": "3ac42189",
   "metadata": {},
   "outputs": [
    {
     "data": {
      "text/plain": [
       "Index(['Name', 'Breed', 'Color', 'Height', 'Weight', 'Date of birth'], dtype='object')"
      ]
     },
     "execution_count": 15,
     "metadata": {},
     "output_type": "execute_result"
    }
   ],
   "source": [
    "dogs.columns"
   ]
  },
  {
   "cell_type": "code",
   "execution_count": 16,
   "id": "0b969d0c",
   "metadata": {},
   "outputs": [
    {
     "data": {
      "text/plain": [
       "RangeIndex(start=0, stop=8, step=1)"
      ]
     },
     "execution_count": 16,
     "metadata": {},
     "output_type": "execute_result"
    }
   ],
   "source": [
    "dogs.index"
   ]
  }
 ],
 "metadata": {
  "kernelspec": {
   "display_name": "Python 3 (ipykernel)",
   "language": "python",
   "name": "python3"
  },
  "language_info": {
   "codemirror_mode": {
    "name": "ipython",
    "version": 3
   },
   "file_extension": ".py",
   "mimetype": "text/x-python",
   "name": "python",
   "nbconvert_exporter": "python",
   "pygments_lexer": "ipython3",
   "version": "3.9.12"
  }
 },
 "nbformat": 4,
 "nbformat_minor": 5
}
