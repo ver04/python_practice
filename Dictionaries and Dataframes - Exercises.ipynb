{
 "cells": [
  {
   "cell_type": "markdown",
   "id": "26bc45fc",
   "metadata": {},
   "source": [
    "#### Import packages"
   ]
  },
  {
   "cell_type": "code",
   "execution_count": 14,
   "id": "61419234",
   "metadata": {},
   "outputs": [],
   "source": [
    "import numpy as np\n",
    "import pandas as pd"
   ]
  },
  {
   "cell_type": "markdown",
   "id": "aabb1cc8",
   "metadata": {},
   "source": [
    "### Simple dictionary"
   ]
  },
  {
   "cell_type": "code",
   "execution_count": 15,
   "id": "b5597322",
   "metadata": {},
   "outputs": [],
   "source": [
    "# Create a dictionary with keys = countries and values = capitals\n",
    "europe = {'spain':'madrid', 'france':'paris', 'germany':'berlin', 'norway':'oslo', 'australia':'vienna' }"
   ]
  },
  {
   "cell_type": "code",
   "execution_count": 16,
   "id": "5805f9dc",
   "metadata": {},
   "outputs": [
    {
     "name": "stdout",
     "output_type": "stream",
     "text": [
      "dict_keys(['spain', 'france', 'germany', 'norway', 'australia'])\n"
     ]
    }
   ],
   "source": [
    "# Print out the keys in europe\n",
    "print(europe.keys())"
   ]
  },
  {
   "cell_type": "code",
   "execution_count": 17,
   "id": "445bee58",
   "metadata": {},
   "outputs": [
    {
     "name": "stdout",
     "output_type": "stream",
     "text": [
      "oslo\n"
     ]
    }
   ],
   "source": [
    "# Print out value that belongs to key 'norway'\n",
    "print(europe['norway'])"
   ]
  },
  {
   "cell_type": "code",
   "execution_count": 18,
   "id": "60e9c2bc",
   "metadata": {},
   "outputs": [],
   "source": [
    "# Add italy to europe\n",
    "europe['italy'] = 'milan'"
   ]
  },
  {
   "cell_type": "code",
   "execution_count": 19,
   "id": "05a3376a",
   "metadata": {},
   "outputs": [
    {
     "name": "stdout",
     "output_type": "stream",
     "text": [
      "True\n"
     ]
    }
   ],
   "source": [
    "# Is italy in europe\n",
    "print('italy' in europe)"
   ]
  },
  {
   "cell_type": "code",
   "execution_count": 20,
   "id": "366e1369",
   "metadata": {},
   "outputs": [],
   "source": [
    "# Add poland to europe\n",
    "europe['poland'] = 'warsaw'"
   ]
  },
  {
   "cell_type": "code",
   "execution_count": 21,
   "id": "4dfe2f5b",
   "metadata": {},
   "outputs": [
    {
     "name": "stdout",
     "output_type": "stream",
     "text": [
      "{'spain': 'madrid', 'france': 'paris', 'germany': 'berlin', 'norway': 'oslo', 'australia': 'vienna', 'italy': 'milan', 'poland': 'warsaw'}\n"
     ]
    }
   ],
   "source": [
    "# Print europe\n",
    "print(europe)"
   ]
  },
  {
   "cell_type": "code",
   "execution_count": 22,
   "id": "959e1768",
   "metadata": {},
   "outputs": [
    {
     "name": "stdout",
     "output_type": "stream",
     "text": [
      "{'spain': 'madrid', 'france': 'paris', 'germany': 'berlin', 'norway': 'oslo', 'italy': 'rome', 'poland': 'warsaw'}\n"
     ]
    }
   ],
   "source": [
    "# Update capital of italy\n",
    "europe['italy'] = 'rome'\n",
    "\n",
    "# Remove australia\n",
    "del(europe['australia'])\n",
    "\n",
    "# Print europe\n",
    "print(europe)"
   ]
  },
  {
   "cell_type": "markdown",
   "id": "1352f2e7",
   "metadata": {},
   "source": [
    "### Dictionary of dictionaries"
   ]
  },
  {
   "cell_type": "code",
   "execution_count": 23,
   "id": "c0182335",
   "metadata": {},
   "outputs": [],
   "source": [
    "# Dictionary of dictionaries\n",
    "europe = { 'spain': { 'capital':'madrid', 'population':46.77 },\n",
    "           'france': { 'capital':'paris', 'population':66.03 },\n",
    "           'germany': { 'capital':'berlin', 'population':80.62 },\n",
    "           'norway': { 'capital':'oslo', 'population':5.084 } }"
   ]
  },
  {
   "cell_type": "code",
   "execution_count": 24,
   "id": "f283eb6f",
   "metadata": {},
   "outputs": [
    {
     "name": "stdout",
     "output_type": "stream",
     "text": [
      "66.03\n"
     ]
    }
   ],
   "source": [
    "# Print out the capital of France\n",
    "print(europe['france']['population'])"
   ]
  },
  {
   "cell_type": "code",
   "execution_count": 25,
   "id": "6c573427",
   "metadata": {},
   "outputs": [
    {
     "name": "stdout",
     "output_type": "stream",
     "text": [
      "{'spain': {'capital': 'madrid', 'population': 46.77}, 'france': {'capital': 'paris', 'population': 66.03}, 'germany': {'capital': 'berlin', 'population': 80.62}, 'norway': {'capital': 'oslo', 'population': 5.084}, 'italy': {'capital': 'rome', 'population': 59.83}}\n"
     ]
    }
   ],
   "source": [
    "# Create sub-dictionary data\n",
    "data = {\n",
    "        'capital' : 'rome',\n",
    "        'population' : 59.83\n",
    "}\n",
    "\n",
    "# Add data to europe under key 'italy'\n",
    "europe['italy'] = data\n",
    "\n",
    "# Print europe\n",
    "print(europe)"
   ]
  },
  {
   "cell_type": "markdown",
   "id": "968ca01d",
   "metadata": {},
   "source": [
    "### Dictionary to Dataframe"
   ]
  },
  {
   "cell_type": "code",
   "execution_count": 26,
   "id": "9010d85b",
   "metadata": {},
   "outputs": [
    {
     "name": "stdout",
     "output_type": "stream",
     "text": [
      "         country  drives_right  cars_per_cap\n",
      "0  United States          True           809\n",
      "1      Australia         False           731\n",
      "2          Japan         False           588\n",
      "3          India         False            18\n",
      "4         Russia          True           200\n",
      "5        Morocco          True            70\n",
      "6          Egypt          True            45\n"
     ]
    }
   ],
   "source": [
    "# Pre-defined lists\n",
    "names = ['United States', 'Australia', 'Japan', 'India', 'Russia', 'Morocco', 'Egypt']\n",
    "dr =  [True, False, False, False, True, True, True]\n",
    "cpc = [809, 731, 588, 18, 200, 70, 45]\n",
    "\n",
    "\n",
    "# Create dictionary my_dict with three key:value pairs: my_dict\n",
    "my_dict = { 'country' : names, \n",
    "            'drives_right' : dr, \n",
    "            'cars_per_cap' : cpc\n",
    "            }\n",
    "\n",
    "# Build a DataFrame cars from my_dict: cars\n",
    "cars = pd.DataFrame(my_dict)\n",
    "\n",
    "# Print cars\n",
    "print(cars)"
   ]
  },
  {
   "cell_type": "code",
   "execution_count": 27,
   "id": "92a8d374",
   "metadata": {},
   "outputs": [
    {
     "name": "stdout",
     "output_type": "stream",
     "text": [
      "           country  drives_right  cars_per_cap\n",
      "US   United States          True           809\n",
      "AUS      Australia         False           731\n",
      "JPN          Japan         False           588\n",
      "IN           India         False            18\n",
      "RU          Russia          True           200\n",
      "MOR        Morocco          True            70\n",
      "EG           Egypt          True            45\n"
     ]
    }
   ],
   "source": [
    "# Definition of row_labels\n",
    "row_labels = ['US', 'AUS', 'JPN', 'IN', 'RU', 'MOR', 'EG']\n",
    "\n",
    "# Specify row labels of cars\n",
    "cars.index = row_labels\n",
    "\n",
    "# Print cars again\n",
    "print(cars)"
   ]
  },
  {
   "cell_type": "markdown",
   "id": "b8be70b0",
   "metadata": {},
   "source": [
    "### Import Dataframe from CSV"
   ]
  },
  {
   "cell_type": "code",
   "execution_count": 32,
   "id": "888610cb",
   "metadata": {},
   "outputs": [
    {
     "name": "stdout",
     "output_type": "stream",
     "text": [
      "     cars_per_cap        country  drives_right  population\n",
      "US            809  United States          True         751\n",
      "AUS           731      Australia         False         845\n",
      "JPN           588          Japan         False         329\n",
      "IN             18          India         False        1589\n",
      "RU            200         Russia          True         257\n",
      "MOR            70        Morocco          True          36\n",
      "EG             45          Egypt          True          45\n"
     ]
    }
   ],
   "source": [
    "# Import pandas as pd\n",
    "import pandas as pd\n",
    "\n",
    "# Fix import by including index_col\n",
    "cars = pd.read_csv('cars.csv', index_col = 0)\n",
    "\n",
    "# Print out cars\n",
    "print(cars)"
   ]
  },
  {
   "cell_type": "code",
   "execution_count": 33,
   "id": "714c85b7",
   "metadata": {},
   "outputs": [
    {
     "name": "stdout",
     "output_type": "stream",
     "text": [
      "           country  cars_per_cap\n",
      "US   United States           809\n",
      "AUS      Australia           731\n",
      "JPN          Japan           588\n",
      "IN           India            18\n",
      "RU          Russia           200\n",
      "MOR        Morocco            70\n",
      "EG           Egypt            45\n"
     ]
    }
   ],
   "source": [
    "# Create sub-dataframe\n",
    "print(cars[[\"country\", \"cars_per_cap\"]])"
   ]
  },
  {
   "cell_type": "code",
   "execution_count": 34,
   "id": "788f4b8c",
   "metadata": {},
   "outputs": [
    {
     "name": "stdout",
     "output_type": "stream",
     "text": [
      "<class 'pandas.core.series.Series'>\n"
     ]
    }
   ],
   "source": [
    "# Type of object\n",
    "print(type(cars[\"country\"]))"
   ]
  },
  {
   "cell_type": "markdown",
   "id": "fb5af4ad",
   "metadata": {},
   "source": [
    "### Selecting part of the Dataframe table"
   ]
  },
  {
   "cell_type": "markdown",
   "id": "31bbb4dd",
   "metadata": {},
   "source": [
    "In the table, we are counting rows from 0 (indexing). The header stands apart."
   ]
  },
  {
   "cell_type": "code",
   "execution_count": 36,
   "id": "810e0168",
   "metadata": {},
   "outputs": [
    {
     "name": "stdout",
     "output_type": "stream",
     "text": [
      "     cars_per_cap    country  drives_right  population\n",
      "AUS           731  Australia         False         845\n",
      "JPN           588      Japan         False         329\n",
      "IN             18      India         False        1589\n"
     ]
    }
   ],
   "source": [
    "# Slicer\n",
    "print(cars[1:4])"
   ]
  },
  {
   "cell_type": "markdown",
   "id": "1494e9d1",
   "metadata": {},
   "source": [
    "##### .loc - uses row labels"
   ]
  },
  {
   "cell_type": "code",
   "execution_count": 53,
   "id": "e890ab49",
   "metadata": {},
   "outputs": [
    {
     "name": "stdout",
     "output_type": "stream",
     "text": [
      "cars_per_cap       200\n",
      "country         Russia\n",
      "drives_right      True\n",
      "population         257\n",
      "Name: RU, dtype: object\n"
     ]
    }
   ],
   "source": [
    "# Print Pandas Series\n",
    "print(cars.loc[\"RU\"])"
   ]
  },
  {
   "cell_type": "code",
   "execution_count": 54,
   "id": "5f8d8c56",
   "metadata": {},
   "outputs": [
    {
     "name": "stdout",
     "output_type": "stream",
     "text": [
      "    cars_per_cap country  drives_right  population\n",
      "RU           200  Russia          True         257\n"
     ]
    }
   ],
   "source": [
    "# Print DataFrame\n",
    "print(cars.loc[[\"RU\"]])"
   ]
  },
  {
   "cell_type": "code",
   "execution_count": 55,
   "id": "84f39beb",
   "metadata": {},
   "outputs": [
    {
     "name": "stdout",
     "output_type": "stream",
     "text": [
      "     cars_per_cap  population\n",
      "RU            200         257\n",
      "MOR            70          36\n"
     ]
    }
   ],
   "source": [
    "# Print dataframe - slicer on selected columns and rows\n",
    "print(cars.loc[[\"RU\", \"MOR\"] , [\"cars_per_cap\", \"population\"]])"
   ]
  },
  {
   "cell_type": "code",
   "execution_count": 56,
   "id": "f3d79b94",
   "metadata": {},
   "outputs": [
    {
     "name": "stdout",
     "output_type": "stream",
     "text": [
      "     cars_per_cap  population\n",
      "US            809         751\n",
      "AUS           731         845\n",
      "JPN           588         329\n",
      "IN             18        1589\n",
      "RU            200         257\n",
      "MOR            70          36\n",
      "EG             45          45\n"
     ]
    }
   ],
   "source": [
    "# Print dataframe - slicer on selected columns, all rows\n",
    "print(cars.loc[: , [\"cars_per_cap\", \"population\"]])"
   ]
  },
  {
   "cell_type": "markdown",
   "id": "1a5c26fe",
   "metadata": {},
   "source": [
    "##### .iloc - uses position/index of items"
   ]
  },
  {
   "cell_type": "code",
   "execution_count": 57,
   "id": "71c171fc",
   "metadata": {},
   "outputs": [
    {
     "name": "stdout",
     "output_type": "stream",
     "text": [
      "     cars_per_cap    country  drives_right  population\n",
      "AUS           731  Australia         False         845\n"
     ]
    }
   ],
   "source": [
    "# Select subset of dataframe\n",
    "print(cars.iloc[[1]])"
   ]
  },
  {
   "cell_type": "code",
   "execution_count": 58,
   "id": "a666dbe8",
   "metadata": {},
   "outputs": [
    {
     "name": "stdout",
     "output_type": "stream",
     "text": [
      "     cars_per_cap    country\n",
      "AUS           731  Australia\n",
      "JPN           588      Japan\n",
      "IN             18      India\n"
     ]
    }
   ],
   "source": [
    "# Select subset of dataframe\n",
    "print(cars.iloc[[1,2,3], [0,1]])"
   ]
  },
  {
   "cell_type": "markdown",
   "id": "ecd43eeb",
   "metadata": {},
   "source": [
    "##### Thank you for reading until here!"
   ]
  }
 ],
 "metadata": {
  "kernelspec": {
   "display_name": "Python 3 (ipykernel)",
   "language": "python",
   "name": "python3"
  },
  "language_info": {
   "codemirror_mode": {
    "name": "ipython",
    "version": 3
   },
   "file_extension": ".py",
   "mimetype": "text/x-python",
   "name": "python",
   "nbconvert_exporter": "python",
   "pygments_lexer": "ipython3",
   "version": "3.9.12"
  }
 },
 "nbformat": 4,
 "nbformat_minor": 5
}
